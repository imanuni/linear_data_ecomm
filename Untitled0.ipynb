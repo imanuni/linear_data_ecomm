{
  "nbformat": 4,
  "nbformat_minor": 0,
  "metadata": {
    "colab": {
      "provenance": [],
      "toc_visible": true,
      "authorship_tag": "ABX9TyO0hleX1Vo6lLCr5Y4d1aN/",
      "include_colab_link": true
    },
    "kernelspec": {
      "name": "python3",
      "display_name": "Python 3"
    },
    "language_info": {
      "name": "python"
    }
  },
  "cells": [
    {
      "cell_type": "markdown",
      "metadata": {
        "id": "view-in-github",
        "colab_type": "text"
      },
      "source": [
        "<a href=\"https://colab.research.google.com/github/imanuni/linear_data_ecomm/blob/main/Untitled0.ipynb\" target=\"_parent\"><img src=\"https://colab.research.google.com/assets/colab-badge.svg\" alt=\"Open In Colab\"/></a>"
      ]
    },
    {
      "cell_type": "code",
      "execution_count": null,
      "metadata": {
        "colab": {
          "base_uri": "https://localhost:8080/"
        },
        "id": "l8dGTsbOOjAa",
        "outputId": "98b35594-feca-4cda-8534-9b8ece94f0bc"
      },
      "outputs": [
        {
          "output_type": "stream",
          "name": "stdout",
          "text": [
            "Requirement already satisfied: pandas in /usr/local/lib/python3.10/dist-packages (1.5.3)\n",
            "Requirement already satisfied: python-dateutil>=2.8.1 in /usr/local/lib/python3.10/dist-packages (from pandas) (2.8.2)\n",
            "Requirement already satisfied: pytz>=2020.1 in /usr/local/lib/python3.10/dist-packages (from pandas) (2023.3.post1)\n",
            "Requirement already satisfied: numpy>=1.21.0 in /usr/local/lib/python3.10/dist-packages (from pandas) (1.23.5)\n",
            "Requirement already satisfied: six>=1.5 in /usr/local/lib/python3.10/dist-packages (from python-dateutil>=2.8.1->pandas) (1.16.0)\n"
          ]
        }
      ],
      "source": [
        "!pip install pandas"
      ]
    },
    {
      "cell_type": "code",
      "source": [
        "import pandas as pd"
      ],
      "metadata": {
        "id": "J-c8exTQPt32"
      },
      "execution_count": null,
      "outputs": []
    },
    {
      "cell_type": "code",
      "source": [
        "from google.colab import files\n",
        "uploaded=files.upload()\n",
        "# Get the list of uploaded filenames\n",
        "uploaded_filenames = list(uploaded.keys())\n",
        "# Print the list of filenames\n",
        "print(uploaded_filenames)\n",
        "uploaded_csv_content = uploaded[uploaded_filenames[0]]\n",
        "data = pd.read_csv(uploaded_filenames[0])\n",
        "print(\"CSV file read successfully.\")\n"
      ],
      "metadata": {
        "colab": {
          "base_uri": "https://localhost:8080/",
          "height": 107
        },
        "id": "i3k6KdGxCLT7",
        "outputId": "85dfa9a9-772a-4efd-ae65-d484feb546f6"
      },
      "execution_count": null,
      "outputs": [
        {
          "output_type": "display_data",
          "data": {
            "text/plain": [
              "<IPython.core.display.HTML object>"
            ],
            "text/html": [
              "\n",
              "     <input type=\"file\" id=\"files-4da8d426-ed86-4360-8a2b-a4cda1f02762\" name=\"files[]\" multiple disabled\n",
              "        style=\"border:none\" />\n",
              "     <output id=\"result-4da8d426-ed86-4360-8a2b-a4cda1f02762\">\n",
              "      Upload widget is only available when the cell has been executed in the\n",
              "      current browser session. Please rerun this cell to enable.\n",
              "      </output>\n",
              "      <script>// Copyright 2017 Google LLC\n",
              "//\n",
              "// Licensed under the Apache License, Version 2.0 (the \"License\");\n",
              "// you may not use this file except in compliance with the License.\n",
              "// You may obtain a copy of the License at\n",
              "//\n",
              "//      http://www.apache.org/licenses/LICENSE-2.0\n",
              "//\n",
              "// Unless required by applicable law or agreed to in writing, software\n",
              "// distributed under the License is distributed on an \"AS IS\" BASIS,\n",
              "// WITHOUT WARRANTIES OR CONDITIONS OF ANY KIND, either express or implied.\n",
              "// See the License for the specific language governing permissions and\n",
              "// limitations under the License.\n",
              "\n",
              "/**\n",
              " * @fileoverview Helpers for google.colab Python module.\n",
              " */\n",
              "(function(scope) {\n",
              "function span(text, styleAttributes = {}) {\n",
              "  const element = document.createElement('span');\n",
              "  element.textContent = text;\n",
              "  for (const key of Object.keys(styleAttributes)) {\n",
              "    element.style[key] = styleAttributes[key];\n",
              "  }\n",
              "  return element;\n",
              "}\n",
              "\n",
              "// Max number of bytes which will be uploaded at a time.\n",
              "const MAX_PAYLOAD_SIZE = 100 * 1024;\n",
              "\n",
              "function _uploadFiles(inputId, outputId) {\n",
              "  const steps = uploadFilesStep(inputId, outputId);\n",
              "  const outputElement = document.getElementById(outputId);\n",
              "  // Cache steps on the outputElement to make it available for the next call\n",
              "  // to uploadFilesContinue from Python.\n",
              "  outputElement.steps = steps;\n",
              "\n",
              "  return _uploadFilesContinue(outputId);\n",
              "}\n",
              "\n",
              "// This is roughly an async generator (not supported in the browser yet),\n",
              "// where there are multiple asynchronous steps and the Python side is going\n",
              "// to poll for completion of each step.\n",
              "// This uses a Promise to block the python side on completion of each step,\n",
              "// then passes the result of the previous step as the input to the next step.\n",
              "function _uploadFilesContinue(outputId) {\n",
              "  const outputElement = document.getElementById(outputId);\n",
              "  const steps = outputElement.steps;\n",
              "\n",
              "  const next = steps.next(outputElement.lastPromiseValue);\n",
              "  return Promise.resolve(next.value.promise).then((value) => {\n",
              "    // Cache the last promise value to make it available to the next\n",
              "    // step of the generator.\n",
              "    outputElement.lastPromiseValue = value;\n",
              "    return next.value.response;\n",
              "  });\n",
              "}\n",
              "\n",
              "/**\n",
              " * Generator function which is called between each async step of the upload\n",
              " * process.\n",
              " * @param {string} inputId Element ID of the input file picker element.\n",
              " * @param {string} outputId Element ID of the output display.\n",
              " * @return {!Iterable<!Object>} Iterable of next steps.\n",
              " */\n",
              "function* uploadFilesStep(inputId, outputId) {\n",
              "  const inputElement = document.getElementById(inputId);\n",
              "  inputElement.disabled = false;\n",
              "\n",
              "  const outputElement = document.getElementById(outputId);\n",
              "  outputElement.innerHTML = '';\n",
              "\n",
              "  const pickedPromise = new Promise((resolve) => {\n",
              "    inputElement.addEventListener('change', (e) => {\n",
              "      resolve(e.target.files);\n",
              "    });\n",
              "  });\n",
              "\n",
              "  const cancel = document.createElement('button');\n",
              "  inputElement.parentElement.appendChild(cancel);\n",
              "  cancel.textContent = 'Cancel upload';\n",
              "  const cancelPromise = new Promise((resolve) => {\n",
              "    cancel.onclick = () => {\n",
              "      resolve(null);\n",
              "    };\n",
              "  });\n",
              "\n",
              "  // Wait for the user to pick the files.\n",
              "  const files = yield {\n",
              "    promise: Promise.race([pickedPromise, cancelPromise]),\n",
              "    response: {\n",
              "      action: 'starting',\n",
              "    }\n",
              "  };\n",
              "\n",
              "  cancel.remove();\n",
              "\n",
              "  // Disable the input element since further picks are not allowed.\n",
              "  inputElement.disabled = true;\n",
              "\n",
              "  if (!files) {\n",
              "    return {\n",
              "      response: {\n",
              "        action: 'complete',\n",
              "      }\n",
              "    };\n",
              "  }\n",
              "\n",
              "  for (const file of files) {\n",
              "    const li = document.createElement('li');\n",
              "    li.append(span(file.name, {fontWeight: 'bold'}));\n",
              "    li.append(span(\n",
              "        `(${file.type || 'n/a'}) - ${file.size} bytes, ` +\n",
              "        `last modified: ${\n",
              "            file.lastModifiedDate ? file.lastModifiedDate.toLocaleDateString() :\n",
              "                                    'n/a'} - `));\n",
              "    const percent = span('0% done');\n",
              "    li.appendChild(percent);\n",
              "\n",
              "    outputElement.appendChild(li);\n",
              "\n",
              "    const fileDataPromise = new Promise((resolve) => {\n",
              "      const reader = new FileReader();\n",
              "      reader.onload = (e) => {\n",
              "        resolve(e.target.result);\n",
              "      };\n",
              "      reader.readAsArrayBuffer(file);\n",
              "    });\n",
              "    // Wait for the data to be ready.\n",
              "    let fileData = yield {\n",
              "      promise: fileDataPromise,\n",
              "      response: {\n",
              "        action: 'continue',\n",
              "      }\n",
              "    };\n",
              "\n",
              "    // Use a chunked sending to avoid message size limits. See b/62115660.\n",
              "    let position = 0;\n",
              "    do {\n",
              "      const length = Math.min(fileData.byteLength - position, MAX_PAYLOAD_SIZE);\n",
              "      const chunk = new Uint8Array(fileData, position, length);\n",
              "      position += length;\n",
              "\n",
              "      const base64 = btoa(String.fromCharCode.apply(null, chunk));\n",
              "      yield {\n",
              "        response: {\n",
              "          action: 'append',\n",
              "          file: file.name,\n",
              "          data: base64,\n",
              "        },\n",
              "      };\n",
              "\n",
              "      let percentDone = fileData.byteLength === 0 ?\n",
              "          100 :\n",
              "          Math.round((position / fileData.byteLength) * 100);\n",
              "      percent.textContent = `${percentDone}% done`;\n",
              "\n",
              "    } while (position < fileData.byteLength);\n",
              "  }\n",
              "\n",
              "  // All done.\n",
              "  yield {\n",
              "    response: {\n",
              "      action: 'complete',\n",
              "    }\n",
              "  };\n",
              "}\n",
              "\n",
              "scope.google = scope.google || {};\n",
              "scope.google.colab = scope.google.colab || {};\n",
              "scope.google.colab._files = {\n",
              "  _uploadFiles,\n",
              "  _uploadFilesContinue,\n",
              "};\n",
              "})(self);\n",
              "</script> "
            ]
          },
          "metadata": {}
        },
        {
          "output_type": "stream",
          "name": "stdout",
          "text": [
            "Saving ecomm_data.csv to ecomm_data.csv\n",
            "['ecomm_data.csv']\n",
            "CSV file read successfully.\n"
          ]
        }
      ]
    },
    {
      "cell_type": "code",
      "source": [
        "df=data\n",
        "df.info()"
      ],
      "metadata": {
        "colab": {
          "base_uri": "https://localhost:8080/"
        },
        "id": "IU17IwjhCXUD",
        "outputId": "634ef9bc-95f9-4a41-cb8b-19863d3156a5"
      },
      "execution_count": null,
      "outputs": [
        {
          "output_type": "stream",
          "name": "stdout",
          "text": [
            "<class 'pandas.core.frame.DataFrame'>\n",
            "RangeIndex: 500 entries, 0 to 499\n",
            "Data columns (total 8 columns):\n",
            " #   Column                Non-Null Count  Dtype  \n",
            "---  ------                --------------  -----  \n",
            " 0   Email                 500 non-null    object \n",
            " 1   Address               500 non-null    object \n",
            " 2   Avatar                500 non-null    object \n",
            " 3   Avg. Session Length   500 non-null    float64\n",
            " 4   Time on App           500 non-null    float64\n",
            " 5   Time on Website       500 non-null    float64\n",
            " 6   Length of Membership  500 non-null    float64\n",
            " 7   Yearly Amount Spent   500 non-null    float64\n",
            "dtypes: float64(5), object(3)\n",
            "memory usage: 31.4+ KB\n"
          ]
        }
      ]
    },
    {
      "cell_type": "code",
      "source": [
        "df.describe()"
      ],
      "metadata": {
        "colab": {
          "base_uri": "https://localhost:8080/",
          "height": 318
        },
        "id": "Wsxq-jp6tsXE",
        "outputId": "3eb10476-f7cd-41ef-b34b-f3ed826d61ab"
      },
      "execution_count": null,
      "outputs": [
        {
          "output_type": "execute_result",
          "data": {
            "text/plain": [
              "       Avg. Session Length  Time on App  Time on Website  \\\n",
              "count           500.000000   500.000000       500.000000   \n",
              "mean             33.053194    12.052488        37.060445   \n",
              "std               0.992563     0.994216         1.010489   \n",
              "min              29.532429     8.508152        33.913847   \n",
              "25%              32.341822    11.388153        36.349257   \n",
              "50%              33.082008    11.983231        37.069367   \n",
              "75%              33.711985    12.753850        37.716432   \n",
              "max              36.139662    15.126994        40.005182   \n",
              "\n",
              "       Length of Membership  Yearly Amount Spent  \n",
              "count            500.000000           500.000000  \n",
              "mean               3.533462           499.314038  \n",
              "std                0.999278            79.314782  \n",
              "min                0.269901           256.670582  \n",
              "25%                2.930450           445.038277  \n",
              "50%                3.533975           498.887875  \n",
              "75%                4.126502           549.313828  \n",
              "max                6.922689           765.518462  "
            ],
            "text/html": [
              "\n",
              "  <div id=\"df-6e9e8a9a-fabe-4703-a263-a4258f2a5c80\" class=\"colab-df-container\">\n",
              "    <div>\n",
              "<style scoped>\n",
              "    .dataframe tbody tr th:only-of-type {\n",
              "        vertical-align: middle;\n",
              "    }\n",
              "\n",
              "    .dataframe tbody tr th {\n",
              "        vertical-align: top;\n",
              "    }\n",
              "\n",
              "    .dataframe thead th {\n",
              "        text-align: right;\n",
              "    }\n",
              "</style>\n",
              "<table border=\"1\" class=\"dataframe\">\n",
              "  <thead>\n",
              "    <tr style=\"text-align: right;\">\n",
              "      <th></th>\n",
              "      <th>Avg. Session Length</th>\n",
              "      <th>Time on App</th>\n",
              "      <th>Time on Website</th>\n",
              "      <th>Length of Membership</th>\n",
              "      <th>Yearly Amount Spent</th>\n",
              "    </tr>\n",
              "  </thead>\n",
              "  <tbody>\n",
              "    <tr>\n",
              "      <th>count</th>\n",
              "      <td>500.000000</td>\n",
              "      <td>500.000000</td>\n",
              "      <td>500.000000</td>\n",
              "      <td>500.000000</td>\n",
              "      <td>500.000000</td>\n",
              "    </tr>\n",
              "    <tr>\n",
              "      <th>mean</th>\n",
              "      <td>33.053194</td>\n",
              "      <td>12.052488</td>\n",
              "      <td>37.060445</td>\n",
              "      <td>3.533462</td>\n",
              "      <td>499.314038</td>\n",
              "    </tr>\n",
              "    <tr>\n",
              "      <th>std</th>\n",
              "      <td>0.992563</td>\n",
              "      <td>0.994216</td>\n",
              "      <td>1.010489</td>\n",
              "      <td>0.999278</td>\n",
              "      <td>79.314782</td>\n",
              "    </tr>\n",
              "    <tr>\n",
              "      <th>min</th>\n",
              "      <td>29.532429</td>\n",
              "      <td>8.508152</td>\n",
              "      <td>33.913847</td>\n",
              "      <td>0.269901</td>\n",
              "      <td>256.670582</td>\n",
              "    </tr>\n",
              "    <tr>\n",
              "      <th>25%</th>\n",
              "      <td>32.341822</td>\n",
              "      <td>11.388153</td>\n",
              "      <td>36.349257</td>\n",
              "      <td>2.930450</td>\n",
              "      <td>445.038277</td>\n",
              "    </tr>\n",
              "    <tr>\n",
              "      <th>50%</th>\n",
              "      <td>33.082008</td>\n",
              "      <td>11.983231</td>\n",
              "      <td>37.069367</td>\n",
              "      <td>3.533975</td>\n",
              "      <td>498.887875</td>\n",
              "    </tr>\n",
              "    <tr>\n",
              "      <th>75%</th>\n",
              "      <td>33.711985</td>\n",
              "      <td>12.753850</td>\n",
              "      <td>37.716432</td>\n",
              "      <td>4.126502</td>\n",
              "      <td>549.313828</td>\n",
              "    </tr>\n",
              "    <tr>\n",
              "      <th>max</th>\n",
              "      <td>36.139662</td>\n",
              "      <td>15.126994</td>\n",
              "      <td>40.005182</td>\n",
              "      <td>6.922689</td>\n",
              "      <td>765.518462</td>\n",
              "    </tr>\n",
              "  </tbody>\n",
              "</table>\n",
              "</div>\n",
              "    <div class=\"colab-df-buttons\">\n",
              "\n",
              "  <div class=\"colab-df-container\">\n",
              "    <button class=\"colab-df-convert\" onclick=\"convertToInteractive('df-6e9e8a9a-fabe-4703-a263-a4258f2a5c80')\"\n",
              "            title=\"Convert this dataframe to an interactive table.\"\n",
              "            style=\"display:none;\">\n",
              "\n",
              "  <svg xmlns=\"http://www.w3.org/2000/svg\" height=\"24px\" viewBox=\"0 -960 960 960\">\n",
              "    <path d=\"M120-120v-720h720v720H120Zm60-500h600v-160H180v160Zm220 220h160v-160H400v160Zm0 220h160v-160H400v160ZM180-400h160v-160H180v160Zm440 0h160v-160H620v160ZM180-180h160v-160H180v160Zm440 0h160v-160H620v160Z\"/>\n",
              "  </svg>\n",
              "    </button>\n",
              "\n",
              "  <style>\n",
              "    .colab-df-container {\n",
              "      display:flex;\n",
              "      gap: 12px;\n",
              "    }\n",
              "\n",
              "    .colab-df-convert {\n",
              "      background-color: #E8F0FE;\n",
              "      border: none;\n",
              "      border-radius: 50%;\n",
              "      cursor: pointer;\n",
              "      display: none;\n",
              "      fill: #1967D2;\n",
              "      height: 32px;\n",
              "      padding: 0 0 0 0;\n",
              "      width: 32px;\n",
              "    }\n",
              "\n",
              "    .colab-df-convert:hover {\n",
              "      background-color: #E2EBFA;\n",
              "      box-shadow: 0px 1px 2px rgba(60, 64, 67, 0.3), 0px 1px 3px 1px rgba(60, 64, 67, 0.15);\n",
              "      fill: #174EA6;\n",
              "    }\n",
              "\n",
              "    .colab-df-buttons div {\n",
              "      margin-bottom: 4px;\n",
              "    }\n",
              "\n",
              "    [theme=dark] .colab-df-convert {\n",
              "      background-color: #3B4455;\n",
              "      fill: #D2E3FC;\n",
              "    }\n",
              "\n",
              "    [theme=dark] .colab-df-convert:hover {\n",
              "      background-color: #434B5C;\n",
              "      box-shadow: 0px 1px 3px 1px rgba(0, 0, 0, 0.15);\n",
              "      filter: drop-shadow(0px 1px 2px rgba(0, 0, 0, 0.3));\n",
              "      fill: #FFFFFF;\n",
              "    }\n",
              "  </style>\n",
              "\n",
              "    <script>\n",
              "      const buttonEl =\n",
              "        document.querySelector('#df-6e9e8a9a-fabe-4703-a263-a4258f2a5c80 button.colab-df-convert');\n",
              "      buttonEl.style.display =\n",
              "        google.colab.kernel.accessAllowed ? 'block' : 'none';\n",
              "\n",
              "      async function convertToInteractive(key) {\n",
              "        const element = document.querySelector('#df-6e9e8a9a-fabe-4703-a263-a4258f2a5c80');\n",
              "        const dataTable =\n",
              "          await google.colab.kernel.invokeFunction('convertToInteractive',\n",
              "                                                    [key], {});\n",
              "        if (!dataTable) return;\n",
              "\n",
              "        const docLinkHtml = 'Like what you see? Visit the ' +\n",
              "          '<a target=\"_blank\" href=https://colab.research.google.com/notebooks/data_table.ipynb>data table notebook</a>'\n",
              "          + ' to learn more about interactive tables.';\n",
              "        element.innerHTML = '';\n",
              "        dataTable['output_type'] = 'display_data';\n",
              "        await google.colab.output.renderOutput(dataTable, element);\n",
              "        const docLink = document.createElement('div');\n",
              "        docLink.innerHTML = docLinkHtml;\n",
              "        element.appendChild(docLink);\n",
              "      }\n",
              "    </script>\n",
              "  </div>\n",
              "\n",
              "\n",
              "<div id=\"df-5421da48-29d1-4b71-9069-66756681b6f7\">\n",
              "  <button class=\"colab-df-quickchart\" onclick=\"quickchart('df-5421da48-29d1-4b71-9069-66756681b6f7')\"\n",
              "            title=\"Suggest charts\"\n",
              "            style=\"display:none;\">\n",
              "\n",
              "<svg xmlns=\"http://www.w3.org/2000/svg\" height=\"24px\"viewBox=\"0 0 24 24\"\n",
              "     width=\"24px\">\n",
              "    <g>\n",
              "        <path d=\"M19 3H5c-1.1 0-2 .9-2 2v14c0 1.1.9 2 2 2h14c1.1 0 2-.9 2-2V5c0-1.1-.9-2-2-2zM9 17H7v-7h2v7zm4 0h-2V7h2v10zm4 0h-2v-4h2v4z\"/>\n",
              "    </g>\n",
              "</svg>\n",
              "  </button>\n",
              "\n",
              "<style>\n",
              "  .colab-df-quickchart {\n",
              "      --bg-color: #E8F0FE;\n",
              "      --fill-color: #1967D2;\n",
              "      --hover-bg-color: #E2EBFA;\n",
              "      --hover-fill-color: #174EA6;\n",
              "      --disabled-fill-color: #AAA;\n",
              "      --disabled-bg-color: #DDD;\n",
              "  }\n",
              "\n",
              "  [theme=dark] .colab-df-quickchart {\n",
              "      --bg-color: #3B4455;\n",
              "      --fill-color: #D2E3FC;\n",
              "      --hover-bg-color: #434B5C;\n",
              "      --hover-fill-color: #FFFFFF;\n",
              "      --disabled-bg-color: #3B4455;\n",
              "      --disabled-fill-color: #666;\n",
              "  }\n",
              "\n",
              "  .colab-df-quickchart {\n",
              "    background-color: var(--bg-color);\n",
              "    border: none;\n",
              "    border-radius: 50%;\n",
              "    cursor: pointer;\n",
              "    display: none;\n",
              "    fill: var(--fill-color);\n",
              "    height: 32px;\n",
              "    padding: 0;\n",
              "    width: 32px;\n",
              "  }\n",
              "\n",
              "  .colab-df-quickchart:hover {\n",
              "    background-color: var(--hover-bg-color);\n",
              "    box-shadow: 0 1px 2px rgba(60, 64, 67, 0.3), 0 1px 3px 1px rgba(60, 64, 67, 0.15);\n",
              "    fill: var(--button-hover-fill-color);\n",
              "  }\n",
              "\n",
              "  .colab-df-quickchart-complete:disabled,\n",
              "  .colab-df-quickchart-complete:disabled:hover {\n",
              "    background-color: var(--disabled-bg-color);\n",
              "    fill: var(--disabled-fill-color);\n",
              "    box-shadow: none;\n",
              "  }\n",
              "\n",
              "  .colab-df-spinner {\n",
              "    border: 2px solid var(--fill-color);\n",
              "    border-color: transparent;\n",
              "    border-bottom-color: var(--fill-color);\n",
              "    animation:\n",
              "      spin 1s steps(1) infinite;\n",
              "  }\n",
              "\n",
              "  @keyframes spin {\n",
              "    0% {\n",
              "      border-color: transparent;\n",
              "      border-bottom-color: var(--fill-color);\n",
              "      border-left-color: var(--fill-color);\n",
              "    }\n",
              "    20% {\n",
              "      border-color: transparent;\n",
              "      border-left-color: var(--fill-color);\n",
              "      border-top-color: var(--fill-color);\n",
              "    }\n",
              "    30% {\n",
              "      border-color: transparent;\n",
              "      border-left-color: var(--fill-color);\n",
              "      border-top-color: var(--fill-color);\n",
              "      border-right-color: var(--fill-color);\n",
              "    }\n",
              "    40% {\n",
              "      border-color: transparent;\n",
              "      border-right-color: var(--fill-color);\n",
              "      border-top-color: var(--fill-color);\n",
              "    }\n",
              "    60% {\n",
              "      border-color: transparent;\n",
              "      border-right-color: var(--fill-color);\n",
              "    }\n",
              "    80% {\n",
              "      border-color: transparent;\n",
              "      border-right-color: var(--fill-color);\n",
              "      border-bottom-color: var(--fill-color);\n",
              "    }\n",
              "    90% {\n",
              "      border-color: transparent;\n",
              "      border-bottom-color: var(--fill-color);\n",
              "    }\n",
              "  }\n",
              "</style>\n",
              "\n",
              "  <script>\n",
              "    async function quickchart(key) {\n",
              "      const quickchartButtonEl =\n",
              "        document.querySelector('#' + key + ' button');\n",
              "      quickchartButtonEl.disabled = true;  // To prevent multiple clicks.\n",
              "      quickchartButtonEl.classList.add('colab-df-spinner');\n",
              "      try {\n",
              "        const charts = await google.colab.kernel.invokeFunction(\n",
              "            'suggestCharts', [key], {});\n",
              "      } catch (error) {\n",
              "        console.error('Error during call to suggestCharts:', error);\n",
              "      }\n",
              "      quickchartButtonEl.classList.remove('colab-df-spinner');\n",
              "      quickchartButtonEl.classList.add('colab-df-quickchart-complete');\n",
              "    }\n",
              "    (() => {\n",
              "      let quickchartButtonEl =\n",
              "        document.querySelector('#df-5421da48-29d1-4b71-9069-66756681b6f7 button');\n",
              "      quickchartButtonEl.style.display =\n",
              "        google.colab.kernel.accessAllowed ? 'block' : 'none';\n",
              "    })();\n",
              "  </script>\n",
              "</div>\n",
              "    </div>\n",
              "  </div>\n"
            ]
          },
          "metadata": {},
          "execution_count": 101
        }
      ]
    },
    {
      "cell_type": "code",
      "source": [
        "plt.scatter(df['Time on App'],df['Yearly Amount Spent'])"
      ],
      "metadata": {
        "colab": {
          "base_uri": "https://localhost:8080/",
          "height": 447
        },
        "id": "KQXSrG5cGiln",
        "outputId": "5767bb73-1612-4a5e-8335-f1eb4de97775"
      },
      "execution_count": null,
      "outputs": [
        {
          "output_type": "execute_result",
          "data": {
            "text/plain": [
              "<matplotlib.collections.PathCollection at 0x7ba72a76edd0>"
            ]
          },
          "metadata": {},
          "execution_count": 99
        },
        {
          "output_type": "display_data",
          "data": {
            "text/plain": [
              "<Figure size 640x480 with 1 Axes>"
            ],
            "image/png": "[encoded data removed]"
          },
          "metadata": {}
        }
      ]
    },
    {
      "cell_type": "code",
      "source": [
        "plt.scatter(df['Length of Membership'],df['Yearly Amount Spent'])"
      ],
      "metadata": {
        "colab": {
          "base_uri": "https://localhost:8080/",
          "height": 447
        },
        "id": "yKEc116jO72Z",
        "outputId": "986296b7-cac4-408d-d61e-dc2ec0cbdee7"
      },
      "execution_count": null,
      "outputs": [
        {
          "output_type": "execute_result",
          "data": {
            "text/plain": [
              "<matplotlib.collections.PathCollection at 0x7ba73b9b8940>"
            ]
          },
          "metadata": {},
          "execution_count": 18
        },
        {
          "output_type": "display_data",
          "data": {
            "text/plain": [
              "<Figure size 640x480 with 1 Axes>"
            ],
            "image/png": "[encoded data removed]"
          },
          "metadata": {}
        }
      ]
    },
    {
      "source": [
        "from matplotlib import pyplot as plt\n",
        "_df_12['Avg. Session Length'].plot(kind='line', figsize=(8, 4), title='Avg. Session Length')\n",
        "plt.gca().spines[['top', 'right']].set_visible(False)"
      ],
      "cell_type": "code",
      "metadata": {
        "colab": {
          "base_uri": "https://localhost:8080/",
          "height": 391
        },
        "id": "qf6z_4hrFKhN",
        "outputId": "d1ecb13f-17bb-477f-c9dc-1b1eb409c8b1"
      },
      "execution_count": null,
      "outputs": [
        {
          "output_type": "display_data",
          "data": {
            "text/plain": [
              "<Figure size 800x400 with 1 Axes>"
            ],
            "image/png": "[encoded data removed]"
          },
          "metadata": {}
        }
      ]
    },
    {
      "cell_type": "code",
      "source": [
        "df[['Time on App','Length of Membership']]"
      ],
      "metadata": {
        "colab": {
          "base_uri": "https://localhost:8080/",
          "height": 424
        },
        "id": "rox5tdJ2Zy-Y",
        "outputId": "c5e0d17b-8919-4364-f028-ec319d1533dd"
      },
      "execution_count": null,
      "outputs": [
        {
          "output_type": "execute_result",
          "data": {
            "text/plain": [
              "     Time on App  Length of Membership\n",
              "0      12.655651              4.082621\n",
              "1      11.109461              2.664034\n",
              "2      11.330278              4.104543\n",
              "3      13.717514              3.120179\n",
              "4      12.795189              4.446308\n",
              "..           ...                   ...\n",
              "495    13.566160              3.746573\n",
              "496    11.695736              3.576526\n",
              "497    11.499409              4.958264\n",
              "498    12.391423              2.336485\n",
              "499    12.418808              2.735160\n",
              "\n",
              "[500 rows x 2 columns]"
            ],
            "text/html": [
              "\n",
              "  <div id=\"df-7ced0d17-fd68-4ddb-88af-d080726e925e\" class=\"colab-df-container\">\n",
              "    <div>\n",
              "<style scoped>\n",
              "    .dataframe tbody tr th:only-of-type {\n",
              "        vertical-align: middle;\n",
              "    }\n",
              "\n",
              "    .dataframe tbody tr th {\n",
              "        vertical-align: top;\n",
              "    }\n",
              "\n",
              "    .dataframe thead th {\n",
              "        text-align: right;\n",
              "    }\n",
              "</style>\n",
              "<table border=\"1\" class=\"dataframe\">\n",
              "  <thead>\n",
              "    <tr style=\"text-align: right;\">\n",
              "      <th></th>\n",
              "      <th>Time on App</th>\n",
              "      <th>Length of Membership</th>\n",
              "    </tr>\n",
              "  </thead>\n",
              "  <tbody>\n",
              "    <tr>\n",
              "      <th>0</th>\n",
              "      <td>12.655651</td>\n",
              "      <td>4.082621</td>\n",
              "    </tr>\n",
              "    <tr>\n",
              "      <th>1</th>\n",
              "      <td>11.109461</td>\n",
              "      <td>2.664034</td>\n",
              "    </tr>\n",
              "    <tr>\n",
              "      <th>2</th>\n",
              "      <td>11.330278</td>\n",
              "      <td>4.104543</td>\n",
              "    </tr>\n",
              "    <tr>\n",
              "      <th>3</th>\n",
              "      <td>13.717514</td>\n",
              "      <td>3.120179</td>\n",
              "    </tr>\n",
              "    <tr>\n",
              "      <th>4</th>\n",
              "      <td>12.795189</td>\n",
              "      <td>4.446308</td>\n",
              "    </tr>\n",
              "    <tr>\n",
              "      <th>...</th>\n",
              "      <td>...</td>\n",
              "      <td>...</td>\n",
              "    </tr>\n",
              "    <tr>\n",
              "      <th>495</th>\n",
              "      <td>13.566160</td>\n",
              "      <td>3.746573</td>\n",
              "    </tr>\n",
              "    <tr>\n",
              "      <th>496</th>\n",
              "      <td>11.695736</td>\n",
              "      <td>3.576526</td>\n",
              "    </tr>\n",
              "    <tr>\n",
              "      <th>497</th>\n",
              "      <td>11.499409</td>\n",
              "      <td>4.958264</td>\n",
              "    </tr>\n",
              "    <tr>\n",
              "      <th>498</th>\n",
              "      <td>12.391423</td>\n",
              "      <td>2.336485</td>\n",
              "    </tr>\n",
              "    <tr>\n",
              "      <th>499</th>\n",
              "      <td>12.418808</td>\n",
              "      <td>2.735160</td>\n",
              "    </tr>\n",
              "  </tbody>\n",
              "</table>\n",
              "<p>500 rows × 2 columns</p>\n",
              "</div>\n",
              "    <div class=\"colab-df-buttons\">\n",
              "\n",
              "  <div class=\"colab-df-container\">\n",
              "    <button class=\"colab-df-convert\" onclick=\"convertToInteractive('df-7ced0d17-fd68-4ddb-88af-d080726e925e')\"\n",
              "            title=\"Convert this dataframe to an interactive table.\"\n",
              "            style=\"display:none;\">\n",
              "\n",
              "  <svg xmlns=\"http://www.w3.org/2000/svg\" height=\"24px\" viewBox=\"0 -960 960 960\">\n",
              "    <path d=\"M120-120v-720h720v720H120Zm60-500h600v-160H180v160Zm220 220h160v-160H400v160Zm0 220h160v-160H400v160ZM180-400h160v-160H180v160Zm440 0h160v-160H620v160ZM180-180h160v-160H180v160Zm440 0h160v-160H620v160Z\"/>\n",
              "  </svg>\n",
              "    </button>\n",
              "\n",
              "  <style>\n",
              "    .colab-df-container {\n",
              "      display:flex;\n",
              "      gap: 12px;\n",
              "    }\n",
              "\n",
              "    .colab-df-convert {\n",
              "      background-color: #E8F0FE;\n",
              "      border: none;\n",
              "      border-radius: 50%;\n",
              "      cursor: pointer;\n",
              "      display: none;\n",
              "      fill: #1967D2;\n",
              "      height: 32px;\n",
              "      padding: 0 0 0 0;\n",
              "      width: 32px;\n",
              "    }\n",
              "\n",
              "    .colab-df-convert:hover {\n",
              "      background-color: #E2EBFA;\n",
              "      box-shadow: 0px 1px 2px rgba(60, 64, 67, 0.3), 0px 1px 3px 1px rgba(60, 64, 67, 0.15);\n",
              "      fill: #174EA6;\n",
              "    }\n",
              "\n",
              "    .colab-df-buttons div {\n",
              "      margin-bottom: 4px;\n",
              "    }\n",
              "\n",
              "    [theme=dark] .colab-df-convert {\n",
              "      background-color: #3B4455;\n",
              "      fill: #D2E3FC;\n",
              "    }\n",
              "\n",
              "    [theme=dark] .colab-df-convert:hover {\n",
              "      background-color: #434B5C;\n",
              "      box-shadow: 0px 1px 3px 1px rgba(0, 0, 0, 0.15);\n",
              "      filter: drop-shadow(0px 1px 2px rgba(0, 0, 0, 0.3));\n",
              "      fill: #FFFFFF;\n",
              "    }\n",
              "  </style>\n",
              "\n",
              "    <script>\n",
              "      const buttonEl =\n",
              "        document.querySelector('#df-7ced0d17-fd68-4ddb-88af-d080726e925e button.colab-df-convert');\n",
              "      buttonEl.style.display =\n",
              "        google.colab.kernel.accessAllowed ? 'block' : 'none';\n",
              "\n",
              "      async function convertToInteractive(key) {\n",
              "        const element = document.querySelector('#df-7ced0d17-fd68-4ddb-88af-d080726e925e');\n",
              "        const dataTable =\n",
              "          await google.colab.kernel.invokeFunction('convertToInteractive',\n",
              "                                                    [key], {});\n",
              "        if (!dataTable) return;\n",
              "\n",
              "        const docLinkHtml = 'Like what you see? Visit the ' +\n",
              "          '<a target=\"_blank\" href=https://colab.research.google.com/notebooks/data_table.ipynb>data table notebook</a>'\n",
              "          + ' to learn more about interactive tables.';\n",
              "        element.innerHTML = '';\n",
              "        dataTable['output_type'] = 'display_data';\n",
              "        await google.colab.output.renderOutput(dataTable, element);\n",
              "        const docLink = document.createElement('div');\n",
              "        docLink.innerHTML = docLinkHtml;\n",
              "        element.appendChild(docLink);\n",
              "      }\n",
              "    </script>\n",
              "  </div>\n",
              "\n",
              "\n",
              "<div id=\"df-d660c104-1a76-4f63-8dff-22a8450f0d3c\">\n",
              "  <button class=\"colab-df-quickchart\" onclick=\"quickchart('df-d660c104-1a76-4f63-8dff-22a8450f0d3c')\"\n",
              "            title=\"Suggest charts\"\n",
              "            style=\"display:none;\">\n",
              "\n",
              "<svg xmlns=\"http://www.w3.org/2000/svg\" height=\"24px\"viewBox=\"0 0 24 24\"\n",
              "     width=\"24px\">\n",
              "    <g>\n",
              "        <path d=\"M19 3H5c-1.1 0-2 .9-2 2v14c0 1.1.9 2 2 2h14c1.1 0 2-.9 2-2V5c0-1.1-.9-2-2-2zM9 17H7v-7h2v7zm4 0h-2V7h2v10zm4 0h-2v-4h2v4z\"/>\n",
              "    </g>\n",
              "</svg>\n",
              "  </button>\n",
              "\n",
              "<style>\n",
              "  .colab-df-quickchart {\n",
              "      --bg-color: #E8F0FE;\n",
              "      --fill-color: #1967D2;\n",
              "      --hover-bg-color: #E2EBFA;\n",
              "      --hover-fill-color: #174EA6;\n",
              "      --disabled-fill-color: #AAA;\n",
              "      --disabled-bg-color: #DDD;\n",
              "  }\n",
              "\n",
              "  [theme=dark] .colab-df-quickchart {\n",
              "      --bg-color: #3B4455;\n",
              "      --fill-color: #D2E3FC;\n",
              "      --hover-bg-color: #434B5C;\n",
              "      --hover-fill-color: #FFFFFF;\n",
              "      --disabled-bg-color: #3B4455;\n",
              "      --disabled-fill-color: #666;\n",
              "  }\n",
              "\n",
              "  .colab-df-quickchart {\n",
              "    background-color: var(--bg-color);\n",
              "    border: none;\n",
              "    border-radius: 50%;\n",
              "    cursor: pointer;\n",
              "    display: none;\n",
              "    fill: var(--fill-color);\n",
              "    height: 32px;\n",
              "    padding: 0;\n",
              "    width: 32px;\n",
              "  }\n",
              "\n",
              "  .colab-df-quickchart:hover {\n",
              "    background-color: var(--hover-bg-color);\n",
              "    box-shadow: 0 1px 2px rgba(60, 64, 67, 0.3), 0 1px 3px 1px rgba(60, 64, 67, 0.15);\n",
              "    fill: var(--button-hover-fill-color);\n",
              "  }\n",
              "\n",
              "  .colab-df-quickchart-complete:disabled,\n",
              "  .colab-df-quickchart-complete:disabled:hover {\n",
              "    background-color: var(--disabled-bg-color);\n",
              "    fill: var(--disabled-fill-color);\n",
              "    box-shadow: none;\n",
              "  }\n",
              "\n",
              "  .colab-df-spinner {\n",
              "    border: 2px solid var(--fill-color);\n",
              "    border-color: transparent;\n",
              "    border-bottom-color: var(--fill-color);\n",
              "    animation:\n",
              "      spin 1s steps(1) infinite;\n",
              "  }\n",
              "\n",
              "  @keyframes spin {\n",
              "    0% {\n",
              "      border-color: transparent;\n",
              "      border-bottom-color: var(--fill-color);\n",
              "      border-left-color: var(--fill-color);\n",
              "    }\n",
              "    20% {\n",
              "      border-color: transparent;\n",
              "      border-left-color: var(--fill-color);\n",
              "      border-top-color: var(--fill-color);\n",
              "    }\n",
              "    30% {\n",
              "      border-color: transparent;\n",
              "      border-left-color: var(--fill-color);\n",
              "      border-top-color: var(--fill-color);\n",
              "      border-right-color: var(--fill-color);\n",
              "    }\n",
              "    40% {\n",
              "      border-color: transparent;\n",
              "      border-right-color: var(--fill-color);\n",
              "      border-top-color: var(--fill-color);\n",
              "    }\n",
              "    60% {\n",
              "      border-color: transparent;\n",
              "      border-right-color: var(--fill-color);\n",
              "    }\n",
              "    80% {\n",
              "      border-color: transparent;\n",
              "      border-right-color: var(--fill-color);\n",
              "      border-bottom-color: var(--fill-color);\n",
              "    }\n",
              "    90% {\n",
              "      border-color: transparent;\n",
              "      border-bottom-color: var(--fill-color);\n",
              "    }\n",
              "  }\n",
              "</style>\n",
              "\n",
              "  <script>\n",
              "    async function quickchart(key) {\n",
              "      const quickchartButtonEl =\n",
              "        document.querySelector('#' + key + ' button');\n",
              "      quickchartButtonEl.disabled = true;  // To prevent multiple clicks.\n",
              "      quickchartButtonEl.classList.add('colab-df-spinner');\n",
              "      try {\n",
              "        const charts = await google.colab.kernel.invokeFunction(\n",
              "            'suggestCharts', [key], {});\n",
              "      } catch (error) {\n",
              "        console.error('Error during call to suggestCharts:', error);\n",
              "      }\n",
              "      quickchartButtonEl.classList.remove('colab-df-spinner');\n",
              "      quickchartButtonEl.classList.add('colab-df-quickchart-complete');\n",
              "    }\n",
              "    (() => {\n",
              "      let quickchartButtonEl =\n",
              "        document.querySelector('#df-d660c104-1a76-4f63-8dff-22a8450f0d3c button');\n",
              "      quickchartButtonEl.style.display =\n",
              "        google.colab.kernel.accessAllowed ? 'block' : 'none';\n",
              "    })();\n",
              "  </script>\n",
              "</div>\n",
              "    </div>\n",
              "  </div>\n"
            ]
          },
          "metadata": {},
          "execution_count": 45
        }
      ]
    },
    {
      "cell_type": "code",
      "source": [
        "x=list(zip(df['Time on App'],df['Length of Membership']))\n",
        "print(\"x:\",x)"
      ],
      "metadata": {
        "colab": {
          "base_uri": "https://localhost:8080/"
        },
        "id": "6JUZjpw7XL9I",
        "outputId": "d53e7d17-0961-4702-d2db-549c9ec2bc8d"
      },
      "execution_count": null,
      "outputs": [
        {
          "output_type": "stream",
          "name": "stdout",
          "text": [
            "x: [(12.655651149166752, 4.082620632952961), (11.109460728682564, 2.66403418213262), (11.330278057777512, 4.104543202376424), (13.717513665142508, 3.120178782748092), (12.795188551078114, 4.446308318351435), (12.026925339755058, 5.493507201364199), (11.366348309710526, 4.685017246570912), (12.35195897300293, 4.4342734348999375), (13.386235275676434, 3.2734335777477144), (11.814128294972196, 3.202806071553459), (13.338975447662111, 2.482607770510596), (11.584782999535266, 3.71320920294043), (10.961298400154098, 4.046423164299585), (12.959226091609382, 3.918541839158999), (13.148725692056516, 2.494543646659249), (12.636606052000127, 3.357846842326294), (11.733861690857392, 3.1361327164897803), (12.0131946940144, 2.420806160901484), (14.7153875441565, 1.516575580831944), (13.989592555825254, 4.064548550437977), (11.365492025516156, 4.599937357614995), (12.87798369625634, 1.559151939957077), (13.378562784168986, 2.2451477874052825), (11.657575922065584, 3.919302308553184), (12.893669504071738, 5.705153970601026), (11.765812645482358, 2.7217359920452187), (12.78389178427502, 4.648199316428601), (13.007819424388568, 2.996364526268539), (11.982044994015611, 3.923488745527437), (11.965020002997898, 4.742577519573315), (12.305417813429443, 3.062368145311689), (10.869163814130363, 3.471413452477678), (13.387492105579694, 4.343062915388998), (13.1045072428758, 2.8200972339734696), (11.634893252550466, 4.1245852967146535), (11.936386499892285, 3.649286157714702), (11.75502370305383, 1.8473704233395083), (11.984417523634924, 3.452388582630727), (9.954975969174418, 4.650491269094463), (12.489013215743665, 4.22243622534277), (11.733106220383402, 4.671275460906252), (10.634561317920278, 4.646119976606155), (12.507525374016035, 4.214495086037866), (11.52987820576495, 4.643258549800133), (13.41493473585169, 2.258686386946843), (12.170525424959395, 3.663105491283854), (13.14655143290706, 3.8768751769237673), (12.988510147185291, 4.113226122724209), (11.86412635894251, 3.202531199210734), (11.398064190096813, 3.198399271684906), (13.85806246213124, 5.97676812602), (10.956790967791653, 2.952668957921736), (10.320116255059192, 2.0948917061051766), (9.98451439654646, 3.85547168456418), (12.64519514084352, 2.874596910303952), (11.588655423353044, 3.3920504890738385), (13.761532847115612, 2.995761182613056), (10.56829468563276, 3.315224753915403), (11.832286222863628, 3.4719191365417483), (12.06415663219932, 3.9705556280753487), (12.495591602384836, 4.639320331857264), (9.607314687519166, 5.081210092491108), (13.728627177429864, 4.802630630523376), (11.670065919118978, 3.414688422504897), (13.276313008175377, 3.462298847460372), (15.126994288792469, 5.377593583586978), (12.695789749023144, 4.001786345798084), (11.835476087614284, 3.4395905595500764), (11.306232344673576, 2.7795207192736093), (11.187538910878676, 3.5526497674265176), (11.887494133971662, 2.6022871120328714), (12.2289347111239, 4.694322274442824), (10.674653472691904, 3.4015223445155094), (12.817113090284248, 3.8515788003584657), (13.5878060830337, 3.25811288288828), (12.238057349986248, 3.120568914816974), (11.55182116621942, 2.837943164069798), (11.433379933334455, 4.470282584120023), (10.889566863427978, 4.442054329011166), (11.928842093866267, 3.164943995285113), (12.595671305072534, 3.7517345520890513), (10.947258584185183, 3.159754443950926), (13.898081993497067, 4.130562809236323), (10.875559548189257, 1.9140899242311), (10.33807269503854, 4.396651901097083), (11.634668217942473, 5.113319474870622), (12.517666287393077, 2.669941624279581), (10.607723870859086, 3.3664637433729325), (12.8288933950187, 4.571213023779052), (12.068816079691766, 3.917451119136939), (12.530357373542882, 2.476139050596411), (13.516284296962846, 4.125584363255396), (11.662263431208276, 3.9972553776226674), (13.664747875183542, 1.3626740800013843), (11.83023109487895, 4.193324635532072), (13.291143045352882, 3.871003400176416), (11.942340869536071, 4.08180269478151), (13.349912944366531, 4.252006105620936), (12.020112091208748, 3.911708668370663), (12.084091730811034, 3.021671821710012), (13.410759184940549, 3.184618661620886), (11.281931074103642, 2.877224878259828), (11.448901535513796, 2.5869679851624765), (12.595420346380532, 2.9696402266327597), (10.994223919350974, 3.4288599039280125), (13.085505760060858, 2.926940235492512), (12.190474287309026, 3.781823039343296), (10.719149740628396, 3.004742535925674), (12.931550271647987, 3.854473855602962), (13.45212895943564, 3.318822278930894), (12.149375491578276, 3.361814624383144), (12.178331333996288, 3.722561172893833), (11.010482132400076, 3.5435470501829984), (11.60253219348616, 2.789461516374708), (12.732211588456623, 5.4859767341605234), (11.223368888365105, 2.59418972057778), (12.01102187657459, 2.753424168758119), (11.725910097840954, 5.004820577490747), (12.089309572437347, 3.873337568743252), (13.068638584182434, 3.79872531905254), (12.85499036656409, 3.292797662575647), (11.56402236806554, 4.716104987209577), (11.113329897404322, 4.018726609737513), (12.809883473378118, 3.637701279515837), (11.76117232548311, 3.834169666632599), (12.57989417361806, 4.531986606666632), (11.957923064554109, 4.106055151602658), (10.651793783474174, 3.2182653850978555), (12.75207661096469, 3.283663455404016), (11.540832436151057, 2.924020724598205), (11.924394923280015, 3.90525030898213), (12.4241304114395, 4.920318406118319), (11.810586764578169, 2.473596120847858), (12.759168978762087, 4.131276648377655), (11.85189083494272, 1.7677307075942403), (12.70368792886871, 2.72410820200549), (12.215252424902488, 3.897115859957253), (11.28144500356714, 2.491671541288354), (10.735362917985055, 3.8634254422050343), (10.963131776054832, 3.5786339003939878), (11.735094549013704, 3.9588922643660966), (12.418961981005012, 3.251741770306888), (10.537307537840883, 3.914384667246393), (11.919242397939174, 1.4435150746515455), (11.911415556879854, 2.910037916541069), (12.48806700205303, 3.3455709758422434), (12.380694979552985, 3.0895277822700096), (10.480506832694497, 4.514122441132637), (12.296517680733736, 1.8258846690261428), (10.86160419912899, 3.993656512525085), (10.716355140061571, 2.652158304851241), (12.387184173554845, 6.401228837806773), (10.984835888186163, 5.391275125020632), (12.965761479512215, 6.076653638440144), (12.050267234380506, 3.8648607392342784), (13.45772494051235, 2.941410754428091), (12.44304789043987, 5.084861308602489), (12.207298491050794, 6.922689335035807), (11.586319529181234, 3.6043985602569495), (11.378087087773377, 3.7849321101304056), (12.364341604455198, 3.3091823280429797), (12.399436075147092, 0.9686221157417688), (12.54248105078634, 3.768561962709896), (13.280432242922112, 3.585160635161344), (11.795886676889108, 4.520353377496559), (12.718039174525655, 3.6758488000184415), (12.039647840787236, 2.873007508505152), (12.474455453922836, 4.055775961742958), (13.160020040286032, 3.015175298743708), (11.052323653306688, 4.717102512825834), (10.636761083696548, 2.926396448726688), (13.44340598514625, 2.361086946869883), (13.28303286832567, 4.968742673728142), (11.747731701242175, 0.8015157200042076), (10.859608533152713, 3.669225611315444), (11.691686125826353, 1.7157771665531147), (11.548761439776756, 4.773503047345896), (11.72400223179126, 4.087837272921703), (12.178573080885846, 4.131755039569861), (12.319845062066673, 3.4427992020016864), (11.084360836740512, 4.724027439824315), (13.1777745337738, 3.2309738432875563), (12.832802836968115, 2.972271382079821), (11.509047996817198, 3.182329731786818), (11.85766344472502, 4.806349618785283), (12.293365838346627, 3.6203649883552), (10.93325227854703, 3.261324744787093), (13.332839284456396, 3.597459968849926), (10.902556227019767, 4.789201624179895), (12.276981712741968, 3.3164647447029107), (12.038808239866547, 4.632460945972205), (11.724473856834608, 3.308443000674604), (11.202669899735568, 4.015986640445781), (13.378063328893631, 4.369366793790984), (11.38861261864104, 2.56663984381683), (10.771074062599588, 3.5190324339539223), (11.818571762285, 1.503854421225295), (13.808798675105962, 5.039955263662929), (11.659832840871443, 4.47871260846301), (13.100109538542808, 3.361612984538193), (13.067895684999526, 1.9207154781756468), (12.49432293326939, 4.330714461860564), (11.340035931978807, 3.811248170807232), (11.199660962300452, 3.0887639575315755), (11.332487778094174, 4.541695256706066), (13.919494396088172, 5.066696864020983), (11.03135834040919, 3.1074686827074625), (11.084584086421872, 4.74698970293514), (10.54264542398311, 3.091826869545788), (11.79779551488024, 3.1956257763719886), (12.442616548294634, 3.8502796390964265), (12.104542428062686, 3.974522480483529), (12.378490222808672, 3.843848921495288), (13.722453676229962, 2.909008460485079), (12.725909323593957, 1.1390935384245742), (13.68511889962359, 2.6852848361090778), (10.012583366223025, 3.108911449181274), (11.435533874300315, 4.852842407156433), (12.354607081759855, 2.30755242118396), (10.748533655415798, 4.83552866742221), (11.59187166512224, 3.6785893989539975), (11.236506758754029, 5.254708925941115), (11.109456333168431, 3.8928914802112553), (12.114944955194904, 4.389455226416517), (11.866481205181705, 4.003325039023281), (10.25654903128796, 0.7895199078816915), (12.168596472860555, 4.403369830866465), (13.085356892368791, 2.648596770203317), (13.013375627349651, 2.367848224385222), (10.9839767277944, 3.0507129732180167), (13.105158522307253, 3.641497161540088), (12.144748536704864, 3.397363092819078), (13.90991551102909, 4.297686524285517), (11.395209434440888, 3.803364999065175), (13.033566182687188, 2.6334199887174443), (11.622777173031125, 3.634093727357596), (12.600750401563928, 3.467014066009709), (13.187910985159364, 1.4943108951995074), (13.266760352944496, 2.267251114447051), (11.752343171850052, 5.023934200606659), (11.56811634209842, 2.471750669720034), (12.63857212219212, 4.297737481971207), (11.388644575171451, 2.4369588757864635), (11.82298329832392, 3.656983926688144), (12.725677367222987, 5.000243360514445), (11.201159766003189, 2.412830960970926), (11.34726361146273, 5.314354141170213), (14.220979108167343, 4.0777750980104255), (11.546275759510358, 3.2750706813095327), (11.91763618310149, 3.634996006306897), (12.276056984463208, 3.9824715131070567), (10.131712461927217, 3.287701824074408), (12.026942222615626, 2.3133498845806395), (13.172287495263063, 3.557813698186695), (12.326291385476884, 3.350279287544909), (13.891313421778491, 2.9070949348220267), (12.930928541308226, 3.7927119551515887), (11.379257182400217, 4.029453828152192), (14.069382336483995, 4.978475793470261), (10.804890557641668, 2.6995620549722683), (14.426491050422625, 3.9306153266132897), (13.041244588162265, 3.456233823526301), (11.739743796165987, 2.1820169698233887), (12.49105873801881, 2.7095266269292764), (12.892374513653694, 4.594116864603191), (11.668866514553862, 4.25698328967803), (11.777772039564963, 3.784273087078304), (12.138793877121689, 1.62341960945622), (12.222967446546058, 3.4145062403052493), (13.402331896928285, 3.6060868889081727), (12.956276605432244, 3.275733705185027), (12.884124621344766, 5.007271986589903), (13.325469096138631, 3.37125811322392), (12.15858523387948, 5.453969474611709), (11.22654566351062, 3.7558693892629655), (12.461135435006732, 4.664258497238649), (9.846124908736233, 3.8066709485629935), (13.32541218598226, 5.049927474652407), (13.677245841523792, 2.871947536151015), (11.644969546399302, 3.2367328142505314), (13.485008988077055, 3.086337272317325), (11.620996507575208, 4.559699083258959), (13.014459152355208, 3.0102097779609496), (11.466984219092826, 1.80922959177631), (11.684904192367505, 3.594295099901167), (12.09396635537946, 3.049195743789432), (14.325654943309248, 3.6343402240734415), (12.914846634589116, 1.4823596439649784), (9.8244017703894, 2.921350140816143), (12.807751833234732, 1.8100798764120296), (13.05827792714326, 3.373104673991114), (10.534553499461076, 2.2147975193939367), (11.143433077943628, 5.454463277564527), (10.982805534662877, 3.201801722174991), (11.153966054877388, 4.729484541572504), (11.947175323941773, 3.205529764506833), (11.47056500466582, 3.802511438790271), (11.03785041365591, 4.116340467131812), (11.167356897497289, 5.462500764129899), (11.562936246652605, 1.4816166268553612), (12.22772827968665, 3.771420131891554), (13.18681287300118, 2.898299577888636), (13.394451788942057, 3.5690465158585187), (11.85139874307314, 1.0845853030221226), (12.266503838947584, 3.0234744460455456), (13.459222289832477, 5.56638489205681), (11.792971821961505, 2.3951681299791368), (10.98574015235435, 3.5048334855203), (12.637557159364276, 5.226687712532107), (8.508152176032603, 1.8382107022501144), (11.656592033851751, 3.363411393785737), (11.966898076780602, 2.957448756503683), (11.80298577760313, 2.0838141920346707), (12.677401437121034, 3.680847338174777), (13.032534975943191, 4.693732057983859), (12.44761745405695, 4.008352234634593), (12.235659245108506, 2.532044061507893), (10.973162084317348, 2.8709869096996963), (13.665769794267849, 3.515688256202335), (13.391120179234008, 4.06991661858986), (12.96832561098067, 1.2004838567566694), (12.968893130527093, 3.22945090446699), (10.732131340303663, 4.086566338485993), (10.952353380458652, 4.019470351595002), (12.60888879370027, 4.205903889533483), (13.039511025284968, 2.0181946292873114), (10.999683661085925, 4.243812816726185), (13.278956228597716, 4.626075291951958), (10.62794922615627, 3.00295702283384), (13.185181167368498, 1.823595182991803), (11.351049011250833, 4.078308001651641), (12.954811454937932, 3.689916615447592), (11.73704063527238, 2.190132185380053), (11.887345302061831, 3.2067566975868704), (10.757130926114415, 1.9770071278430592), (11.612650769570312, 3.349245382527182), (11.97906148391534, 3.532861579556475), (12.461147444665416, 2.9747368150832405), (10.079463451952432, 2.6181653103960847), (12.589240561061525, 2.8040136926903942), (14.2880145907663, 2.9644978762354017), (11.917115695587762, 4.3508878437244665), (11.40964461636565, 3.8724320418689104), (12.815392648610311, 4.615426306527649), (11.673229254101274, 2.727209453758874), (10.61053651970745, 3.537123879902206), (12.506548190327935, 3.12650948966), (11.304462307422884, 5.137816745950984), (10.886921180951674, 3.1286388557446334), (12.095889485093478, 3.1789524050534483), (12.692661429739388, 3.827375915107567), (11.386775551280651, 4.808320372869162), (10.728418539377822, 4.048510087289211), (11.936895159842097, 4.5433324132930855), (12.717995102314037, 3.4810621331251683), (10.969802874106238, 2.627624971434411), (13.420545742201174, 4.794312263402832), (11.85468192110211, 2.761861926301417), (11.91885970932454, 2.1596760229888288), (13.149669557991398, 4.1956144126751305), (12.685393899848076, 2.139403004485981), (10.347876945661575, 3.43455972254092), (9.316289204373824, 2.8684281816397523), (12.581547729914536, 3.137068975480682), (11.764447589452988, 3.5258064121952244), (12.644202118863696, 5.038107493844868), (11.832112231483734, 3.6122391519937), (10.441235061603203, 2.895075162804356), (12.729719510423308, 5.705940716620838), (9.477777607959723, 5.0470225513951), (10.163179060052556, 4.778973636034998), (11.608997936221536, 2.96655888465992), (11.268259230574026, 2.6689197733345025), (11.163159542913276, 3.620354588804087), (10.101632204781014, 4.238296188412728), (12.76153127820102, 2.4793398232086954), (12.055340161330117, 3.506967573635258), (11.935934966559184, 3.310150346576856), (12.451200012438312, 3.535802467873828), (12.284467067067208, 1.1304769604319769), (12.782171794760185, 3.2287176862706497), (12.960307128914414, 3.3459223210048927), (9.95399500605983, 3.2156668270219866), (13.130021664776669, 3.7905521368804433), (11.520566788562215, 3.5612152714310823), (10.972554314292411, 2.931619534651152), (13.53191346185937, 3.0465406206892376), (12.039502370469922, 2.739200466766662), (10.942069621017652, 2.783963128204522), (12.664192622515646, 4.330407444211276), (11.730661394277831, 3.41620997759013), (11.918670307379347, 3.3363393820041853), (11.514949066574868, 4.662845304002564), (12.418113202231622, 3.222080766760957), (13.887275413385504, 3.772969024644708), (12.846499067474369, 3.420149530164856), (10.889828283005029, 6.115198945760052), (12.914570094327916, 3.488029991222591), (11.568526641744768, 4.082855278762214), (11.971750786570595, 2.8296995751470893), (13.07869243953642, 5.405406467229508), (11.956426484854196, 3.451750709833103), (13.252737094184228, 2.935577273740486), (13.093537281195058, 4.75036007144446), (12.527471744522868, 3.5314023030588984), (11.235968954252517, 3.904479379627935), (12.074830167957376, 2.3990797897904117), (12.045331979699332, 2.847709026474498), (11.230743306761044, 3.781703565104839), (11.90784409977911, 4.34977841863416), (13.05221038516131, 4.574287716419565), (13.004362005673078, 4.620416384895069), (11.52352268106905, 3.0130325004194374), (10.314717921893896, 4.791108744558267), (12.433128529733452, 4.334001444341368), (10.745188554182882, 1.4288238768282668), (11.016755636715027, 4.137000388171067), (12.216854693359824, 2.910530822492482), (12.329147021418828, 3.982462318955639), (10.8069660677747, 3.701229217020273), (12.135101396955722, 5.8405058759314255), (12.94155572990243, 4.560396067343641), (13.300299363336556, 4.4900020655598345), (10.39845771308564, 3.859817998874009), (11.887800415781037, 3.0466201888222324), (11.591439703136588, 4.652854446136777), (13.27147504252467, 4.022102909528949), (12.988220598633102, 3.9694177591077393), (14.039867262521906, 3.7382251733253336), (11.906507762219915, 3.37668749953603), (11.13714030231066, 4.595522708601322), (12.902664889103926, 2.2239934582520533), (12.386516256494852, 4.288486770885737), (11.822721745594304, 2.11738254152726), (10.9857637851215, 0.9364975973183264), (14.132893457553363, 3.7620704427115657), (11.912210479900578, 4.00096358646012), (11.481587147836263, 3.5325171645393527), (10.04731473507118, 3.5350884276189447), (12.428736927868275, 4.158214652664192), (11.965980266792482, 3.549036057426973), (11.121366060509414, 4.129254688094536), (8.668349517101323, 2.2524459633808416), (12.504219807675254, 4.051382465375181), (12.132509111641538, 3.0720761414868827), (11.732991461588078, 4.331863026751083), (11.946590884981754, 3.937862643180167), (12.556107616938167, 0.2699010899842742), (12.480701517118195, 3.2794662600656097), (12.594194066191111, 2.5717778354776577), (10.946841939586896, 3.8260306175375134), (11.48419869378604, 2.402453833414224), (11.120870867123784, 4.02781384191709), (10.971392430875488, 3.629339915268192), (11.588948579712495, 3.189609941879746), (10.706641521307748, 3.393975043434297), (11.07625934092972, 2.574948470025072), (12.953262542191796, 3.4720213800343784), (10.572466600106116, 4.198349060814376), (11.658036814224134, 2.086348146609663), (13.592512657946294, 3.605933917733071), (11.371767361249, 4.034386130357466), (11.233414953540922, 2.320550249888456), (10.290350765056484, 3.491093337009152), (14.121783839255324, 5.320093863780987), (12.41554196333362, 3.130538462464844), (10.770248917443364, 4.985204970864011), (12.664390524735165, 1.726962043188511), (12.667808875387266, 3.7016222869142337), (13.970181074130446, 1.7851739448879638), (11.509253453525044, 3.0226757598626595), (11.405770450141056, 4.041244969129275), (12.263717676034362, 3.13952693504287), (12.71070130045925, 2.562818810803233), (13.471577671948916, 2.3790764968915394), (11.186808718643787, 4.301996499354755), (11.246812606011584, 2.0947616690074846), (12.357638107209011, 4.089330841235956), (11.764325958658198, 3.5160510174718302), (11.761883803681748, 1.8208106181524435), (11.550300110865926, 4.183143661726128), (12.482669924970503, 3.393902788069372), (11.731364294077403, 4.4263640805293125), (12.21407374586628, 2.905238361446573), (11.903756682535942, 2.782757828499416), (12.222483941893726, 3.4470177927906893), (12.005916370756166, 4.712233578509766), (11.91374515283876, 1.2281124234144234), (12.125401967944384, 4.019051426800219), (11.30555143041474, 1.7073897286757314), (11.608997070875462, 3.1630919310737573), (11.693058197072652, 3.4470928961368963), (11.201569884684467, 2.208813678005546), (12.625432642053951, 5.412357839551379), (13.35063168445937, 2.768851943263104), (13.566159613087605, 3.746572973103466), (11.695736293481328, 3.5765259152594644), (11.499409061002083, 4.958264472618698), (12.391422991118318, 2.336484668112853), (12.418808324753911, 2.735159567082275)]\n"
          ]
        }
      ]
    },
    {
      "cell_type": "code",
      "source": [
        "y=df['Yearly Amount Spent']"
      ],
      "metadata": {
        "id": "2VY-DKvCYj42"
      },
      "execution_count": null,
      "outputs": []
    },
    {
      "cell_type": "code",
      "source": [
        "from sklearn import linear_model\n",
        "import numpy as np\n",
        "lm = linear_model.LinearRegression()\n",
        "lm.fit(x, y)  # fitting the model\n",
        "print(\"The coefficient is:\", lm.coef_)\n",
        "print(\"The intercept is:\", lm.intercept_)"
      ],
      "metadata": {
        "colab": {
          "base_uri": "https://localhost:8080/"
        },
        "id": "UJFKluC_nfNQ",
        "outputId": "608de77f-43af-489b-8d53-4e3872005296"
      },
      "execution_count": null,
      "outputs": [
        {
          "output_type": "stream",
          "name": "stdout",
          "text": [
            "The coefficient is: [37.98572666 63.11729045]\n",
            "The intercept is: -181.53099341089745\n"
          ]
        }
      ]
    },
    {
      "cell_type": "code",
      "source": [
        "from sklearn.linear_model import LinearRegression"
      ],
      "metadata": {
        "id": "iawo7JOxn_se"
      },
      "execution_count": null,
      "outputs": []
    },
    {
      "cell_type": "code",
      "source": [
        "lr=LinearRegression()"
      ],
      "metadata": {
        "id": "esJht-SYowJ2"
      },
      "execution_count": null,
      "outputs": []
    },
    {
      "cell_type": "code",
      "source": [
        "from sklearn.model_selection import train_test_split\n",
        "x_train,x_test, y_train,y_test=train_test_split(x,y,test_size=0.3,random_state=0)"
      ],
      "metadata": {
        "id": "nonXN72mYyuq"
      },
      "execution_count": null,
      "outputs": []
    },
    {
      "cell_type": "code",
      "source": [
        "lr.fit(x_train,y_train)"
      ],
      "metadata": {
        "colab": {
          "base_uri": "https://localhost:8080/",
          "height": 75
        },
        "id": "hISBbF0WZRE9",
        "outputId": "7d662c9e-4f97-40a6-dd62-6bfed3feeb07"
      },
      "execution_count": null,
      "outputs": [
        {
          "output_type": "execute_result",
          "data": {
            "text/plain": [
              "LinearRegression()"
            ],
            "text/html": [
              "<style>#sk-container-id-1 {color: black;background-color: white;}#sk-container-id-1 pre{padding: 0;}#sk-container-id-1 div.sk-toggleable {background-color: white;}#sk-container-id-1 label.sk-toggleable__label {cursor: pointer;display: block;width: 100%;margin-bottom: 0;padding: 0.3em;box-sizing: border-box;text-align: center;}#sk-container-id-1 label.sk-toggleable__label-arrow:before {content: \"▸\";float: left;margin-right: 0.25em;color: #696969;}#sk-container-id-1 label.sk-toggleable__label-arrow:hover:before {color: black;}#sk-container-id-1 div.sk-estimator:hover label.sk-toggleable__label-arrow:before {color: black;}#sk-container-id-1 div.sk-toggleable__content {max-height: 0;max-width: 0;overflow: hidden;text-align: left;background-color: #f0f8ff;}#sk-container-id-1 div.sk-toggleable__content pre {margin: 0.2em;color: black;border-radius: 0.25em;background-color: #f0f8ff;}#sk-container-id-1 input.sk-toggleable__control:checked~div.sk-toggleable__content {max-height: 200px;max-width: 100%;overflow: auto;}#sk-container-id-1 input.sk-toggleable__control:checked~label.sk-toggleable__label-arrow:before {content: \"▾\";}#sk-container-id-1 div.sk-estimator input.sk-toggleable__control:checked~label.sk-toggleable__label {background-color: #d4ebff;}#sk-container-id-1 div.sk-label input.sk-toggleable__control:checked~label.sk-toggleable__label {background-color: #d4ebff;}#sk-container-id-1 input.sk-hidden--visually {border: 0;clip: rect(1px 1px 1px 1px);clip: rect(1px, 1px, 1px, 1px);height: 1px;margin: -1px;overflow: hidden;padding: 0;position: absolute;width: 1px;}#sk-container-id-1 div.sk-estimator {font-family: monospace;background-color: #f0f8ff;border: 1px dotted black;border-radius: 0.25em;box-sizing: border-box;margin-bottom: 0.5em;}#sk-container-id-1 div.sk-estimator:hover {background-color: #d4ebff;}#sk-container-id-1 div.sk-parallel-item::after {content: \"\";width: 100%;border-bottom: 1px solid gray;flex-grow: 1;}#sk-container-id-1 div.sk-label:hover label.sk-toggleable__label {background-color: #d4ebff;}#sk-container-id-1 div.sk-serial::before {content: \"\";position: absolute;border-left: 1px solid gray;box-sizing: border-box;top: 0;bottom: 0;left: 50%;z-index: 0;}#sk-container-id-1 div.sk-serial {display: flex;flex-direction: column;align-items: center;background-color: white;padding-right: 0.2em;padding-left: 0.2em;position: relative;}#sk-container-id-1 div.sk-item {position: relative;z-index: 1;}#sk-container-id-1 div.sk-parallel {display: flex;align-items: stretch;justify-content: center;background-color: white;position: relative;}#sk-container-id-1 div.sk-item::before, #sk-container-id-1 div.sk-parallel-item::before {content: \"\";position: absolute;border-left: 1px solid gray;box-sizing: border-box;top: 0;bottom: 0;left: 50%;z-index: -1;}#sk-container-id-1 div.sk-parallel-item {display: flex;flex-direction: column;z-index: 1;position: relative;background-color: white;}#sk-container-id-1 div.sk-parallel-item:first-child::after {align-self: flex-end;width: 50%;}#sk-container-id-1 div.sk-parallel-item:last-child::after {align-self: flex-start;width: 50%;}#sk-container-id-1 div.sk-parallel-item:only-child::after {width: 0;}#sk-container-id-1 div.sk-dashed-wrapped {border: 1px dashed gray;margin: 0 0.4em 0.5em 0.4em;box-sizing: border-box;padding-bottom: 0.4em;background-color: white;}#sk-container-id-1 div.sk-label label {font-family: monospace;font-weight: bold;display: inline-block;line-height: 1.2em;}#sk-container-id-1 div.sk-label-container {text-align: center;}#sk-container-id-1 div.sk-container {/* jupyter's `normalize.less` sets `[hidden] { display: none; }` but bootstrap.min.css set `[hidden] { display: none !important; }` so we also need the `!important` here to be able to override the default hidden behavior on the sphinx rendered scikit-learn.org. See: https://github.com/scikit-learn/scikit-learn/issues/21755 */display: inline-block !important;position: relative;}#sk-container-id-1 div.sk-text-repr-fallback {display: none;}</style><div id=\"sk-container-id-1\" class=\"sk-top-container\"><div class=\"sk-text-repr-fallback\"><pre>LinearRegression()</pre><b>In a Jupyter environment, please rerun this cell to show the HTML representation or trust the notebook. <br />On GitHub, the HTML representation is unable to render, please try loading this page with nbviewer.org.</b></div><div class=\"sk-container\" hidden><div class=\"sk-item\"><div class=\"sk-estimator sk-toggleable\"><input class=\"sk-toggleable__control sk-hidden--visually\" id=\"sk-estimator-id-1\" type=\"checkbox\" checked><label for=\"sk-estimator-id-1\" class=\"sk-toggleable__label sk-toggleable__label-arrow\">LinearRegression</label><div class=\"sk-toggleable__content\"><pre>LinearRegression()</pre></div></div></div></div></div>"
            ]
          },
          "metadata": {},
          "execution_count": 77
        }
      ]
    },
    {
      "cell_type": "code",
      "source": [
        "lr.coef_"
      ],
      "metadata": {
        "colab": {
          "base_uri": "https://localhost:8080/"
        },
        "id": "rTRmL2gppF9G",
        "outputId": "ae1f3fad-3c3d-4405-b9d6-9a91336bcfaf"
      },
      "execution_count": null,
      "outputs": [
        {
          "output_type": "execute_result",
          "data": {
            "text/plain": [
              "array([36.9735976 , 64.37996994])"
            ]
          },
          "metadata": {},
          "execution_count": 78
        }
      ]
    },
    {
      "cell_type": "code",
      "source": [
        "lr.intercept_"
      ],
      "metadata": {
        "colab": {
          "base_uri": "https://localhost:8080/"
        },
        "id": "bTbtXFQRpNjn",
        "outputId": "be584a22-e3ac-4285-9b84-9f4af55a39e2"
      },
      "execution_count": null,
      "outputs": [
        {
          "output_type": "execute_result",
          "data": {
            "text/plain": [
              "-174.24160712701422"
            ]
          },
          "metadata": {},
          "execution_count": 79
        }
      ]
    },
    {
      "cell_type": "code",
      "source": [
        "predic=lr.predict(x_test)\n",
        "predic"
      ],
      "metadata": {
        "colab": {
          "base_uri": "https://localhost:8080/"
        },
        "id": "yYBXendXpVzu",
        "outputId": "b36fca01-b767-434a-ddbf-0b1823fbb9a2"
      },
      "execution_count": null,
      "outputs": [
        {
          "output_type": "execute_result",
          "data": {
            "text/plain": [
              "array([448.46454183, 497.19661028, 366.2121998 , 538.45450926,\n",
              "       505.94720108, 509.15725884, 441.16765473, 353.68700151,\n",
              "       490.12102178, 696.36401896, 569.74008265, 536.03978023,\n",
              "       479.41864251, 415.83994334, 474.8161828 , 430.6649787 ,\n",
              "       532.44319226, 400.51788676, 520.11974278, 491.13009703,\n",
              "       666.60596926, 495.78999729, 412.60450531, 552.03523991,\n",
              "       511.57712393, 424.83265155, 402.28193498, 398.19326844,\n",
              "       530.09603337, 491.94080537, 585.52961968, 522.1090165 ,\n",
              "       507.45497362, 472.25183225, 472.11345832, 382.12408847,\n",
              "       458.61812892, 405.04043971, 559.60795529, 462.24381021,\n",
              "       485.65691646, 561.42680273, 615.70161006, 579.51047489,\n",
              "       435.57747581, 408.02556397, 520.40875042, 437.80733598,\n",
              "       538.00211797, 415.61439232, 492.90788216, 407.43903235,\n",
              "       596.73057062, 453.51443211, 421.68831923, 491.54563077,\n",
              "       614.55576525, 311.71585546, 522.23883955, 496.92106012,\n",
              "       514.36418029, 434.8784144 , 447.25175253, 553.88624943,\n",
              "       499.91474536, 359.55161185, 478.7785171 , 457.21569121,\n",
              "       624.49885202, 479.14553366, 467.36852877, 731.26710586,\n",
              "       544.89197901, 445.03696773, 368.50377336, 354.88444114,\n",
              "       598.20496589, 526.62806019, 480.01655839, 473.86035563,\n",
              "       520.66541256, 489.45712398, 516.33736217, 534.48154128,\n",
              "       508.0088579 , 505.67281185, 597.85242847, 722.78866635,\n",
              "       429.7087112 , 478.36321225, 491.17906617, 504.75213793,\n",
              "       352.73940767, 432.58111415, 502.91469582, 414.21145009,\n",
              "       527.4387856 , 496.67056683, 586.44467205, 414.60964333,\n",
              "       415.52915613, 496.11291409, 580.12643087, 477.0159581 ,\n",
              "       547.63445095, 445.80342522, 434.3311979 , 514.85972902,\n",
              "       348.66817863, 512.70683538, 535.49042105, 567.93314395,\n",
              "       403.2877397 , 531.43922466, 430.98616531, 559.82511   ,\n",
              "       457.2179384 , 489.19194896, 533.68757764, 537.19377622,\n",
              "       533.39815066, 453.09868062, 377.77188522, 617.61324299,\n",
              "       515.58205962, 583.72553297, 527.43791755, 426.66098934,\n",
              "       481.22794186, 604.03870868, 499.58649769, 428.28033796,\n",
              "       498.87730797, 472.61278374, 437.96412385, 458.62454255,\n",
              "       486.95010491, 528.21574179, 465.06703636, 439.96405211,\n",
              "       412.07656904, 342.19928354, 537.90567671, 597.67579573,\n",
              "       532.82453601, 585.09574145, 557.37097039, 542.30109937,\n",
              "       395.24355145, 624.10891923])"
            ]
          },
          "metadata": {},
          "execution_count": 82
        }
      ]
    },
    {
      "cell_type": "code",
      "source": [
        "plt.scatter(predic,y_test)\n",
        "plt.plot (x_test,y_test,color='red')"
      ],
      "metadata": {
        "colab": {
          "base_uri": "https://localhost:8080/",
          "height": 465
        },
        "id": "ze2HK4D0p5HE",
        "outputId": "db8eb2ef-3464-4804-eaa4-6080fd45f2b2"
      },
      "execution_count": null,
      "outputs": [
        {
          "output_type": "execute_result",
          "data": {
            "text/plain": [
              "[<matplotlib.lines.Line2D at 0x7ba72aa3b5b0>,\n",
              " <matplotlib.lines.Line2D at 0x7ba72aa3b6d0>]"
            ]
          },
          "metadata": {},
          "execution_count": 100
        },
        {
          "output_type": "display_data",
          "data": {
            "text/plain": [
              "<Figure size 640x480 with 1 Axes>"
            ],
            "image/png": "[encoded data removed]"
          },
          "metadata": {}
        }
      ]
    },
    {
      "cell_type": "code",
      "source": [
        "from IPython.core import error\n",
        "from sklearn.metrics import mean_squared_error,r2_score,mean_absolute_error"
      ],
      "metadata": {
        "id": "l814Na26r-u8"
      },
      "execution_count": null,
      "outputs": []
    },
    {
      "cell_type": "code",
      "source": [
        "mean_squared_error(y_test,predic)"
      ],
      "metadata": {
        "colab": {
          "base_uri": "https://localhost:8080/"
        },
        "id": "aDHC9mjxsHwE",
        "outputId": "c65c5d7d-3963-4014-965e-012d050473c6"
      },
      "execution_count": null,
      "outputs": [
        {
          "output_type": "execute_result",
          "data": {
            "text/plain": [
              "928.9918724747439"
            ]
          },
          "metadata": {},
          "execution_count": 95
        }
      ]
    },
    {
      "cell_type": "code",
      "source": [
        "r2_score(y_test,predic)"
      ],
      "metadata": {
        "colab": {
          "base_uri": "https://localhost:8080/"
        },
        "id": "EjM5YqZVsN7A",
        "outputId": "5ac4b15b-70fa-424a-9b6b-8dd1076ba13f"
      },
      "execution_count": null,
      "outputs": [
        {
          "output_type": "execute_result",
          "data": {
            "text/plain": [
              "0.8519067019295845"
            ]
          },
          "metadata": {},
          "execution_count": 96
        }
      ]
    },
    {
      "cell_type": "code",
      "source": [
        "mean_absolute_error(y_test,predic)"
      ],
      "metadata": {
        "colab": {
          "base_uri": "https://localhost:8080/"
        },
        "id": "QuU4_fjesUX9",
        "outputId": "c4be76f3-3aed-4dc0-f8e6-1ad26da08630"
      },
      "execution_count": null,
      "outputs": [
        {
          "output_type": "execute_result",
          "data": {
            "text/plain": [
              "24.53581034454647"
            ]
          },
          "metadata": {},
          "execution_count": 97
        }
      ]
    },
    {
      "cell_type": "markdown",
      "source": [
        "# New Section"
      ],
      "metadata": {
        "id": "mdjKGnqpvMXp"
      }
    }
  ]
}