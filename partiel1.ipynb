{
  "nbformat": 4,
  "nbformat_minor": 0,
  "metadata": {
    "colab": {
      "provenance": [],
      "authorship_tag": "ABX9TyPw4SsPv0zfFQ/kjDcqos/l",
      "include_colab_link": true
    },
    "kernelspec": {
      "name": "python3",
      "display_name": "Python 3"
    },
    "language_info": {
      "name": "python"
    }
  },
  "cells": [
    {
      "cell_type": "markdown",
      "metadata": {
        "id": "view-in-github",
        "colab_type": "text"
      },
      "source": [
        "<a href=\"https://colab.research.google.com/github/imanuni/linear_data_ecomm/blob/main/partiel1.ipynb\" target=\"_parent\"><img src=\"https://colab.research.google.com/assets/colab-badge.svg\" alt=\"Open In Colab\"/></a>"
      ]
    },
    {
      "cell_type": "code",
      "execution_count": 1,
      "metadata": {
        "colab": {
          "base_uri": "https://localhost:8080/"
        },
        "id": "w8npsYAhGFlx",
        "outputId": "264f3e97-55f7-45a5-98e9-e59b8de4d605"
      },
      "outputs": [
        {
          "output_type": "stream",
          "name": "stdout",
          "text": [
            "Collecting mishkal\n",
            "  Downloading mishkal-0.4.1-py3-none-any.whl (789 kB)\n",
            "\u001b[2K     \u001b[90m━━━━━━━━━━━━━━━━━━━━━━━━━━━━━━━━━━━━━━━━\u001b[0m \u001b[32m789.5/789.5 kB\u001b[0m \u001b[31m6.8 MB/s\u001b[0m eta \u001b[36m0:00:00\u001b[0m\n",
            "\u001b[?25hCollecting alyahmor>=0.1 (from mishkal)\n",
            "  Downloading alyahmor-0.2-py3-none-any.whl (65 kB)\n",
            "\u001b[2K     \u001b[90m━━━━━━━━━━━━━━━━━━━━━━━━━━━━━━━━━━━━━━━━\u001b[0m \u001b[32m65.1/65.1 kB\u001b[0m \u001b[31m3.0 MB/s\u001b[0m eta \u001b[36m0:00:00\u001b[0m\n",
            "\u001b[?25hCollecting arramooz-pysqlite>=0.1 (from mishkal)\n",
            "  Downloading arramooz_pysqlite-0.4.2-py3-none-any.whl (6.3 MB)\n",
            "\u001b[2K     \u001b[90m━━━━━━━━━━━━━━━━━━━━━━━━━━━━━━━━━━━━━━━━\u001b[0m \u001b[32m6.3/6.3 MB\u001b[0m \u001b[31m22.7 MB/s\u001b[0m eta \u001b[36m0:00:00\u001b[0m\n",
            "\u001b[?25hCollecting asmai>=0.1 (from mishkal)\n",
            "  Downloading asmai-0.1-py3-none-any.whl (4.3 MB)\n",
            "\u001b[2K     \u001b[90m━━━━━━━━━━━━━━━━━━━━━━━━━━━━━━━━━━━━━━━━\u001b[0m \u001b[32m4.3/4.3 MB\u001b[0m \u001b[31m55.5 MB/s\u001b[0m eta \u001b[36m0:00:00\u001b[0m\n",
            "\u001b[?25hCollecting libqutrub>=1.0 (from mishkal)\n",
            "  Downloading libqutrub-1.2.4.1-py3-none-any.whl (138 kB)\n",
            "\u001b[2K     \u001b[90m━━━━━━━━━━━━━━━━━━━━━━━━━━━━━━━━━━━━━━━━\u001b[0m \u001b[32m139.0/139.0 kB\u001b[0m \u001b[31m15.5 MB/s\u001b[0m eta \u001b[36m0:00:00\u001b[0m\n",
            "\u001b[?25hCollecting maskouk-pysqlite>=0.1 (from mishkal)\n",
            "  Downloading maskouk_pysqlite-0.1-py3-none-any.whl (6.0 MB)\n",
            "\u001b[2K     \u001b[90m━━━━━━━━━━━━━━━━━━━━━━━━━━━━━━━━━━━━━━━━\u001b[0m \u001b[32m6.0/6.0 MB\u001b[0m \u001b[31m20.4 MB/s\u001b[0m eta \u001b[36m0:00:00\u001b[0m\n",
            "\u001b[?25hCollecting mysam-tagmanager>=0.1 (from mishkal)\n",
            "  Downloading mysam_tagmanager-0.4-py3-none-any.whl (37 kB)\n",
            "Collecting naftawayh>=0.2 (from mishkal)\n",
            "  Downloading Naftawayh-0.4-py3-none-any.whl (332 kB)\n",
            "\u001b[2K     \u001b[90m━━━━━━━━━━━━━━━━━━━━━━━━━━━━━━━━━━━━━━━━\u001b[0m \u001b[32m332.6/332.6 kB\u001b[0m \u001b[31m20.5 MB/s\u001b[0m eta \u001b[36m0:00:00\u001b[0m\n",
            "\u001b[?25hCollecting pickledb>=0.9.0 (from mishkal)\n",
            "  Downloading pickleDB-0.9.2.tar.gz (3.7 kB)\n",
            "  Preparing metadata (setup.py) ... \u001b[?25l\u001b[?25hdone\n",
            "Collecting pyarabic>=0.6.2 (from mishkal)\n",
            "  Downloading PyArabic-0.6.15-py3-none-any.whl (126 kB)\n",
            "\u001b[2K     \u001b[90m━━━━━━━━━━━━━━━━━━━━━━━━━━━━━━━━━━━━━━━━\u001b[0m \u001b[32m126.4/126.4 kB\u001b[0m \u001b[31m13.1 MB/s\u001b[0m eta \u001b[36m0:00:00\u001b[0m\n",
            "\u001b[?25hCollecting qalsadi>=0.2 (from mishkal)\n",
            "  Downloading qalsadi-0.5-py3-none-any.whl (264 kB)\n",
            "\u001b[2K     \u001b[90m━━━━━━━━━━━━━━━━━━━━━━━━━━━━━━━━━━━━━━━━\u001b[0m \u001b[32m264.3/264.3 kB\u001b[0m \u001b[31m30.6 MB/s\u001b[0m eta \u001b[36m0:00:00\u001b[0m\n",
            "\u001b[?25hCollecting sylajone>=0.1 (from mishkal)\n",
            "  Downloading sylajone-0.3.1-py3-none-any.whl (37 kB)\n",
            "Collecting tashaphyne>=0.3.1 (from mishkal)\n",
            "  Downloading Tashaphyne-0.3.6-py3-none-any.whl (251 kB)\n",
            "\u001b[2K     \u001b[90m━━━━━━━━━━━━━━━━━━━━━━━━━━━━━━━━━━━━━━━━\u001b[0m \u001b[32m251.5/251.5 kB\u001b[0m \u001b[31m25.7 MB/s\u001b[0m eta \u001b[36m0:00:00\u001b[0m\n",
            "\u001b[?25hCollecting Arabic-Stopwords>=0.4.2 (from alyahmor>=0.1->mishkal)\n",
            "  Downloading Arabic_Stopwords-0.4.3-py3-none-any.whl (360 kB)\n",
            "\u001b[2K     \u001b[90m━━━━━━━━━━━━━━━━━━━━━━━━━━━━━━━━━━━━━━━━\u001b[0m \u001b[32m360.5/360.5 kB\u001b[0m \u001b[31m34.6 MB/s\u001b[0m eta \u001b[36m0:00:00\u001b[0m\n",
            "\u001b[?25hRequirement already satisfied: six>=1.14.0 in /usr/local/lib/python3.10/dist-packages (from pyarabic>=0.6.2->mishkal) (1.16.0)\n",
            "Collecting codernitydb3 (from qalsadi>=0.2->mishkal)\n",
            "  Downloading codernitydb3-0.6.0.tar.gz (46 kB)\n",
            "\u001b[2K     \u001b[90m━━━━━━━━━━━━━━━━━━━━━━━━━━━━━━━━━━━━━━━━\u001b[0m \u001b[32m46.1/46.1 kB\u001b[0m \u001b[31m4.6 MB/s\u001b[0m eta \u001b[36m0:00:00\u001b[0m\n",
            "\u001b[?25h  Preparing metadata (setup.py) ... \u001b[?25l\u001b[?25hdone\n",
            "Building wheels for collected packages: pickledb, codernitydb3\n",
            "  Building wheel for pickledb (setup.py) ... \u001b[?25l\u001b[?25hdone\n",
            "  Created wheel for pickledb: filename=pickleDB-0.9.2-py3-none-any.whl size=4254 sha256=046447280ff680214a5dc2646e2de10c948e8a31fffdd1b87d75b4365dfd8561\n",
            "  Stored in directory: /root/.cache/pip/wheels/31/99/ef/8bf37f0157e6423a373297de279351af04ad18c4136c3af121\n",
            "  Building wheel for codernitydb3 (setup.py) ... \u001b[?25l\u001b[?25hdone\n",
            "  Created wheel for codernitydb3: filename=codernitydb3-0.6.0-py3-none-any.whl size=59849 sha256=a77c5b9bd9cc77db60f45441313268bc42d3cabb2abbde448d2bdedc9bef3398\n",
            "  Stored in directory: /root/.cache/pip/wheels/81/96/96/58346beb99967aa576ad33aa0b75ffd3c7dfa58291bec26d7c\n",
            "Successfully built pickledb codernitydb3\n",
            "Installing collected packages: pickledb, mysam-tagmanager, pyarabic, codernitydb3, tashaphyne, maskouk-pysqlite, libqutrub, asmai, arramooz-pysqlite, Arabic-Stopwords, naftawayh, alyahmor, qalsadi, sylajone, mishkal\n",
            "Successfully installed Arabic-Stopwords-0.4.3 alyahmor-0.2 arramooz-pysqlite-0.4.2 asmai-0.1 codernitydb3-0.6.0 libqutrub-1.2.4.1 maskouk-pysqlite-0.1 mishkal-0.4.1 mysam-tagmanager-0.4 naftawayh-0.4 pickledb-0.9.2 pyarabic-0.6.15 qalsadi-0.5 sylajone-0.3.1 tashaphyne-0.3.6\n"
          ]
        }
      ],
      "source": [
        "!pip install mishkal"
      ]
    },
    {
      "cell_type": "code",
      "source": [
        "import re"
      ],
      "metadata": {
        "id": "qz-jyYzmGpAL"
      },
      "execution_count": 2,
      "outputs": []
    },
    {
      "cell_type": "code",
      "source": [
        "def remove_diacritics(string):\n",
        "    regex = re.compile(r'[\\u064B\\u064C\\u064D\\u064E\\u064F\\u0650\\u0651\\u0652]')\n",
        "    return re.sub(regex, '', string)"
      ],
      "metadata": {
        "id": "AKk-1VonLAFQ"
      },
      "execution_count": 3,
      "outputs": []
    },
    {
      "cell_type": "code",
      "source": [
        "def remove_non_arabic_symbols(string):\n",
        "    return re.sub(r'[^\\u0600-\\u06FF]', ' ', string)"
      ],
      "metadata": {
        "id": "ITr399P9Mw1k"
      },
      "execution_count": 6,
      "outputs": []
    },
    {
      "cell_type": "code",
      "source": [
        "string=\"حَدَّثَنِي يَحْيَى، عَنْ مَالِكٍ، عَنْ عَمْرِو بْنِ يَحْيَى الْمَازِنِيِّ، عَنْ أَبِيهِ أَنَّهُ قَالَ لِعَبْدِ اللَّهِ بْنِ زَيْدِ بْنِ عَاصِمٍ - وَهُوَ جَدُّ عَمْرِو بْنِ يَحْيَى الْمَازِنِيِّ وَكَانَ مِنْ أَصْحَابِ رَسُولِ اللَّهِ (ﷺ) - : هَلْ تَسْتَطِيعُ أَنْ تُرِيَنِي كَيْفَ كَانَ رَسُولُ اللَّهِ (ﷺ) يَتَوَضَّأُ ؟ فَقَالَ عَبْدُ اللَّهِ بْنُ زَيْدِ بْنِ عَاصِمٍ : نَعَمْ، فَدَعَا بِوَضُوءٍ، فَأَفْرَغَ عَلَى يَدِه.\"\n",
        "string = remove_diacritics(string)\n",
        "string = remove_non_arabic_symbols(string)\n",
        "print(\"Après: \",string)"
      ],
      "metadata": {
        "colab": {
          "base_uri": "https://localhost:8080/"
        },
        "id": "a2mqhBLeLKRU",
        "outputId": "9cb34a85-1c53-4ec8-a80d-3ad74e16acf2"
      },
      "execution_count": 7,
      "outputs": [
        {
          "output_type": "stream",
          "name": "stdout",
          "text": [
            "Après:  حدثني يحيى، عن مالك، عن عمرو بن يحيى المازني، عن أبيه أنه قال لعبد الله بن زيد بن عاصم   وهو جد عمرو بن يحيى المازني وكان من أصحاب رسول الله         هل تستطيع أن تريني كيف كان رسول الله     يتوضأ ؟ فقال عبد الله بن زيد بن عاصم   نعم، فدعا بوضوء، فأفرغ على يده \n"
          ]
        }
      ]
    },
    {
      "cell_type": "code",
      "source": [
        "def remove_extra_whitespace(string):\n",
        "    string = re.sub(r'\\s+', ' ', string)\n",
        "    return re.sub(r\"\\s{2,}\", \" \", string).strip()\n",
        "word=\"حدثني يحيى، عن مالك، عن عمرو بن يحيى المازني، عن أبيه أنه قال لعبد الله بن زيد بن عاصم   وهو جد عمرو بن يحيى المازني وكان من أصحاب رسول الله         هل تستطيع أن تريني كيف كان رسول الله     يتوضأ ؟ فقال عبد الله بن زيد بن عاصم   نعم، فدعا بوضوء، فأفرغ على يده \"\n",
        "string=word\n",
        "string = remove_extra_whitespace(string)\n",
        "print(\"Après: \",string)\n"
      ],
      "metadata": {
        "colab": {
          "base_uri": "https://localhost:8080/"
        },
        "id": "syAu7uRil6Iv",
        "outputId": "5122930f-466e-44fe-c994-675aa14b49a9"
      },
      "execution_count": 33,
      "outputs": [
        {
          "output_type": "stream",
          "name": "stdout",
          "text": [
            "Après:  حدثني يحيى، عن مالك، عن عمرو بن يحيى المازني، عن أبيه أنه قال لعبد الله بن زيد بن عاصم وهو جد عمرو بن يحيى المازني وكان من أصحاب رسول الله هل تستطيع أن تريني كيف كان رسول الله يتوضأ ؟ فقال عبد الله بن زيد بن عاصم نعم، فدعا بوضوء، فأفرغ على يده\n"
          ]
        }
      ]
    },
    {
      "cell_type": "code",
      "source": [
        "import mishkal.tashkeel\n",
        "vocalizer = mishkal.tashkeel.TashkeelClass()\n",
        "text = u\" حدثني يحيى، عن مالك، عن عمرو بن يحيى المازني، عن أبيه أنه قال لعبد الله بن زيد بن عاصم   وهو جد عمرو بن يحيى المازني وكان من أصحاب رسول الله         هل تستطيع أن تريني كيف كان رسول الله     يتوضأ ؟ فقال عبد الله بن زيد بن عاصم   نعم، فدعا بوضوء، فأفرغ على يده ا\"\n",
        "vocalizer.tashkeel(text)"
      ],
      "metadata": {
        "colab": {
          "base_uri": "https://localhost:8080/",
          "height": 35
        },
        "id": "BH9gwMuhMQ6a",
        "outputId": "94c6d6dc-0ad6-444d-d75f-19886fe62d3f"
      },
      "execution_count": 8,
      "outputs": [
        {
          "output_type": "execute_result",
          "data": {
            "text/plain": [
              "' حَدَّثَنِي يَحْيَى ، عَن مَالِكٍ ، عَن عَمْروِ بْنِ يَحْيَى الْمَازِنِيِّ ، عَن أَبِيهِ أَنّهُ قَالَ لِعَبْدُ اللهِ بْن زِيدَ بْنِ عَاصِمٌ وهُو جِدْ عَمْروَ بْن يَحْيَى الْمَازِنِيِّ وكَان مِن أَصْحَابِ رَسُولِ اللهِ هَل تَسْتَطِيعُ أَن تَرِينِي كَيْف كَان رَسُولِ اللهِ يَتَوَضَّأُ ؟ فَقَالَ عَبْدُ اللهِ بْن زِيدَ بْنِ عَاصِمٌ نَعَم ، فَدَعَا بِوَضُوءٍ ، فَأَفْرَغَ عَلَى يَدِهِ َا'"
            ],
            "application/vnd.google.colaboratory.intrinsic+json": {
              "type": "string"
            }
          },
          "metadata": {},
          "execution_count": 8
        }
      ]
    },
    {
      "cell_type": "code",
      "source": [
        "import pandas as pd"
      ],
      "metadata": {
        "id": "5cp3uaCCaA5U"
      },
      "execution_count": 17,
      "outputs": []
    },
    {
      "cell_type": "code",
      "source": [
        "!pip install python-docx"
      ],
      "metadata": {
        "colab": {
          "base_uri": "https://localhost:8080/"
        },
        "id": "o21FNp-3V_wq",
        "outputId": "f4af6de4-c503-4224-f4fe-e9106fb84288"
      },
      "execution_count": 14,
      "outputs": [
        {
          "output_type": "stream",
          "name": "stdout",
          "text": [
            "Requirement already satisfied: python-docx in /usr/local/lib/python3.10/dist-packages (1.1.0)\n",
            "Requirement already satisfied: lxml>=3.1.0 in /usr/local/lib/python3.10/dist-packages (from python-docx) (4.9.3)\n",
            "Requirement already satisfied: typing-extensions in /usr/local/lib/python3.10/dist-packages (from python-docx) (4.5.0)\n"
          ]
        }
      ]
    },
    {
      "cell_type": "code",
      "source": [
        "from google.colab import files\n",
        "from docx import Document\n",
        "import io\n",
        "\n",
        "# Charger le fichier Word téléchargé\n",
        "uploaded = files.upload()\n",
        "\n",
        "# Obtenir la liste des noms de fichiers téléchargés\n",
        "uploaded_filenames = list(uploaded.keys())\n",
        "\n",
        "# Imprimer la liste des noms de fichiers\n",
        "print(uploaded_filenames)\n",
        "\n",
        "# Charger le contenu du fichier Word\n",
        "uploaded_docx_content = uploaded[uploaded_filenames[0]]\n",
        "\n",
        "# Créer un objet Document à partir du contenu du fichier Word\n",
        "doc = Document(io.BytesIO(uploaded_docx_content))\n",
        "\n",
        "# Afficher le texte de chaque paragraphe\n",
        "for paragraph in doc.paragraphs:\n",
        "    print(paragraph.text)\n",
        "\n"
      ],
      "metadata": {
        "colab": {
          "base_uri": "https://localhost:8080/",
          "height": 212
        },
        "id": "P31U8LTdMllm",
        "outputId": "8455f2ba-6477-4ffa-a178-27bdbce5a4cd"
      },
      "execution_count": 26,
      "outputs": [
        {
          "output_type": "display_data",
          "data": {
            "text/plain": [
              "<IPython.core.display.HTML object>"
            ],
            "text/html": [
              "\n",
              "     <input type=\"file\" id=\"files-d52b94cc-e5c1-4142-9611-4391a806eabe\" name=\"files[]\" multiple disabled\n",
              "        style=\"border:none\" />\n",
              "     <output id=\"result-d52b94cc-e5c1-4142-9611-4391a806eabe\">\n",
              "      Upload widget is only available when the cell has been executed in the\n",
              "      current browser session. Please rerun this cell to enable.\n",
              "      </output>\n",
              "      <script>// Copyright 2017 Google LLC\n",
              "//\n",
              "// Licensed under the Apache License, Version 2.0 (the \"License\");\n",
              "// you may not use this file except in compliance with the License.\n",
              "// You may obtain a copy of the License at\n",
              "//\n",
              "//      http://www.apache.org/licenses/LICENSE-2.0\n",
              "//\n",
              "// Unless required by applicable law or agreed to in writing, software\n",
              "// distributed under the License is distributed on an \"AS IS\" BASIS,\n",
              "// WITHOUT WARRANTIES OR CONDITIONS OF ANY KIND, either express or implied.\n",
              "// See the License for the specific language governing permissions and\n",
              "// limitations under the License.\n",
              "\n",
              "/**\n",
              " * @fileoverview Helpers for google.colab Python module.\n",
              " */\n",
              "(function(scope) {\n",
              "function span(text, styleAttributes = {}) {\n",
              "  const element = document.createElement('span');\n",
              "  element.textContent = text;\n",
              "  for (const key of Object.keys(styleAttributes)) {\n",
              "    element.style[key] = styleAttributes[key];\n",
              "  }\n",
              "  return element;\n",
              "}\n",
              "\n",
              "// Max number of bytes which will be uploaded at a time.\n",
              "const MAX_PAYLOAD_SIZE = 100 * 1024;\n",
              "\n",
              "function _uploadFiles(inputId, outputId) {\n",
              "  const steps = uploadFilesStep(inputId, outputId);\n",
              "  const outputElement = document.getElementById(outputId);\n",
              "  // Cache steps on the outputElement to make it available for the next call\n",
              "  // to uploadFilesContinue from Python.\n",
              "  outputElement.steps = steps;\n",
              "\n",
              "  return _uploadFilesContinue(outputId);\n",
              "}\n",
              "\n",
              "// This is roughly an async generator (not supported in the browser yet),\n",
              "// where there are multiple asynchronous steps and the Python side is going\n",
              "// to poll for completion of each step.\n",
              "// This uses a Promise to block the python side on completion of each step,\n",
              "// then passes the result of the previous step as the input to the next step.\n",
              "function _uploadFilesContinue(outputId) {\n",
              "  const outputElement = document.getElementById(outputId);\n",
              "  const steps = outputElement.steps;\n",
              "\n",
              "  const next = steps.next(outputElement.lastPromiseValue);\n",
              "  return Promise.resolve(next.value.promise).then((value) => {\n",
              "    // Cache the last promise value to make it available to the next\n",
              "    // step of the generator.\n",
              "    outputElement.lastPromiseValue = value;\n",
              "    return next.value.response;\n",
              "  });\n",
              "}\n",
              "\n",
              "/**\n",
              " * Generator function which is called between each async step of the upload\n",
              " * process.\n",
              " * @param {string} inputId Element ID of the input file picker element.\n",
              " * @param {string} outputId Element ID of the output display.\n",
              " * @return {!Iterable<!Object>} Iterable of next steps.\n",
              " */\n",
              "function* uploadFilesStep(inputId, outputId) {\n",
              "  const inputElement = document.getElementById(inputId);\n",
              "  inputElement.disabled = false;\n",
              "\n",
              "  const outputElement = document.getElementById(outputId);\n",
              "  outputElement.innerHTML = '';\n",
              "\n",
              "  const pickedPromise = new Promise((resolve) => {\n",
              "    inputElement.addEventListener('change', (e) => {\n",
              "      resolve(e.target.files);\n",
              "    });\n",
              "  });\n",
              "\n",
              "  const cancel = document.createElement('button');\n",
              "  inputElement.parentElement.appendChild(cancel);\n",
              "  cancel.textContent = 'Cancel upload';\n",
              "  const cancelPromise = new Promise((resolve) => {\n",
              "    cancel.onclick = () => {\n",
              "      resolve(null);\n",
              "    };\n",
              "  });\n",
              "\n",
              "  // Wait for the user to pick the files.\n",
              "  const files = yield {\n",
              "    promise: Promise.race([pickedPromise, cancelPromise]),\n",
              "    response: {\n",
              "      action: 'starting',\n",
              "    }\n",
              "  };\n",
              "\n",
              "  cancel.remove();\n",
              "\n",
              "  // Disable the input element since further picks are not allowed.\n",
              "  inputElement.disabled = true;\n",
              "\n",
              "  if (!files) {\n",
              "    return {\n",
              "      response: {\n",
              "        action: 'complete',\n",
              "      }\n",
              "    };\n",
              "  }\n",
              "\n",
              "  for (const file of files) {\n",
              "    const li = document.createElement('li');\n",
              "    li.append(span(file.name, {fontWeight: 'bold'}));\n",
              "    li.append(span(\n",
              "        `(${file.type || 'n/a'}) - ${file.size} bytes, ` +\n",
              "        `last modified: ${\n",
              "            file.lastModifiedDate ? file.lastModifiedDate.toLocaleDateString() :\n",
              "                                    'n/a'} - `));\n",
              "    const percent = span('0% done');\n",
              "    li.appendChild(percent);\n",
              "\n",
              "    outputElement.appendChild(li);\n",
              "\n",
              "    const fileDataPromise = new Promise((resolve) => {\n",
              "      const reader = new FileReader();\n",
              "      reader.onload = (e) => {\n",
              "        resolve(e.target.result);\n",
              "      };\n",
              "      reader.readAsArrayBuffer(file);\n",
              "    });\n",
              "    // Wait for the data to be ready.\n",
              "    let fileData = yield {\n",
              "      promise: fileDataPromise,\n",
              "      response: {\n",
              "        action: 'continue',\n",
              "      }\n",
              "    };\n",
              "\n",
              "    // Use a chunked sending to avoid message size limits. See b/62115660.\n",
              "    let position = 0;\n",
              "    do {\n",
              "      const length = Math.min(fileData.byteLength - position, MAX_PAYLOAD_SIZE);\n",
              "      const chunk = new Uint8Array(fileData, position, length);\n",
              "      position += length;\n",
              "\n",
              "      const base64 = btoa(String.fromCharCode.apply(null, chunk));\n",
              "      yield {\n",
              "        response: {\n",
              "          action: 'append',\n",
              "          file: file.name,\n",
              "          data: base64,\n",
              "        },\n",
              "      };\n",
              "\n",
              "      let percentDone = fileData.byteLength === 0 ?\n",
              "          100 :\n",
              "          Math.round((position / fileData.byteLength) * 100);\n",
              "      percent.textContent = `${percentDone}% done`;\n",
              "\n",
              "    } while (position < fileData.byteLength);\n",
              "  }\n",
              "\n",
              "  // All done.\n",
              "  yield {\n",
              "    response: {\n",
              "      action: 'complete',\n",
              "    }\n",
              "  };\n",
              "}\n",
              "\n",
              "scope.google = scope.google || {};\n",
              "scope.google.colab = scope.google.colab || {};\n",
              "scope.google.colab._files = {\n",
              "  _uploadFiles,\n",
              "  _uploadFilesContinue,\n",
              "};\n",
              "})(self);\n",
              "</script> "
            ]
          },
          "metadata": {}
        },
        {
          "output_type": "stream",
          "name": "stdout",
          "text": [
            "Saving texte-tash.docx.docx to texte-tash.docx (6).docx\n",
            "['texte-tash.docx (6).docx']\n",
            "حَدَّثَنِي يَحْيَى، عَنْ مَالِكٍ، عَنْ عَمْرِو بْنِ يَحْيَى الْمَازِنِيِّ، عَنْ أَبِيهِ أَنَّهُ قَالَ لِعَبْدِ اللَّهِ بْنِ زَيْدِ بْنِ عَاصِمٍ - وَهُوَ جَدُّ عَمْرِو بْنِ يَحْيَى الْمَازِنِيِّ وَكَانَ مِنْ أَصْحَابِ رَسُولِ اللَّهِ (ﷺ) - : هَلْ تَسْتَطِيعُ أَنْ تُرِيَنِي كَيْفَ كَانَ رَسُولُ اللَّهِ (ﷺ) يَتَوَضَّأُ ؟ فَقَالَ عَبْدُ اللَّهِ بْنُ زَيْدِ بْنِ عَاصِمٍ : نَعَمْ، فَدَعَا بِوَضُوءٍ، فَأَفْرَغَ عَلَى يَدِه.\n",
            "\n",
            "خلالُ السّنتين الْمَاضِيَتَيْنِ اِضْطَرَرْتُ لِإضافَةِ عدّة أَشْيَاءَ في غرفَتي حتّى أَصْبَحَتْ الْغرفَةُ لا تُطَاقُ ولا أعْرَفَ ما الذي عليّ فِعْلَهُ.\n",
            "خلالَ السنتين الْمَاضِيَتَيْن اِضْطَرَرتُ لإضافَةِ عدّة أَشْيَاءَ في غُرفَتي حتّى أَصْبَحَتْ الْغرفَةُ لا تُطَاقُ ولا أعْرَفَ ما الذي علي فِعْلَهُ.\n",
            " وكلما حَاوَلَتْ تَنْظِيمُ ما لديّ توّقفت عن فعل ذلك وَتَرِكَتَهَا كما هي. الْأَوْرَاقَ بالتّحديد هي ما اِزْدَادَ لديّ وأنا مضطرّ لِلْاِحْتِفَاظِ بها فهي وثائقَ رسميّة مهمّة لكنّني أَخْطَأَتْ بِعَدَمِ تَنْظِيمِ هذهِ الْأوراقِ وَالْكتبِ خَارِجَ نِطَاقِ السَّيْطَرَةِ .\n",
            "وكلما حَاولت تَنْظيم ما لدي  توّقفت عن فعل ذلك وترِكتها كما هي. الْأوراق بالتحديد هي ما ازداد لديّ وأنا مضطرّ للْاِحتِفَاظ بها فهي وثائق رسمية مهمة لكنّني أَخْطَأَت بعدم تَنظيم هذهِ الْأوراق وَالْكتب خَارِج نِطَاق السَّيطَرَةِ .\n",
            "وَلَدَي عُدَدَ كَبِيرِ من المجّلات لم أُقْرَأْهَا وهناك أَشْيَاءَ مُبَعْثَرَةٍ هنا وهناك حالَةَ الْفَوْضًىِ في غرفَتي أثّرت عليّ بأن جعلتني لا أعْرَفَ أين أَبَدْءُ وماذا عليّ أن أَفعلَ.\n"
          ]
        }
      ]
    },
    {
      "cell_type": "code",
      "source": [
        " #قياس التماثل في الحركات\n",
        "from pyarabic import araby\n",
        "word3 =u\" وكلما حَاوَلَتْ تَنْظِيمُ ما لديّ توّقفت عن فعل ذلك وَتَرِكَتَهَا كما هي. الْأَوْرَاقَ بالتّحديد هي ما اِزْدَادَ لديّ وأنا مضطرّ لِلْاِحْتِفَاظِ بها فهي وثائقَ رسميّة مهمّة لكنّني أَخْطَأَتْ بِعَدَمِ تَنْظِيمِ هذهِ الْأوراقِ وَالْكتبِ خَارِجَ نِطَاقِ السَّيْطَرَةِ\"\n",
        "word4 = u\"وكلما حَاولت تَنْظيم ما لدي  توّقفت عن فعل ذلك وترِكتها كما هي. الْأوراق بالتحديد هي ما ازداد لديّ وأنا مضطرّ للْاِحتِفَاظ بها فهي وثائق رسمية مهمة لكنّني أَخْطَأَت بعدم تَنظيم هذهِ الْأوراق وَالْكتب خَارِج نِطَاق السَّيطَرَةِ\"\n",
        "araby.vocalizedlike(word3, word4)\n",
        "word3 = u\" وكلما حَاوَلَتْ تَنْظِيمُ ما لديّ توّقفت عن فعل ذلك وَتَرِكَتَهَا كما هي. الْأَوْرَاقَ بالتّحديد هي ما اِزْدَادَ لديّ وأنا مضطرّ لِلْاِحْتِفَاظِ بها فهي وثائقَ رسميّة مهمّة لكنّني أَخْطَأَتْ بِعَدَمِ تَنْظِيمِ هذهِ الْأوراقِ وَالْكتبِ خَارِجَ نِطَاقِ السَّيْطَرَةِ\"\n",
        "word4 = u\"وكلما حَاولت تَنْظيم ما لدي  توّقفت عن فعل ذلك وترِكتها كما هي. الْأوراق بالتحديد هي ما ازداد لديّ وأنا مضطرّ للْاِحتِفَاظ بها فهي وثائق رسمية مهمة لكنّني أَخْطَأَت بعدم تَنظيم هذهِ الْأوراق وَالْكتب خَارِج نِطَاق السَّيطَرَةِ\"\n",
        "araby.vocalized_similarity(word3, word4)\n"
      ],
      "metadata": {
        "colab": {
          "base_uri": "https://localhost:8080/"
        },
        "id": "UDpNagmjhLcd",
        "outputId": "09f428dd-4fc1-4f29-c3e7-1ef8578417a7"
      },
      "execution_count": 28,
      "outputs": [
        {
          "output_type": "execute_result",
          "data": {
            "text/plain": [
              "-26"
            ]
          },
          "metadata": {},
          "execution_count": 28
        }
      ]
    },
    {
      "cell_type": "code",
      "source": [
        "from pyarabic import araby\n",
        "\n",
        "# Définir les paires de mots\n",
        "pairs_of_words = [\n",
        "    (u\" خَارِجَ نِطَاقِ السَّيْطَرَةِ\",\n",
        "     u\" خَارِج نِطَاق السَّيطَرَةِ\"),(u\"أَخْطَأَتْ بِعَدَمِ تَنْظِيمِ\",u\"أَخْطَأَت بعدم تَنظيم\"),(u\"كلما حَاوَلَتْ تَنْظِيمُ ما لديّ توّقفت\",u\"كلما حَاولت تَنْظيم ما لدي  توّقفت\")\n",
        "    # Ajoutez d'autres paires de mots au besoin\n",
        "]\n",
        "\n",
        "# Stocker les résultats dans une liste ou un dictionnaire\n",
        "results = []\n",
        "\n",
        "# Mesurer la similarité vocalisée pour chaque paire\n",
        "for word1, word2 in pairs_of_words:\n",
        "    similarity = araby.vocalized_similarity(word1, word2)\n",
        "    results.append({'word1': word1, 'word2': word2, 'similarity': similarity})\n",
        "\n",
        "# Imprimer les résultats\n",
        "for result in results:\n",
        "    print(result)"
      ],
      "metadata": {
        "colab": {
          "base_uri": "https://localhost:8080/"
        },
        "id": "OjNgLMRpr98x",
        "outputId": "96a7c4e4-6799-4f56-d753-f02dcdd8ad0e"
      },
      "execution_count": 38,
      "outputs": [
        {
          "output_type": "stream",
          "name": "stdout",
          "text": [
            "{'word1': ' خَارِجَ نِطَاقِ السَّيْطَرَةِ', 'word2': ' خَارِج نِطَاق السَّيطَرَةِ', 'similarity': True}\n",
            "{'word1': 'أَخْطَأَتْ بِعَدَمِ تَنْظِيمِ', 'word2': 'أَخْطَأَت بعدم تَنظيم', 'similarity': True}\n",
            "{'word1': 'كلما حَاوَلَتْ تَنْظِيمُ ما لديّ توّقفت', 'word2': 'كلما حَاولت تَنْظيم ما لدي  توّقفت', 'similarity': -24}\n"
          ]
        }
      ]
    }
  ]
}