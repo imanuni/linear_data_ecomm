{
  "nbformat": 4,
  "nbformat_minor": 0,
  "metadata": {
    "colab": {
      "provenance": [],
      "authorship_tag": "ABX9TyMxFYyCKV8H19TeYCgFxUxc",
      "include_colab_link": true
    },
    "kernelspec": {
      "name": "python3",
      "display_name": "Python 3"
    },
    "language_info": {
      "name": "python"
    }
  },
  "cells": [
    {
      "cell_type": "markdown",
      "metadata": {
        "id": "view-in-github",
        "colab_type": "text"
      },
      "source": [
        "<a href=\"https://colab.research.google.com/github/imanuni/linear_data_ecomm/blob/main/test1-partiel.ipynb\" target=\"_parent\"><img src=\"https://colab.research.google.com/assets/colab-badge.svg\" alt=\"Open In Colab\"/></a>"
      ]
    },
    {
      "cell_type": "code",
      "execution_count": 1,
      "metadata": {
        "colab": {
          "base_uri": "https://localhost:8080/"
        },
        "id": "w8npsYAhGFlx",
        "outputId": "af2ea498-7764-407c-cdde-4bc3310aa879"
      },
      "outputs": [
        {
          "output_type": "stream",
          "name": "stdout",
          "text": [
            "Collecting mishkal\n",
            "  Downloading mishkal-0.4.1-py3-none-any.whl (789 kB)\n",
            "\u001b[2K     \u001b[90m━━━━━━━━━━━━━━━━━━━━━━━━━━━━━━━━━━━━━━━━\u001b[0m \u001b[32m789.5/789.5 kB\u001b[0m \u001b[31m3.6 MB/s\u001b[0m eta \u001b[36m0:00:00\u001b[0m\n",
            "\u001b[?25hCollecting alyahmor>=0.1 (from mishkal)\n",
            "  Downloading alyahmor-0.2-py3-none-any.whl (65 kB)\n",
            "\u001b[2K     \u001b[90m━━━━━━━━━━━━━━━━━━━━━━━━━━━━━━━━━━━━━━━━\u001b[0m \u001b[32m65.1/65.1 kB\u001b[0m \u001b[31m5.0 MB/s\u001b[0m eta \u001b[36m0:00:00\u001b[0m\n",
            "\u001b[?25hCollecting arramooz-pysqlite>=0.1 (from mishkal)\n",
            "  Downloading arramooz_pysqlite-0.4.2-py3-none-any.whl (6.3 MB)\n",
            "\u001b[2K     \u001b[90m━━━━━━━━━━━━━━━━━━━━━━━━━━━━━━━━━━━━━━━━\u001b[0m \u001b[32m6.3/6.3 MB\u001b[0m \u001b[31m16.8 MB/s\u001b[0m eta \u001b[36m0:00:00\u001b[0m\n",
            "\u001b[?25hCollecting asmai>=0.1 (from mishkal)\n",
            "  Downloading asmai-0.1-py3-none-any.whl (4.3 MB)\n",
            "\u001b[2K     \u001b[90m━━━━━━━━━━━━━━━━━━━━━━━━━━━━━━━━━━━━━━━━\u001b[0m \u001b[32m4.3/4.3 MB\u001b[0m \u001b[31m31.8 MB/s\u001b[0m eta \u001b[36m0:00:00\u001b[0m\n",
            "\u001b[?25hCollecting libqutrub>=1.0 (from mishkal)\n",
            "  Downloading libqutrub-1.2.4.1-py3-none-any.whl (138 kB)\n",
            "\u001b[2K     \u001b[90m━━━━━━━━━━━━━━━━━━━━━━━━━━━━━━━━━━━━━━━━\u001b[0m \u001b[32m139.0/139.0 kB\u001b[0m \u001b[31m11.8 MB/s\u001b[0m eta \u001b[36m0:00:00\u001b[0m\n",
            "\u001b[?25hCollecting maskouk-pysqlite>=0.1 (from mishkal)\n",
            "  Downloading maskouk_pysqlite-0.1-py3-none-any.whl (6.0 MB)\n",
            "\u001b[2K     \u001b[90m━━━━━━━━━━━━━━━━━━━━━━━━━━━━━━━━━━━━━━━━\u001b[0m \u001b[32m6.0/6.0 MB\u001b[0m \u001b[31m45.4 MB/s\u001b[0m eta \u001b[36m0:00:00\u001b[0m\n",
            "\u001b[?25hCollecting mysam-tagmanager>=0.1 (from mishkal)\n",
            "  Downloading mysam_tagmanager-0.4-py3-none-any.whl (37 kB)\n",
            "Collecting naftawayh>=0.2 (from mishkal)\n",
            "  Downloading Naftawayh-0.4-py3-none-any.whl (332 kB)\n",
            "\u001b[2K     \u001b[90m━━━━━━━━━━━━━━━━━━━━━━━━━━━━━━━━━━━━━━━━\u001b[0m \u001b[32m332.6/332.6 kB\u001b[0m \u001b[31m21.6 MB/s\u001b[0m eta \u001b[36m0:00:00\u001b[0m\n",
            "\u001b[?25hCollecting pickledb>=0.9.0 (from mishkal)\n",
            "  Downloading pickleDB-0.9.2.tar.gz (3.7 kB)\n",
            "  Preparing metadata (setup.py) ... \u001b[?25l\u001b[?25hdone\n",
            "Collecting pyarabic>=0.6.2 (from mishkal)\n",
            "  Downloading PyArabic-0.6.15-py3-none-any.whl (126 kB)\n",
            "\u001b[2K     \u001b[90m━━━━━━━━━━━━━━━━━━━━━━━━━━━━━━━━━━━━━━━━\u001b[0m \u001b[32m126.4/126.4 kB\u001b[0m \u001b[31m10.8 MB/s\u001b[0m eta \u001b[36m0:00:00\u001b[0m\n",
            "\u001b[?25hCollecting qalsadi>=0.2 (from mishkal)\n",
            "  Downloading qalsadi-0.5-py3-none-any.whl (264 kB)\n",
            "\u001b[2K     \u001b[90m━━━━━━━━━━━━━━━━━━━━━━━━━━━━━━━━━━━━━━━━\u001b[0m \u001b[32m264.3/264.3 kB\u001b[0m \u001b[31m22.6 MB/s\u001b[0m eta \u001b[36m0:00:00\u001b[0m\n",
            "\u001b[?25hCollecting sylajone>=0.1 (from mishkal)\n",
            "  Downloading sylajone-0.3.1-py3-none-any.whl (37 kB)\n",
            "Collecting tashaphyne>=0.3.1 (from mishkal)\n",
            "  Downloading Tashaphyne-0.3.6-py3-none-any.whl (251 kB)\n",
            "\u001b[2K     \u001b[90m━━━━━━━━━━━━━━━━━━━━━━━━━━━━━━━━━━━━━━━━\u001b[0m \u001b[32m251.5/251.5 kB\u001b[0m \u001b[31m20.3 MB/s\u001b[0m eta \u001b[36m0:00:00\u001b[0m\n",
            "\u001b[?25hCollecting Arabic-Stopwords>=0.4.2 (from alyahmor>=0.1->mishkal)\n",
            "  Downloading Arabic_Stopwords-0.4.3-py3-none-any.whl (360 kB)\n",
            "\u001b[2K     \u001b[90m━━━━━━━━━━━━━━━━━━━━━━━━━━━━━━━━━━━━━━━━\u001b[0m \u001b[32m360.5/360.5 kB\u001b[0m \u001b[31m25.6 MB/s\u001b[0m eta \u001b[36m0:00:00\u001b[0m\n",
            "\u001b[?25hRequirement already satisfied: six>=1.14.0 in /usr/local/lib/python3.10/dist-packages (from pyarabic>=0.6.2->mishkal) (1.16.0)\n",
            "Collecting codernitydb3 (from qalsadi>=0.2->mishkal)\n",
            "  Downloading codernitydb3-0.6.0.tar.gz (46 kB)\n",
            "\u001b[2K     \u001b[90m━━━━━━━━━━━━━━━━━━━━━━━━━━━━━━━━━━━━━━━━\u001b[0m \u001b[32m46.1/46.1 kB\u001b[0m \u001b[31m3.5 MB/s\u001b[0m eta \u001b[36m0:00:00\u001b[0m\n",
            "\u001b[?25h  Preparing metadata (setup.py) ... \u001b[?25l\u001b[?25hdone\n",
            "Building wheels for collected packages: pickledb, codernitydb3\n",
            "  Building wheel for pickledb (setup.py) ... \u001b[?25l\u001b[?25hdone\n",
            "  Created wheel for pickledb: filename=pickleDB-0.9.2-py3-none-any.whl size=4254 sha256=439390726755fcf2e905452de265250599b5b5293530f7521e71dd23497355d7\n",
            "  Stored in directory: /root/.cache/pip/wheels/31/99/ef/8bf37f0157e6423a373297de279351af04ad18c4136c3af121\n",
            "  Building wheel for codernitydb3 (setup.py) ... \u001b[?25l\u001b[?25hdone\n",
            "  Created wheel for codernitydb3: filename=codernitydb3-0.6.0-py3-none-any.whl size=59849 sha256=3b1936aa4bcce12c2896c49713446c00e4f2c942329e805e520f7190880119c5\n",
            "  Stored in directory: /root/.cache/pip/wheels/81/96/96/58346beb99967aa576ad33aa0b75ffd3c7dfa58291bec26d7c\n",
            "Successfully built pickledb codernitydb3\n",
            "Installing collected packages: pickledb, mysam-tagmanager, pyarabic, codernitydb3, tashaphyne, maskouk-pysqlite, libqutrub, asmai, arramooz-pysqlite, Arabic-Stopwords, naftawayh, alyahmor, qalsadi, sylajone, mishkal\n",
            "Successfully installed Arabic-Stopwords-0.4.3 alyahmor-0.2 arramooz-pysqlite-0.4.2 asmai-0.1 codernitydb3-0.6.0 libqutrub-1.2.4.1 maskouk-pysqlite-0.1 mishkal-0.4.1 mysam-tagmanager-0.4 naftawayh-0.4 pickledb-0.9.2 pyarabic-0.6.15 qalsadi-0.5 sylajone-0.3.1 tashaphyne-0.3.6\n"
          ]
        }
      ],
      "source": [
        "!pip install mishkal"
      ]
    },
    {
      "cell_type": "code",
      "source": [
        "import re"
      ],
      "metadata": {
        "id": "qz-jyYzmGpAL"
      },
      "execution_count": 2,
      "outputs": []
    },
    {
      "cell_type": "code",
      "source": [
        "def remove_diacritics(string):\n",
        "    regex = re.compile(r'[\\u064B\\u064C\\u064D\\u064E\\u064F\\u0650\\u0651\\u0652]')\n",
        "    return re.sub(regex, '', string)"
      ],
      "metadata": {
        "id": "AKk-1VonLAFQ"
      },
      "execution_count": 3,
      "outputs": []
    },
    {
      "cell_type": "code",
      "source": [
        "def remove_non_arabic_symbols(string):\n",
        "    return re.sub(r'[^\\u0600-\\u06FF]', ' ', string)"
      ],
      "metadata": {
        "id": "ITr399P9Mw1k"
      },
      "execution_count": 4,
      "outputs": []
    },
    {
      "cell_type": "code",
      "source": [
        "string=\"حَدَّثَنِي يَحْيَى، عَنْ مَالِكٍ، عَنْ عَمْرِو بْنِ يَحْيَى الْمَازِنِيِّ، عَنْ أَبِيهِ أَنَّهُ قَالَ لِعَبْدِ اللَّهِ بْنِ زَيْدِ بْنِ عَاصِمٍ - وَهُوَ جَدُّ عَمْرِو بْنِ يَحْيَى الْمَازِنِيِّ وَكَانَ مِنْ أَصْحَابِ رَسُولِ اللَّهِ (ﷺ) - : هَلْ تَسْتَطِيعُ أَنْ تُرِيَنِي كَيْفَ كَانَ رَسُولُ اللَّهِ (ﷺ) يَتَوَضَّأُ ؟ فَقَالَ عَبْدُ اللَّهِ بْنُ زَيْدِ بْنِ عَاصِمٍ : نَعَمْ، فَدَعَا بِوَضُوءٍ، فَأَفْرَغَ عَلَى يَدِه.\"\n",
        "string = remove_diacritics(string)\n",
        "string = remove_non_arabic_symbols(string)\n",
        "print(\"Après: \",string)"
      ],
      "metadata": {
        "colab": {
          "base_uri": "https://localhost:8080/"
        },
        "id": "a2mqhBLeLKRU",
        "outputId": "3ee7f5a1-c3f6-44ab-e1dc-3b25f6bc928b"
      },
      "execution_count": 5,
      "outputs": [
        {
          "output_type": "stream",
          "name": "stdout",
          "text": [
            "Après:  حدثني يحيى، عن مالك، عن عمرو بن يحيى المازني، عن أبيه أنه قال لعبد الله بن زيد بن عاصم   وهو جد عمرو بن يحيى المازني وكان من أصحاب رسول الله         هل تستطيع أن تريني كيف كان رسول الله     يتوضأ ؟ فقال عبد الله بن زيد بن عاصم   نعم، فدعا بوضوء، فأفرغ على يده \n"
          ]
        }
      ]
    },
    {
      "cell_type": "code",
      "source": [
        "def remove_extra_whitespace(string):\n",
        "    string = re.sub(r'\\s+', ' ', string)\n",
        "    return re.sub(r\"\\s{2,}\", \" \", string).strip()\n",
        "word=\"حدثني يحيى، عن مالك، عن عمرو بن يحيى المازني، عن أبيه أنه قال لعبد الله بن زيد بن عاصم   وهو جد عمرو بن يحيى المازني وكان من أصحاب رسول الله         هل تستطيع أن تريني كيف كان رسول الله     يتوضأ ؟ فقال عبد الله بن زيد بن عاصم   نعم، فدعا بوضوء، فأفرغ على يده \"\n",
        "string=word\n",
        "string = remove_extra_whitespace(string)\n",
        "print(\"Après: \",string)\n"
      ],
      "metadata": {
        "colab": {
          "base_uri": "https://localhost:8080/"
        },
        "id": "syAu7uRil6Iv",
        "outputId": "7a0c9b0e-7953-4f36-f1a8-5e7ae3f11c56"
      },
      "execution_count": 6,
      "outputs": [
        {
          "output_type": "stream",
          "name": "stdout",
          "text": [
            "Après:  حدثني يحيى، عن مالك، عن عمرو بن يحيى المازني، عن أبيه أنه قال لعبد الله بن زيد بن عاصم وهو جد عمرو بن يحيى المازني وكان من أصحاب رسول الله هل تستطيع أن تريني كيف كان رسول الله يتوضأ ؟ فقال عبد الله بن زيد بن عاصم نعم، فدعا بوضوء، فأفرغ على يده\n"
          ]
        }
      ]
    },
    {
      "cell_type": "code",
      "source": [
        "import mishkal.tashkeel\n",
        "vocalizer = mishkal.tashkeel.TashkeelClass()\n",
        "text = u\" حدثني يحيى، عن مالك، عن عمرو بن يحيى المازني، عن أبيه أنه قال لعبد الله بن زيد بن عاصم   وهو جد عمرو بن يحيى المازني وكان من أصحاب رسول الله         هل تستطيع أن تريني كيف كان رسول الله     يتوضأ ؟ فقال عبد الله بن زيد بن عاصم   نعم، فدعا بوضوء، فأفرغ على يده ا\"\n",
        "vocalizer.tashkeel(text)"
      ],
      "metadata": {
        "colab": {
          "base_uri": "https://localhost:8080/",
          "height": 35
        },
        "id": "BH9gwMuhMQ6a",
        "outputId": "c896f2f5-3c21-4cd0-b3b8-ff70f30482a1"
      },
      "execution_count": 7,
      "outputs": [
        {
          "output_type": "execute_result",
          "data": {
            "text/plain": [
              "' حَدَّثَنِي يَحْيَى ، عَن مَالِكٍ ، عَن عَمْروِ بْنِ يَحْيَى الْمَازِنِيِّ ، عَن أَبِيهِ أَنّهُ قَالَ لِعَبْدُ اللهِ بْن زِيدَ بْنِ عَاصِمٌ وهُو جِدْ عَمْروَ بْن يَحْيَى الْمَازِنِيِّ وكَان مِن أَصْحَابِ رَسُولِ اللهِ هَل تَسْتَطِيعُ أَن تَرِينِي كَيْف كَان رَسُولِ اللهِ يَتَوَضَّأُ ؟ فَقَالَ عَبْدُ اللهِ بْن زِيدَ بْنِ عَاصِمٌ نَعَم ، فَدَعَا بِوَضُوءٍ ، فَأَفْرَغَ عَلَى يَدِهِ َا'"
            ],
            "application/vnd.google.colaboratory.intrinsic+json": {
              "type": "string"
            }
          },
          "metadata": {},
          "execution_count": 7
        }
      ]
    },
    {
      "cell_type": "code",
      "source": [
        "import pandas as pd"
      ],
      "metadata": {
        "id": "5cp3uaCCaA5U"
      },
      "execution_count": 8,
      "outputs": []
    },
    {
      "cell_type": "code",
      "source": [
        "!pip install python-docx"
      ],
      "metadata": {
        "colab": {
          "base_uri": "https://localhost:8080/"
        },
        "id": "o21FNp-3V_wq",
        "outputId": "ad2d243a-a0a9-4896-c1c5-807f42f2601e"
      },
      "execution_count": 9,
      "outputs": [
        {
          "output_type": "stream",
          "name": "stdout",
          "text": [
            "Collecting python-docx\n",
            "  Downloading python_docx-1.1.0-py3-none-any.whl (239 kB)\n",
            "\u001b[?25l     \u001b[90m━━━━━━━━━━━━━━━━━━━━━━━━━━━━━━━━━━━━━━━━\u001b[0m \u001b[32m0.0/239.6 kB\u001b[0m \u001b[31m?\u001b[0m eta \u001b[36m-:--:--\u001b[0m\r\u001b[2K     \u001b[91m━━━━━━━━━━━━━━━━━━\u001b[0m\u001b[91m╸\u001b[0m\u001b[90m━━━━━━━━━━━━━━━━━━━━━\u001b[0m \u001b[32m112.6/239.6 kB\u001b[0m \u001b[31m3.1 MB/s\u001b[0m eta \u001b[36m0:00:01\u001b[0m\r\u001b[2K     \u001b[90m━━━━━━━━━━━━━━━━━━━━━━━━━━━━━━━━━━━━━━━━\u001b[0m \u001b[32m239.6/239.6 kB\u001b[0m \u001b[31m4.1 MB/s\u001b[0m eta \u001b[36m0:00:00\u001b[0m\n",
            "\u001b[?25hRequirement already satisfied: lxml>=3.1.0 in /usr/local/lib/python3.10/dist-packages (from python-docx) (4.9.3)\n",
            "Requirement already satisfied: typing-extensions in /usr/local/lib/python3.10/dist-packages (from python-docx) (4.5.0)\n",
            "Installing collected packages: python-docx\n",
            "Successfully installed python-docx-1.1.0\n"
          ]
        }
      ]
    },
    {
      "cell_type": "code",
      "source": [
        "from google.colab import files\n",
        "from docx import Document\n",
        "import io\n",
        "\n",
        "# Charger le fichier Word téléchargé\n",
        "uploaded = files.upload()\n",
        "\n",
        "# Obtenir la liste des noms de fichiers téléchargés\n",
        "uploaded_filenames = list(uploaded.keys())\n",
        "\n",
        "# Imprimer la liste des noms de fichiers\n",
        "print(uploaded_filenames)\n",
        "\n",
        "# Charger le contenu du fichier Word\n",
        "uploaded_docx_content = uploaded[uploaded_filenames[0]]\n",
        "\n",
        "# Créer un objet Document à partir du contenu du fichier Word\n",
        "doc = Document(io.BytesIO(uploaded_docx_content))\n",
        "\n",
        "for paragraph in doc.paragraphs:\n",
        "    print(paragraph.text)"
      ],
      "metadata": {
        "colab": {
          "base_uri": "https://localhost:8080/",
          "height": 212
        },
        "id": "P31U8LTdMllm",
        "outputId": "a0a216c9-0bf2-42db-c43f-bd92d5650ec7"
      },
      "execution_count": 12,
      "outputs": [
        {
          "output_type": "display_data",
          "data": {
            "text/plain": [
              "<IPython.core.display.HTML object>"
            ],
            "text/html": [
              "\n",
              "     <input type=\"file\" id=\"files-88bed677-03f5-4f31-bf33-ddb9e4bf4746\" name=\"files[]\" multiple disabled\n",
              "        style=\"border:none\" />\n",
              "     <output id=\"result-88bed677-03f5-4f31-bf33-ddb9e4bf4746\">\n",
              "      Upload widget is only available when the cell has been executed in the\n",
              "      current browser session. Please rerun this cell to enable.\n",
              "      </output>\n",
              "      <script>// Copyright 2017 Google LLC\n",
              "//\n",
              "// Licensed under the Apache License, Version 2.0 (the \"License\");\n",
              "// you may not use this file except in compliance with the License.\n",
              "// You may obtain a copy of the License at\n",
              "//\n",
              "//      http://www.apache.org/licenses/LICENSE-2.0\n",
              "//\n",
              "// Unless required by applicable law or agreed to in writing, software\n",
              "// distributed under the License is distributed on an \"AS IS\" BASIS,\n",
              "// WITHOUT WARRANTIES OR CONDITIONS OF ANY KIND, either express or implied.\n",
              "// See the License for the specific language governing permissions and\n",
              "// limitations under the License.\n",
              "\n",
              "/**\n",
              " * @fileoverview Helpers for google.colab Python module.\n",
              " */\n",
              "(function(scope) {\n",
              "function span(text, styleAttributes = {}) {\n",
              "  const element = document.createElement('span');\n",
              "  element.textContent = text;\n",
              "  for (const key of Object.keys(styleAttributes)) {\n",
              "    element.style[key] = styleAttributes[key];\n",
              "  }\n",
              "  return element;\n",
              "}\n",
              "\n",
              "// Max number of bytes which will be uploaded at a time.\n",
              "const MAX_PAYLOAD_SIZE = 100 * 1024;\n",
              "\n",
              "function _uploadFiles(inputId, outputId) {\n",
              "  const steps = uploadFilesStep(inputId, outputId);\n",
              "  const outputElement = document.getElementById(outputId);\n",
              "  // Cache steps on the outputElement to make it available for the next call\n",
              "  // to uploadFilesContinue from Python.\n",
              "  outputElement.steps = steps;\n",
              "\n",
              "  return _uploadFilesContinue(outputId);\n",
              "}\n",
              "\n",
              "// This is roughly an async generator (not supported in the browser yet),\n",
              "// where there are multiple asynchronous steps and the Python side is going\n",
              "// to poll for completion of each step.\n",
              "// This uses a Promise to block the python side on completion of each step,\n",
              "// then passes the result of the previous step as the input to the next step.\n",
              "function _uploadFilesContinue(outputId) {\n",
              "  const outputElement = document.getElementById(outputId);\n",
              "  const steps = outputElement.steps;\n",
              "\n",
              "  const next = steps.next(outputElement.lastPromiseValue);\n",
              "  return Promise.resolve(next.value.promise).then((value) => {\n",
              "    // Cache the last promise value to make it available to the next\n",
              "    // step of the generator.\n",
              "    outputElement.lastPromiseValue = value;\n",
              "    return next.value.response;\n",
              "  });\n",
              "}\n",
              "\n",
              "/**\n",
              " * Generator function which is called between each async step of the upload\n",
              " * process.\n",
              " * @param {string} inputId Element ID of the input file picker element.\n",
              " * @param {string} outputId Element ID of the output display.\n",
              " * @return {!Iterable<!Object>} Iterable of next steps.\n",
              " */\n",
              "function* uploadFilesStep(inputId, outputId) {\n",
              "  const inputElement = document.getElementById(inputId);\n",
              "  inputElement.disabled = false;\n",
              "\n",
              "  const outputElement = document.getElementById(outputId);\n",
              "  outputElement.innerHTML = '';\n",
              "\n",
              "  const pickedPromise = new Promise((resolve) => {\n",
              "    inputElement.addEventListener('change', (e) => {\n",
              "      resolve(e.target.files);\n",
              "    });\n",
              "  });\n",
              "\n",
              "  const cancel = document.createElement('button');\n",
              "  inputElement.parentElement.appendChild(cancel);\n",
              "  cancel.textContent = 'Cancel upload';\n",
              "  const cancelPromise = new Promise((resolve) => {\n",
              "    cancel.onclick = () => {\n",
              "      resolve(null);\n",
              "    };\n",
              "  });\n",
              "\n",
              "  // Wait for the user to pick the files.\n",
              "  const files = yield {\n",
              "    promise: Promise.race([pickedPromise, cancelPromise]),\n",
              "    response: {\n",
              "      action: 'starting',\n",
              "    }\n",
              "  };\n",
              "\n",
              "  cancel.remove();\n",
              "\n",
              "  // Disable the input element since further picks are not allowed.\n",
              "  inputElement.disabled = true;\n",
              "\n",
              "  if (!files) {\n",
              "    return {\n",
              "      response: {\n",
              "        action: 'complete',\n",
              "      }\n",
              "    };\n",
              "  }\n",
              "\n",
              "  for (const file of files) {\n",
              "    const li = document.createElement('li');\n",
              "    li.append(span(file.name, {fontWeight: 'bold'}));\n",
              "    li.append(span(\n",
              "        `(${file.type || 'n/a'}) - ${file.size} bytes, ` +\n",
              "        `last modified: ${\n",
              "            file.lastModifiedDate ? file.lastModifiedDate.toLocaleDateString() :\n",
              "                                    'n/a'} - `));\n",
              "    const percent = span('0% done');\n",
              "    li.appendChild(percent);\n",
              "\n",
              "    outputElement.appendChild(li);\n",
              "\n",
              "    const fileDataPromise = new Promise((resolve) => {\n",
              "      const reader = new FileReader();\n",
              "      reader.onload = (e) => {\n",
              "        resolve(e.target.result);\n",
              "      };\n",
              "      reader.readAsArrayBuffer(file);\n",
              "    });\n",
              "    // Wait for the data to be ready.\n",
              "    let fileData = yield {\n",
              "      promise: fileDataPromise,\n",
              "      response: {\n",
              "        action: 'continue',\n",
              "      }\n",
              "    };\n",
              "\n",
              "    // Use a chunked sending to avoid message size limits. See b/62115660.\n",
              "    let position = 0;\n",
              "    do {\n",
              "      const length = Math.min(fileData.byteLength - position, MAX_PAYLOAD_SIZE);\n",
              "      const chunk = new Uint8Array(fileData, position, length);\n",
              "      position += length;\n",
              "\n",
              "      const base64 = btoa(String.fromCharCode.apply(null, chunk));\n",
              "      yield {\n",
              "        response: {\n",
              "          action: 'append',\n",
              "          file: file.name,\n",
              "          data: base64,\n",
              "        },\n",
              "      };\n",
              "\n",
              "      let percentDone = fileData.byteLength === 0 ?\n",
              "          100 :\n",
              "          Math.round((position / fileData.byteLength) * 100);\n",
              "      percent.textContent = `${percentDone}% done`;\n",
              "\n",
              "    } while (position < fileData.byteLength);\n",
              "  }\n",
              "\n",
              "  // All done.\n",
              "  yield {\n",
              "    response: {\n",
              "      action: 'complete',\n",
              "    }\n",
              "  };\n",
              "}\n",
              "\n",
              "scope.google = scope.google || {};\n",
              "scope.google.colab = scope.google.colab || {};\n",
              "scope.google.colab._files = {\n",
              "  _uploadFiles,\n",
              "  _uploadFilesContinue,\n",
              "};\n",
              "})(self);\n",
              "</script> "
            ]
          },
          "metadata": {}
        },
        {
          "output_type": "stream",
          "name": "stdout",
          "text": [
            "Saving texte-tash.docx.docx to texte-tash.docx.docx\n",
            "['texte-tash.docx.docx']\n",
            "حَدَّثَنِي يَحْيَى، عَنْ مَالِكٍ، عَنْ عَمْرِو بْنِ يَحْيَى الْمَازِنِيِّ، عَنْ أَبِيهِ أَنَّهُ قَالَ لِعَبْدِ اللَّهِ بْنِ زَيْدِ بْنِ عَاصِمٍ - وَهُوَ جَدُّ عَمْرِو بْنِ يَحْيَى الْمَازِنِيِّ وَكَانَ مِنْ أَصْحَابِ رَسُولِ اللَّهِ (ﷺ) - : هَلْ تَسْتَطِيعُ أَنْ تُرِيَنِي كَيْفَ كَانَ رَسُولُ اللَّهِ (ﷺ) يَتَوَضَّأُ ؟ فَقَالَ عَبْدُ اللَّهِ بْنُ زَيْدِ بْنِ عَاصِمٍ : نَعَمْ، فَدَعَا بِوَضُوءٍ، فَأَفْرَغَ عَلَى يَدِه.\n",
            "\n",
            "خلالُ السّنتين الْمَاضِيَتَيْنِ اِضْطَرَرْتُ لِإضافَةِ عدّة أَشْيَاءَ في غرفَتي حتّى أَصْبَحَتْ الْغرفَةُ لا تُطَاقُ ولا أعْرَفَ ما الذي عليّ فِعْلَهُ.\n",
            "خلالَ السنتين الْمَاضِيَتَيْن اِضْطَرَرتُ لإضافَةِ عدّة أَشْيَاءَ في غُرفَتي حتّى أَصْبَحَتْ الْغرفَةُ لا تُطَاقُ ولا أعْرَفَ ما الذي علي فِعْلَهُ.\n",
            " وكلما حَاوَلَتْ تَنْظِيمُ ما لديّ توّقفت عن فعل ذلك وَتَرِكَتَهَا كما هي. الْأَوْرَاقَ بالتّحديد هي ما اِزْدَادَ لديّ وأنا مضطرّ لِلْاِحْتِفَاظِ بها فهي وثائقَ رسميّة مهمّة لكنّني أَخْطَأَتْ بِعَدَمِ تَنْظِيمِ هذهِ الْأوراقِ وَالْكتبِ خَارِجَ نِطَاقِ السَّيْطَرَةِ .\n",
            "وكلما حَاولت تَنْظيم ما لدي  توّقفت عن فعل ذلك وترِكتها كما هي. الْأوراق بالتحديد هي ما ازداد لديّ وأنا مضطرّ للْاِحتِفَاظ بها فهي وثائق رسمية مهمة لكنّني أَخْطَأَت بعدم تَنظيم هذهِ الْأوراق وَالْكتب خَارِج نِطَاق السَّيطَرَةِ .\n",
            "وَلَدَي عُدَدَ كَبِيرِ من المجّلات لم أُقْرَأْهَا وهناك أَشْيَاءَ مُبَعْثَرَةٍ هنا وهناك حالَةَ الْفَوْضًىِ في غرفَتي أثّرت عليّ بأن جعلتني لا أعْرَفَ أين أَبَدْءُ وماذا عليّ أن أَفعلَ.\n"
          ]
        }
      ]
    },
    {
      "cell_type": "code",
      "source": [
        " #قياس التماثل في الحركات\n",
        "from pyarabic import araby\n",
        "word3 =u\" وكلما حَاوَلَتْ تَنْظِيمُ ما لديّ توّقفت عن فعل ذلك وَتَرِكَتَهَا كما هي. الْأَوْرَاقَ بالتّحديد هي ما اِزْدَادَ لديّ وأنا مضطرّ لِلْاِحْتِفَاظِ بها فهي وثائقَ رسميّة مهمّة لكنّني أَخْطَأَتْ بِعَدَمِ تَنْظِيمِ هذهِ الْأوراقِ وَالْكتبِ خَارِجَ نِطَاقِ السَّيْطَرَةِ\"\n",
        "word4 = u\"وكلما حَاولت تَنْظيم ما لدي  توّقفت عن فعل ذلك وترِكتها كما هي. الْأوراق بالتحديد هي ما ازداد لديّ وأنا مضطرّ للْاِحتِفَاظ بها فهي وثائق رسمية مهمة لكنّني أَخْطَأَت بعدم تَنظيم هذهِ الْأوراق وَالْكتب خَارِج نِطَاق السَّيطَرَةِ\"\n",
        "araby.vocalizedlike(word3, word4)\n",
        "word3 = u\" وكلما حَاوَلَتْ تَنْظِيمُ ما لديّ توّقفت عن فعل ذلك وَتَرِكَتَهَا كما هي. الْأَوْرَاقَ بالتّحديد هي ما اِزْدَادَ لديّ وأنا مضطرّ لِلْاِحْتِفَاظِ بها فهي وثائقَ رسميّة مهمّة لكنّني أَخْطَأَتْ بِعَدَمِ تَنْظِيمِ هذهِ الْأوراقِ وَالْكتبِ خَارِجَ نِطَاقِ السَّيْطَرَةِ\"\n",
        "word4 = u\"وكلما حَاولت تَنْظيم ما لدي  توّقفت عن فعل ذلك وترِكتها كما هي. الْأوراق بالتحديد هي ما ازداد لديّ وأنا مضطرّ للْاِحتِفَاظ بها فهي وثائق رسمية مهمة لكنّني أَخْطَأَت بعدم تَنظيم هذهِ الْأوراق وَالْكتب خَارِج نِطَاق السَّيطَرَةِ\"\n",
        "araby.vocalized_similarity(word3, word4)\n"
      ],
      "metadata": {
        "colab": {
          "base_uri": "https://localhost:8080/"
        },
        "id": "UDpNagmjhLcd",
        "outputId": "4eadc945-e261-420f-b6d4-9dd833771b1e"
      },
      "execution_count": 13,
      "outputs": [
        {
          "output_type": "execute_result",
          "data": {
            "text/plain": [
              "-26"
            ]
          },
          "metadata": {},
          "execution_count": 13
        }
      ]
    },
    {
      "cell_type": "code",
      "source": [
        "from pyarabic import araby\n",
        "text = u\"خارج نِطَاق السَّيطَرَةِ\"\"أَخْطَأَتْ بِعَدَمِ تَنْظِيمِ هذهِ الْأوراقِكلما حَاوَلَتْ تَنْظِيمُ ما لديّ\"\n",
        "tokens = araby.tokenize(text)\n",
        "print(u\"\\n\".join(tokens))\n"
      ],
      "metadata": {
        "colab": {
          "base_uri": "https://localhost:8080/"
        },
        "id": "eINtyzlwATTJ",
        "outputId": "4e2c7e6f-3101-4d41-958a-4f85a07a3407"
      },
      "execution_count": 14,
      "outputs": [
        {
          "output_type": "stream",
          "name": "stdout",
          "text": [
            "خارج\n",
            "نِطَاق\n",
            "السَّيطَرَةِأَخْطَأَتْ\n",
            "بِعَدَمِ\n",
            "تَنْظِيمِ\n",
            "هذهِ\n",
            "الْأوراقِكلما\n",
            "حَاوَلَتْ\n",
            "تَنْظِيمُ\n",
            "ما\n",
            "لديّ\n"
          ]
        }
      ]
    },
    {
      "cell_type": "code",
      "source": [
        "from pyarabic import araby\n",
        "text= \"خارج نِطَاق السَّيطَرَةِأَخْطَأَتْ بِعَدَمِ تَنْظِيمِ هذهِ الْأوراقِكلما حَاوَلَتْ تَنْظِيمُ ما لديّ\"\n",
        "araby.separate(text)"
      ],
      "metadata": {
        "colab": {
          "base_uri": "https://localhost:8080/"
        },
        "id": "WAxGbExkqw0d",
        "outputId": "a327bb25-9a17-4969-ad1f-c1267bb7b417"
      },
      "execution_count": null,
      "outputs": [
        {
          "output_type": "execute_result",
          "data": {
            "text/plain": [
              "('خارج نطاق السّيطرةأخطأت بعدم تنظيم هذه الأوراقكلما حاولت تنظيم ما لديّ',\n",
              " 'ـــــَِـــــَْـَََََِْْـََِِـَِْـِـــِــْــــِـــــَـََْـَِْـُــــــْـ')"
            ]
          },
          "metadata": {},
          "execution_count": 13
        }
      ]
    },
    {
      "cell_type": "code",
      "source": [
        "import pyarabic.trans\n",
        "word1 = u\"خارج نِطَاق السَّيطَرَةِأَخْطَأَتْ بِعَدَمِ تَنْظِيمِ هذهِ الْأوراقِكلما حَاوَلَتْ تَنْظِيمُ ما لديّ\"\n",
        "pyarabic.trans.encode_tashkeel(word1)"
      ],
      "metadata": {
        "colab": {
          "base_uri": "https://localhost:8080/"
        },
        "id": "s2-4T9Fgrs_P",
        "outputId": "0d6219fb-141b-4e55-e79b-1841615208ec"
      },
      "execution_count": 15,
      "outputs": [
        {
          "output_type": "execute_result",
          "data": {
            "text/plain": [
              "('خارج نطاق السّيطرةأخطأت بعدم تنظيم هذه الأوراقكلما حاولت تنظيم ما لديّ',\n",
              " '00000ia00000oa0aaiaoaao0iaai0aoi0i000i00o0000i00000a0aao0aoi0u000000o0')"
            ]
          },
          "metadata": {},
          "execution_count": 15
        }
      ]
    },
    {
      "cell_type": "code",
      "source": [
        "pyarabic.trans.encode_tashkeel(word1, \"decimal\")"
      ],
      "metadata": {
        "colab": {
          "base_uri": "https://localhost:8080/"
        },
        "id": "N2zgTDpQr9sg",
        "outputId": "f03a7d81-e5dd-464a-b46c-0823c6a8f8ff"
      },
      "execution_count": 16,
      "outputs": [
        {
          "output_type": "execute_result",
          "data": {
            "text/plain": [
              "('خارج نطاق السّيطرةأخطأت بعدم تنظيم هذه الأوراقكلما حاولت تنظيم ما لديّ',\n",
              " 64000007404464744706446047606000600700006000004044704760500000070)"
            ]
          },
          "metadata": {},
          "execution_count": 16
        }
      ]
    },
    {
      "cell_type": "code",
      "source": [
        "from pyarabic import araby\n",
        "\n",
        "# Définir les paires de mots\n",
        "pairs_of_words = [\n",
        "    (u\" خَارِجَ نِطَاقِ السَّيْطَرَةِ\",\n",
        "     u\" خَارِج نِطَاق السَّيطَرَةِ\"),(u\"أَخْطَأَتْ بِعَدَمِ تَنْظِيمِ\",u\"أَخْطَأَت بعدم تَنظيم\"),(u\"كلما حَاوَلَتْ تَنْظِيمُ ما لديّ توّقفت\",u\"كلما حَاولت تَنْظيم ما لدي  توّقفت\")\n",
        "    # Ajoutez d'autres paires de mots au besoin\n",
        "]\n",
        "\n",
        "# Stocker les résultats dans une liste ou un dictionnaire\n",
        "results = []\n",
        "\n",
        "# Mesurer la similarité vocalisée pour chaque paire\n",
        "for word1, word2 in pairs_of_words:\n",
        "    similarity = araby.vocalized_similarity(word1, word2)\n",
        "    results.append({'word1': word1, 'word2': word2, 'similarity': similarity})\n",
        "\n",
        "# Imprimer les résultats\n",
        "for result in results:\n",
        "    print(result)"
      ],
      "metadata": {
        "colab": {
          "base_uri": "https://localhost:8080/"
        },
        "id": "W1z6ndoQrOXs",
        "outputId": "7a71e3d1-87fb-49ab-d055-78f0e915e19f"
      },
      "execution_count": 17,
      "outputs": [
        {
          "output_type": "stream",
          "name": "stdout",
          "text": [
            "{'word1': ' خَارِجَ نِطَاقِ السَّيْطَرَةِ', 'word2': ' خَارِج نِطَاق السَّيطَرَةِ', 'similarity': True}\n",
            "{'word1': 'أَخْطَأَتْ بِعَدَمِ تَنْظِيمِ', 'word2': 'أَخْطَأَت بعدم تَنظيم', 'similarity': True}\n",
            "{'word1': 'كلما حَاوَلَتْ تَنْظِيمُ ما لديّ توّقفت', 'word2': 'كلما حَاولت تَنْظيم ما لدي  توّقفت', 'similarity': -24}\n"
          ]
        }
      ]
    },
    {
      "cell_type": "code",
      "source": [
        "from pyarabic import araby\n",
        "text= u\"خلالُ السّنتين الْمَاضِيَتَيْنِ اِضْطَرَرْتُ لِإضافَةِ عدّة أَشْيَاءَ في غرفَتي \"\"حتّى أَصْبَحَتْ الْغرفَةُ لا تُطَاقُ ولا أعْرَفَ ما الذي عليّ فِعْلَهُ\"\"وكلما حَاوَلَتْ تَنْظِيمُ ما لديّ توّقفت    عن فعل ذلك:  وَتَرِكَتَهَا كما هي. \"\"الْأَوْرَاقَ بالتّحديد هي ما اِزْدَادَ لديّ وأنا مضطرّ لِلْاِحْتِفَاظِ بها فهي وثائقَ رسميّة مهمّة لكنّني ،    أَخْطَأَتْ بِعَدَمِ تَنْظِيمِ هذهِ الْأوراقِ وَالْكتبِ خَارِجَ نِطَاقِ السَّيْطَرَةِ .\"\"وَلَدَي عُدَدَ كَبِيرِ من المجّلات لم أُقْرَأْهَا وهناك أَشْيَاءَ مُبَعْثَرَةٍ هنا وهناك حالَةَ الْفَوْضًىِ في غرفَتي أثّرت عليّ بأن جعلتني لا أعْرَفَ أين أَبَدْءُ وماذا عليّ أن أَفعلَ\"\n",
        "tokens = araby.tokenize(text)\n",
        "print(u\"\\n\".join(tokens))"
      ],
      "metadata": {
        "colab": {
          "base_uri": "https://localhost:8080/"
        },
        "id": "no2E6bSVPHHU",
        "outputId": "bfbf16aa-49e0-466f-fc67-71304084771e"
      },
      "execution_count": 18,
      "outputs": [
        {
          "output_type": "stream",
          "name": "stdout",
          "text": [
            "خلالُ\n",
            "السّنتين\n",
            "الْمَاضِيَتَيْنِ\n",
            "اِضْطَرَرْتُ\n",
            "لِإضافَةِ\n",
            "عدّة\n",
            "أَشْيَاءَ\n",
            "في\n",
            "غرفَتي\n",
            "حتّى\n",
            "أَصْبَحَتْ\n",
            "الْغرفَةُ\n",
            "لا\n",
            "تُطَاقُ\n",
            "ولا\n",
            "أعْرَفَ\n",
            "ما\n",
            "الذي\n",
            "عليّ\n",
            "فِعْلَهُوكلما\n",
            "حَاوَلَتْ\n",
            "تَنْظِيمُ\n",
            "ما\n",
            "لديّ\n",
            "توّقفت\n",
            "عن\n",
            "فعل\n",
            "ذلك\n",
            ":\n",
            "وَتَرِكَتَهَا\n",
            "كما\n",
            "هي\n",
            ".\n",
            "الْأَوْرَاقَ\n",
            "بالتّحديد\n",
            "هي\n",
            "ما\n",
            "اِزْدَادَ\n",
            "لديّ\n",
            "وأنا\n",
            "مضطرّ\n",
            "لِلْاِحْتِفَاظِ\n",
            "بها\n",
            "فهي\n",
            "وثائقَ\n",
            "رسميّة\n",
            "مهمّة\n",
            "لكنّني\n",
            "،\n",
            "أَخْطَأَتْ\n",
            "بِعَدَمِ\n",
            "تَنْظِيمِ\n",
            "هذهِ\n",
            "الْأوراقِ\n",
            "وَالْكتبِ\n",
            "خَارِجَ\n",
            "نِطَاقِ\n",
            "السَّيْطَرَةِ\n",
            ".\n",
            "وَلَدَي\n",
            "عُدَدَ\n",
            "كَبِيرِ\n",
            "من\n",
            "المجّلات\n",
            "لم\n",
            "أُقْرَأْهَا\n",
            "وهناك\n",
            "أَشْيَاءَ\n",
            "مُبَعْثَرَةٍ\n",
            "هنا\n",
            "وهناك\n",
            "حالَةَ\n",
            "الْفَوْضًىِ\n",
            "في\n",
            "غرفَتي\n",
            "أثّرت\n",
            "عليّ\n",
            "بأن\n",
            "جعلتني\n",
            "لا\n",
            "أعْرَفَ\n",
            "أين\n",
            "أَبَدْءُ\n",
            "وماذا\n",
            "عليّ\n",
            "أن\n",
            "أَفعلَ\n"
          ]
        }
      ]
    },
    {
      "cell_type": "code",
      "source": [
        "def remove_non_arabic_symbols(string):\n",
        "    return re.sub(r'[^\\u0600-\\u06FF]', ' ', string)"
      ],
      "metadata": {
        "id": "MROLzvnBRCSX"
      },
      "execution_count": 19,
      "outputs": []
    },
    {
      "cell_type": "code",
      "source": [
        "def remove_extra_whitespace(string):\n",
        "    string1 = re.sub(r'\\s+', ' ', string)\n",
        "    return re.sub(r\"\\s{2,}\", \" \", string).strip()"
      ],
      "metadata": {
        "id": "FmYhkiWCReiS"
      },
      "execution_count": 20,
      "outputs": []
    },
    {
      "cell_type": "code",
      "source": [
        "string1= u\"خلالُ السّنتين الْمَاضِيَتَيْنِ اِضْطَرَرْتُ لِإضافَةِ عدّة أَشْيَاءَ في غرفَتي \"\"حتّى أَصْبَحَتْ الْغرفَةُ لا تُطَاقُ ولا أعْرَفَ ما الذي عليّ فِعْلَهُ\"\"وكلما حَاوَلَتْ تَنْظِيمُ ما لديّ توّقفت    عن فعل ذلك:  وَتَرِكَتَهَا كما هي. الْأَوْرَاقَ بالتّحديد هي ما اِزْدَادَ لديّ وأنا مضطرّ لِلْاِحْتِفَاظِ بها فهي وثائقَ رسميّة مهمّة لكنّني ،    أَخْطَأَتْ بِعَدَمِ تَنْظِيمِ هذهِ الْأوراقِ وَالْكتبِ خَارِجَ نِطَاقِ السَّيْطَرَةِ وَلَدَي عُدَدَ كَبِيرِ من المجّلات لم أُقْرَأْهَا وهناك أَشْيَاءَ مُبَعْثَرَةٍ هنا وهناك حالَةَ الْفَوْضًىِ في غرفَتي أثّرت عليّ بأن جعلتني لا أعْرَفَ أين أَبَدْءُ وماذا عليّ أن أَفع.\"\n",
        "string1 = remove_non_arabic_symbols(string1)\n",
        "string1 = remove_extra_whitespace(string1)\n",
        "print(\"Après: \",string1)\n",
        "string2=string1"
      ],
      "metadata": {
        "colab": {
          "base_uri": "https://localhost:8080/"
        },
        "id": "eAaJYtQ2MQZx",
        "outputId": "ad5a4d46-3709-4fbf-e737-c345d3a48d09"
      },
      "execution_count": 21,
      "outputs": [
        {
          "output_type": "stream",
          "name": "stdout",
          "text": [
            "Après:  خلالُ السّنتين الْمَاضِيَتَيْنِ اِضْطَرَرْتُ لِإضافَةِ عدّة أَشْيَاءَ في غرفَتي حتّى أَصْبَحَتْ الْغرفَةُ لا تُطَاقُ ولا أعْرَفَ ما الذي عليّ فِعْلَهُوكلما حَاوَلَتْ تَنْظِيمُ ما لديّ توّقفت عن فعل ذلك وَتَرِكَتَهَا كما هي الْأَوْرَاقَ بالتّحديد هي ما اِزْدَادَ لديّ وأنا مضطرّ لِلْاِحْتِفَاظِ بها فهي وثائقَ رسميّة مهمّة لكنّني ، أَخْطَأَتْ بِعَدَمِ تَنْظِيمِ هذهِ الْأوراقِ وَالْكتبِ خَارِجَ نِطَاقِ السَّيْطَرَةِ وَلَدَي عُدَدَ كَبِيرِ من المجّلات لم أُقْرَأْهَا وهناك أَشْيَاءَ مُبَعْثَرَةٍ هنا وهناك حالَةَ الْفَوْضًىِ في غرفَتي أثّرت عليّ بأن جعلتني لا أعْرَفَ أين أَبَدْءُ وماذا عليّ أن أَفع\n"
          ]
        }
      ]
    },
    {
      "cell_type": "code",
      "source": [
        "import pyarabic.trans\n",
        "from pyarabic import araby, trans\n",
        "text=string2\n",
        "tokens = araby.tokenize(text)\n",
        "tokens_list= list (tokens)\n",
        "print(tokens_list)\n",
        "\n"
      ],
      "metadata": {
        "colab": {
          "base_uri": "https://localhost:8080/"
        },
        "id": "y7EBOX9qS0tR",
        "outputId": "3235aa77-7acd-4812-8d35-634b83650dd0"
      },
      "execution_count": 22,
      "outputs": [
        {
          "output_type": "stream",
          "name": "stdout",
          "text": [
            "['خلالُ', 'السّنتين', 'الْمَاضِيَتَيْنِ', 'اِضْطَرَرْتُ', 'لِإضافَةِ', 'عدّة', 'أَشْيَاءَ', 'في', 'غرفَتي', 'حتّى', 'أَصْبَحَتْ', 'الْغرفَةُ', 'لا', 'تُطَاقُ', 'ولا', 'أعْرَفَ', 'ما', 'الذي', 'عليّ', 'فِعْلَهُوكلما', 'حَاوَلَتْ', 'تَنْظِيمُ', 'ما', 'لديّ', 'توّقفت', 'عن', 'فعل', 'ذلك', 'وَتَرِكَتَهَا', 'كما', 'هي', 'الْأَوْرَاقَ', 'بالتّحديد', 'هي', 'ما', 'اِزْدَادَ', 'لديّ', 'وأنا', 'مضطرّ', 'لِلْاِحْتِفَاظِ', 'بها', 'فهي', 'وثائقَ', 'رسميّة', 'مهمّة', 'لكنّني', '،', 'أَخْطَأَتْ', 'بِعَدَمِ', 'تَنْظِيمِ', 'هذهِ', 'الْأوراقِ', 'وَالْكتبِ', 'خَارِجَ', 'نِطَاقِ', 'السَّيْطَرَةِ', 'وَلَدَي', 'عُدَدَ', 'كَبِيرِ', 'من', 'المجّلات', 'لم', 'أُقْرَأْهَا', 'وهناك', 'أَشْيَاءَ', 'مُبَعْثَرَةٍ', 'هنا', 'وهناك', 'حالَةَ', 'الْفَوْضًىِ', 'في', 'غرفَتي', 'أثّرت', 'عليّ', 'بأن', 'جعلتني', 'لا', 'أعْرَفَ', 'أين', 'أَبَدْءُ', 'وماذا', 'عليّ', 'أن', 'أَفع']\n"
          ]
        }
      ]
    },
    {
      "cell_type": "code",
      "source": [
        "encoded_words = map(trans.encode_tashkeel, tokens_list)\n",
        "print(list(encoded_words))"
      ],
      "metadata": {
        "colab": {
          "base_uri": "https://localhost:8080/"
        },
        "id": "rBgvYX5GmLv_",
        "outputId": "b6ba3e2f-6c82-40f1-f967-2bf77fe5e95b"
      },
      "execution_count": 23,
      "outputs": [
        {
          "output_type": "stream",
          "name": "stdout",
          "text": [
            "[('خلال', '000u'), ('السّنتين', '00o00000'), ('الماضيتين', '0oa0iaaoi'), ('اضطررت', 'ioaaou'), ('لإضافة', 'i000ai'), ('عدّة', '0o00'), ('أشياء', 'aoa0a'), ('في', '00'), ('غرفتي', '00a00'), ('حتّى', '0o00'), ('أصبحت', 'aoaao'), ('الغرفة', '0o00au'), ('لا', '00'), ('تطاق', 'ua0u'), ('ولا', '000'), ('أعرف', '0oaa'), ('ما', '00'), ('الذي', '0000'), ('عليّ', '00o0'), ('فعلهوكلما', 'ioau00000'), ('حاولت', 'a0aao'), ('تنظيم', 'aoi0u'), ('ما', '00'), ('لديّ', '00o0'), ('توّقفت', '0o0000'), ('عن', '00'), ('فعل', '000'), ('ذلك', '000'), ('وتركتها', 'aaiaaa0'), ('كما', '000'), ('هي', '00'), ('الأوراق', '0oaoa0a'), ('بالتّحديد', '000o00000'), ('هي', '00'), ('ما', '00'), ('ازداد', 'ioa0a'), ('لديّ', '00o0'), ('وأنا', '0000'), ('مضطرّ', '000o0'), ('للاحتفاظ', 'ioioia0i'), ('بها', '000'), ('فهي', '000'), ('وثائق', '0000a'), ('رسميّة', '000o00'), ('مهمّة', '00o00'), ('لكنّني', '00o000'), ('،', '0'), ('أخطأت', 'aoaao'), ('بعدم', 'iaai'), ('تنظيم', 'aoi0i'), ('هذه', '00i'), ('الأوراق', '0o0000i'), ('والكتب', 'a0o00i'), ('خارج', 'a0ia'), ('نطاق', 'ia0i'), ('السّيطرة', '00oaoaai'), ('ولدي', 'aaa0'), ('عدد', 'uaa'), ('كبير', 'ai0i'), ('من', '00'), ('المجّلات', '000o0000'), ('لم', '00'), ('أقرأها', 'uoaoa0'), ('وهناك', '00000'), ('أشياء', 'aoa0a'), ('مبعثرة', 'uaoaaI'), ('هنا', '000'), ('وهناك', '00000'), ('حالة', '00aa'), ('الفوضى', '0oaoAi'), ('في', '00'), ('غرفتي', '00a00'), ('أثّرت', '0o000'), ('عليّ', '00o0'), ('بأن', '000'), ('جعلتني', '000000'), ('لا', '00'), ('أعرف', '0oaa'), ('أين', '000'), ('أبدء', 'aaou'), ('وماذا', '00000'), ('عليّ', '00o0'), ('أن', '00'), ('أفع', 'a00')]\n"
          ]
        }
      ]
    },
    {
      "cell_type": "code",
      "source": [
        "import pyarabic.trans\n",
        "encoded_words = map(trans.encode_tashkeel, tokens_list)\n",
        "encoded_words_decimal = []\n",
        "for word in encoded_words:\n",
        "    encoded_word_decimal = trans.encode_tashkeel(word, \"decimal\")\n",
        "    encoded_words_decimal.append(encoded_word_decimal)\n",
        "    print(list(encoded_word_decimal))"
      ],
      "metadata": {
        "colab": {
          "base_uri": "https://localhost:8080/"
        },
        "id": "iquNVZuFeZE-",
        "outputId": "962c9559-b9f6-496d-deaa-4c6a51df9830"
      },
      "execution_count": 24,
      "outputs": [
        {
          "output_type": "stream",
          "name": "stdout",
          "text": [
            "['خلال000u', 0]\n",
            "['السّنتين00o00000', 0]\n",
            "['الماضيتين0oa0iaaoi', 0]\n",
            "['اضطررتioaaou', 0]\n",
            "['لإضافةi000ai', 0]\n",
            "['عدّة0o00', 0]\n",
            "['أشياءaoa0a', 0]\n",
            "['في00', 0]\n",
            "['غرفتي00a00', 0]\n",
            "['حتّى0o00', 0]\n",
            "['أصبحتaoaao', 0]\n",
            "['الغرفة0o00au', 0]\n",
            "['لا00', 0]\n",
            "['تطاقua0u', 0]\n",
            "['ولا000', 0]\n",
            "['أعرف0oaa', 0]\n",
            "['ما00', 0]\n",
            "['الذي0000', 0]\n",
            "['عليّ00o0', 0]\n",
            "['فعلهوكلماioau00000', 0]\n",
            "['حاولتa0aao', 0]\n",
            "['تنظيمaoi0u', 0]\n",
            "['ما00', 0]\n",
            "['لديّ00o0', 0]\n",
            "['توّقفت0o0000', 0]\n",
            "['عن00', 0]\n",
            "['فعل000', 0]\n",
            "['ذلك000', 0]\n",
            "['وتركتهاaaiaaa0', 0]\n",
            "['كما000', 0]\n",
            "['هي00', 0]\n",
            "['الأوراق0oaoa0a', 0]\n",
            "['بالتّحديد000o00000', 0]\n",
            "['هي00', 0]\n",
            "['ما00', 0]\n",
            "['ازدادioa0a', 0]\n",
            "['لديّ00o0', 0]\n",
            "['وأنا0000', 0]\n",
            "['مضطرّ000o0', 0]\n",
            "['للاحتفاظioioia0i', 0]\n",
            "['بها000', 0]\n",
            "['فهي000', 0]\n",
            "['وثائق0000a', 0]\n",
            "['رسميّة000o00', 0]\n",
            "['مهمّة00o00', 0]\n",
            "['لكنّني00o000', 0]\n",
            "['،0', 0]\n",
            "['أخطأتaoaao', 0]\n",
            "['بعدمiaai', 0]\n",
            "['تنظيمaoi0i', 0]\n",
            "['هذه00i', 0]\n",
            "['الأوراق0o0000i', 0]\n",
            "['والكتبa0o00i', 0]\n",
            "['خارجa0ia', 0]\n",
            "['نطاقia0i', 0]\n",
            "['السّيطرة00oaoaai', 0]\n",
            "['ولديaaa0', 0]\n",
            "['عددuaa', 0]\n",
            "['كبيرai0i', 0]\n",
            "['من00', 0]\n",
            "['المجّلات000o0000', 0]\n",
            "['لم00', 0]\n",
            "['أقرأهاuoaoa0', 0]\n",
            "['وهناك00000', 0]\n",
            "['أشياءaoa0a', 0]\n",
            "['مبعثرةuaoaaI', 0]\n",
            "['هنا000', 0]\n",
            "['وهناك00000', 0]\n",
            "['حالة00aa', 0]\n",
            "['الفوضى0oaoAi', 0]\n",
            "['في00', 0]\n",
            "['غرفتي00a00', 0]\n",
            "['أثّرت0o000', 0]\n",
            "['عليّ00o0', 0]\n",
            "['بأن000', 0]\n",
            "['جعلتني000000', 0]\n",
            "['لا00', 0]\n",
            "['أعرف0oaa', 0]\n",
            "['أين000', 0]\n",
            "['أبدءaaou', 0]\n",
            "['وماذا00000', 0]\n",
            "['عليّ00o0', 0]\n",
            "['أن00', 0]\n",
            "['أفعa00', 0]\n"
          ]
        }
      ]
    },
    {
      "cell_type": "code",
      "source": [
        "def segmenter_en_lettres(phrase):\n",
        "    phrase_segmentee = ' # '.join(' '.join(mot) for mot in phrase.split())\n",
        "    return phrase_segmentee\n",
        "\n",
        "phrase_complete = \"كِتَابُ الْوُضُوءِ مَا جَاءَ فِي الْوُضُوءِ قَالَ سَحْنُون\"\n",
        "resultat = segmenter_en_lettres(phrase_complete)\n",
        "print(resultat)\n",
        "\n",
        "\n"
      ],
      "metadata": {
        "colab": {
          "base_uri": "https://localhost:8080/"
        },
        "id": "F7PVPWDfw1V-",
        "outputId": "71b261ac-bf3f-4bae-f027-7f0fa00ae0a7"
      },
      "execution_count": 25,
      "outputs": [
        {
          "output_type": "stream",
          "name": "stdout",
          "text": [
            "ك ِ ت َ ا ب ُ # ا ل ْ و ُ ض ُ و ء ِ # م َ ا # ج َ ا ء َ # ف ِ ي # ا ل ْ و ُ ض ُ و ء ِ # ق َ ا ل َ # س َ ح ْ ن ُ و ن\n"
          ]
        }
      ]
    },
    {
      "cell_type": "code",
      "source": [
        "import pandas as pd"
      ],
      "metadata": {
        "id": "Pw3KFKD1OgyY"
      },
      "execution_count": 50,
      "outputs": []
    },
    {
      "cell_type": "code",
      "source": [
        "from google.colab import files\n",
        "uploaded=files.upload()\n",
        "# Get the list of uploaded filenames\n",
        "uploaded_filenames = list(uploaded.keys())\n",
        "# Print the list of filenames\n",
        "print(uploaded_filenames)\n",
        "uploaded_csv_content = uploaded[uploaded_filenames[0]]\n",
        "data = pd.read_csv(uploaded_filenames[0], encoding='utf-8')\n",
        "print(\"CSV file read successfully.\")\n"
      ],
      "metadata": {
        "id": "ICcz6ltSAN5-",
        "outputId": "cd69c906-61f2-4e8e-e98c-a8d240c0ec58",
        "colab": {
          "base_uri": "https://localhost:8080/",
          "height": 107
        }
      },
      "execution_count": 51,
      "outputs": [
        {
          "output_type": "display_data",
          "data": {
            "text/plain": [
              "<IPython.core.display.HTML object>"
            ],
            "text/html": [
              "\n",
              "     <input type=\"file\" id=\"files-77cf5e91-15af-4c58-8d18-ca75baabfa3e\" name=\"files[]\" multiple disabled\n",
              "        style=\"border:none\" />\n",
              "     <output id=\"result-77cf5e91-15af-4c58-8d18-ca75baabfa3e\">\n",
              "      Upload widget is only available when the cell has been executed in the\n",
              "      current browser session. Please rerun this cell to enable.\n",
              "      </output>\n",
              "      <script>// Copyright 2017 Google LLC\n",
              "//\n",
              "// Licensed under the Apache License, Version 2.0 (the \"License\");\n",
              "// you may not use this file except in compliance with the License.\n",
              "// You may obtain a copy of the License at\n",
              "//\n",
              "//      http://www.apache.org/licenses/LICENSE-2.0\n",
              "//\n",
              "// Unless required by applicable law or agreed to in writing, software\n",
              "// distributed under the License is distributed on an \"AS IS\" BASIS,\n",
              "// WITHOUT WARRANTIES OR CONDITIONS OF ANY KIND, either express or implied.\n",
              "// See the License for the specific language governing permissions and\n",
              "// limitations under the License.\n",
              "\n",
              "/**\n",
              " * @fileoverview Helpers for google.colab Python module.\n",
              " */\n",
              "(function(scope) {\n",
              "function span(text, styleAttributes = {}) {\n",
              "  const element = document.createElement('span');\n",
              "  element.textContent = text;\n",
              "  for (const key of Object.keys(styleAttributes)) {\n",
              "    element.style[key] = styleAttributes[key];\n",
              "  }\n",
              "  return element;\n",
              "}\n",
              "\n",
              "// Max number of bytes which will be uploaded at a time.\n",
              "const MAX_PAYLOAD_SIZE = 100 * 1024;\n",
              "\n",
              "function _uploadFiles(inputId, outputId) {\n",
              "  const steps = uploadFilesStep(inputId, outputId);\n",
              "  const outputElement = document.getElementById(outputId);\n",
              "  // Cache steps on the outputElement to make it available for the next call\n",
              "  // to uploadFilesContinue from Python.\n",
              "  outputElement.steps = steps;\n",
              "\n",
              "  return _uploadFilesContinue(outputId);\n",
              "}\n",
              "\n",
              "// This is roughly an async generator (not supported in the browser yet),\n",
              "// where there are multiple asynchronous steps and the Python side is going\n",
              "// to poll for completion of each step.\n",
              "// This uses a Promise to block the python side on completion of each step,\n",
              "// then passes the result of the previous step as the input to the next step.\n",
              "function _uploadFilesContinue(outputId) {\n",
              "  const outputElement = document.getElementById(outputId);\n",
              "  const steps = outputElement.steps;\n",
              "\n",
              "  const next = steps.next(outputElement.lastPromiseValue);\n",
              "  return Promise.resolve(next.value.promise).then((value) => {\n",
              "    // Cache the last promise value to make it available to the next\n",
              "    // step of the generator.\n",
              "    outputElement.lastPromiseValue = value;\n",
              "    return next.value.response;\n",
              "  });\n",
              "}\n",
              "\n",
              "/**\n",
              " * Generator function which is called between each async step of the upload\n",
              " * process.\n",
              " * @param {string} inputId Element ID of the input file picker element.\n",
              " * @param {string} outputId Element ID of the output display.\n",
              " * @return {!Iterable<!Object>} Iterable of next steps.\n",
              " */\n",
              "function* uploadFilesStep(inputId, outputId) {\n",
              "  const inputElement = document.getElementById(inputId);\n",
              "  inputElement.disabled = false;\n",
              "\n",
              "  const outputElement = document.getElementById(outputId);\n",
              "  outputElement.innerHTML = '';\n",
              "\n",
              "  const pickedPromise = new Promise((resolve) => {\n",
              "    inputElement.addEventListener('change', (e) => {\n",
              "      resolve(e.target.files);\n",
              "    });\n",
              "  });\n",
              "\n",
              "  const cancel = document.createElement('button');\n",
              "  inputElement.parentElement.appendChild(cancel);\n",
              "  cancel.textContent = 'Cancel upload';\n",
              "  const cancelPromise = new Promise((resolve) => {\n",
              "    cancel.onclick = () => {\n",
              "      resolve(null);\n",
              "    };\n",
              "  });\n",
              "\n",
              "  // Wait for the user to pick the files.\n",
              "  const files = yield {\n",
              "    promise: Promise.race([pickedPromise, cancelPromise]),\n",
              "    response: {\n",
              "      action: 'starting',\n",
              "    }\n",
              "  };\n",
              "\n",
              "  cancel.remove();\n",
              "\n",
              "  // Disable the input element since further picks are not allowed.\n",
              "  inputElement.disabled = true;\n",
              "\n",
              "  if (!files) {\n",
              "    return {\n",
              "      response: {\n",
              "        action: 'complete',\n",
              "      }\n",
              "    };\n",
              "  }\n",
              "\n",
              "  for (const file of files) {\n",
              "    const li = document.createElement('li');\n",
              "    li.append(span(file.name, {fontWeight: 'bold'}));\n",
              "    li.append(span(\n",
              "        `(${file.type || 'n/a'}) - ${file.size} bytes, ` +\n",
              "        `last modified: ${\n",
              "            file.lastModifiedDate ? file.lastModifiedDate.toLocaleDateString() :\n",
              "                                    'n/a'} - `));\n",
              "    const percent = span('0% done');\n",
              "    li.appendChild(percent);\n",
              "\n",
              "    outputElement.appendChild(li);\n",
              "\n",
              "    const fileDataPromise = new Promise((resolve) => {\n",
              "      const reader = new FileReader();\n",
              "      reader.onload = (e) => {\n",
              "        resolve(e.target.result);\n",
              "      };\n",
              "      reader.readAsArrayBuffer(file);\n",
              "    });\n",
              "    // Wait for the data to be ready.\n",
              "    let fileData = yield {\n",
              "      promise: fileDataPromise,\n",
              "      response: {\n",
              "        action: 'continue',\n",
              "      }\n",
              "    };\n",
              "\n",
              "    // Use a chunked sending to avoid message size limits. See b/62115660.\n",
              "    let position = 0;\n",
              "    do {\n",
              "      const length = Math.min(fileData.byteLength - position, MAX_PAYLOAD_SIZE);\n",
              "      const chunk = new Uint8Array(fileData, position, length);\n",
              "      position += length;\n",
              "\n",
              "      const base64 = btoa(String.fromCharCode.apply(null, chunk));\n",
              "      yield {\n",
              "        response: {\n",
              "          action: 'append',\n",
              "          file: file.name,\n",
              "          data: base64,\n",
              "        },\n",
              "      };\n",
              "\n",
              "      let percentDone = fileData.byteLength === 0 ?\n",
              "          100 :\n",
              "          Math.round((position / fileData.byteLength) * 100);\n",
              "      percent.textContent = `${percentDone}% done`;\n",
              "\n",
              "    } while (position < fileData.byteLength);\n",
              "  }\n",
              "\n",
              "  // All done.\n",
              "  yield {\n",
              "    response: {\n",
              "      action: 'complete',\n",
              "    }\n",
              "  };\n",
              "}\n",
              "\n",
              "scope.google = scope.google || {};\n",
              "scope.google.colab = scope.google.colab || {};\n",
              "scope.google.colab._files = {\n",
              "  _uploadFiles,\n",
              "  _uploadFilesContinue,\n",
              "};\n",
              "})(self);\n",
              "</script> "
            ]
          },
          "metadata": {}
        },
        {
          "output_type": "stream",
          "name": "stdout",
          "text": [
            "Saving list2.csv to list2 (4).csv\n",
            "['list2 (4).csv']\n",
            "CSV file read successfully.\n"
          ]
        }
      ]
    },
    {
      "cell_type": "code",
      "source": [
        "df=data\n",
        "df.info()"
      ],
      "metadata": {
        "id": "lvTLiGfQBwbG",
        "outputId": "0ca63727-971b-421b-a03d-3b7cbc21a75b",
        "colab": {
          "base_uri": "https://localhost:8080/"
        }
      },
      "execution_count": 57,
      "outputs": [
        {
          "output_type": "stream",
          "name": "stdout",
          "text": [
            "<class 'pandas.core.frame.DataFrame'>\n",
            "RangeIndex: 19 entries, 0 to 18\n",
            "Data columns (total 2 columns):\n",
            " #   Column     Non-Null Count  Dtype  \n",
            "---  ------     --------------  -----  \n",
            " 0   moshakala  16 non-null     object \n",
            " 1   clear      0 non-null      float64\n",
            "dtypes: float64(1), object(1)\n",
            "memory usage: 432.0+ bytes\n"
          ]
        }
      ]
    },
    {
      "cell_type": "code",
      "source": [
        "df[['moshakala','clear']]\n",
        "x=df[['moshakala']]\n",
        "x"
      ],
      "metadata": {
        "id": "v54EXSHKCZNB",
        "outputId": "80f77834-5caf-40f7-bbb4-8f4e21e37abf",
        "colab": {
          "base_uri": "https://localhost:8080/",
          "height": 645
        }
      },
      "execution_count": 53,
      "outputs": [
        {
          "output_type": "execute_result",
          "data": {
            "text/plain": [
              "           moshakala\n",
              "0              ?????\n",
              "1           ????????\n",
              "2   ????????????????\n",
              "3       ????????????\n",
              "4                NaN\n",
              "5             '????'\n",
              "6         ????????? \n",
              "7             ???? :\n",
              "8           ????????\n",
              "9             ??????\n",
              "10               NaN\n",
              "11              ????\n",
              "12        ??????????\n",
              "13         ?????????\n",
              "14        ?? ???????\n",
              "15      ??? ??????? \n",
              "16              ????\n",
              "17               NaN\n",
              "18         ????????."
            ],
            "text/html": [
              "\n",
              "  <div id=\"df-7460d986-3bf8-4a23-a94c-5c0fa42e2072\" class=\"colab-df-container\">\n",
              "    <div>\n",
              "<style scoped>\n",
              "    .dataframe tbody tr th:only-of-type {\n",
              "        vertical-align: middle;\n",
              "    }\n",
              "\n",
              "    .dataframe tbody tr th {\n",
              "        vertical-align: top;\n",
              "    }\n",
              "\n",
              "    .dataframe thead th {\n",
              "        text-align: right;\n",
              "    }\n",
              "</style>\n",
              "<table border=\"1\" class=\"dataframe\">\n",
              "  <thead>\n",
              "    <tr style=\"text-align: right;\">\n",
              "      <th></th>\n",
              "      <th>moshakala</th>\n",
              "    </tr>\n",
              "  </thead>\n",
              "  <tbody>\n",
              "    <tr>\n",
              "      <th>0</th>\n",
              "      <td>?????</td>\n",
              "    </tr>\n",
              "    <tr>\n",
              "      <th>1</th>\n",
              "      <td>????????</td>\n",
              "    </tr>\n",
              "    <tr>\n",
              "      <th>2</th>\n",
              "      <td>????????????????</td>\n",
              "    </tr>\n",
              "    <tr>\n",
              "      <th>3</th>\n",
              "      <td>????????????</td>\n",
              "    </tr>\n",
              "    <tr>\n",
              "      <th>4</th>\n",
              "      <td>NaN</td>\n",
              "    </tr>\n",
              "    <tr>\n",
              "      <th>5</th>\n",
              "      <td>'????'</td>\n",
              "    </tr>\n",
              "    <tr>\n",
              "      <th>6</th>\n",
              "      <td>?????????</td>\n",
              "    </tr>\n",
              "    <tr>\n",
              "      <th>7</th>\n",
              "      <td>???? :</td>\n",
              "    </tr>\n",
              "    <tr>\n",
              "      <th>8</th>\n",
              "      <td>????????</td>\n",
              "    </tr>\n",
              "    <tr>\n",
              "      <th>9</th>\n",
              "      <td>??????</td>\n",
              "    </tr>\n",
              "    <tr>\n",
              "      <th>10</th>\n",
              "      <td>NaN</td>\n",
              "    </tr>\n",
              "    <tr>\n",
              "      <th>11</th>\n",
              "      <td>????</td>\n",
              "    </tr>\n",
              "    <tr>\n",
              "      <th>12</th>\n",
              "      <td>??????????</td>\n",
              "    </tr>\n",
              "    <tr>\n",
              "      <th>13</th>\n",
              "      <td>?????????</td>\n",
              "    </tr>\n",
              "    <tr>\n",
              "      <th>14</th>\n",
              "      <td>?? ???????</td>\n",
              "    </tr>\n",
              "    <tr>\n",
              "      <th>15</th>\n",
              "      <td>??? ???????</td>\n",
              "    </tr>\n",
              "    <tr>\n",
              "      <th>16</th>\n",
              "      <td>????</td>\n",
              "    </tr>\n",
              "    <tr>\n",
              "      <th>17</th>\n",
              "      <td>NaN</td>\n",
              "    </tr>\n",
              "    <tr>\n",
              "      <th>18</th>\n",
              "      <td>????????.</td>\n",
              "    </tr>\n",
              "  </tbody>\n",
              "</table>\n",
              "</div>\n",
              "    <div class=\"colab-df-buttons\">\n",
              "\n",
              "  <div class=\"colab-df-container\">\n",
              "    <button class=\"colab-df-convert\" onclick=\"convertToInteractive('df-7460d986-3bf8-4a23-a94c-5c0fa42e2072')\"\n",
              "            title=\"Convert this dataframe to an interactive table.\"\n",
              "            style=\"display:none;\">\n",
              "\n",
              "  <svg xmlns=\"http://www.w3.org/2000/svg\" height=\"24px\" viewBox=\"0 -960 960 960\">\n",
              "    <path d=\"M120-120v-720h720v720H120Zm60-500h600v-160H180v160Zm220 220h160v-160H400v160Zm0 220h160v-160H400v160ZM180-400h160v-160H180v160Zm440 0h160v-160H620v160ZM180-180h160v-160H180v160Zm440 0h160v-160H620v160Z\"/>\n",
              "  </svg>\n",
              "    </button>\n",
              "\n",
              "  <style>\n",
              "    .colab-df-container {\n",
              "      display:flex;\n",
              "      gap: 12px;\n",
              "    }\n",
              "\n",
              "    .colab-df-convert {\n",
              "      background-color: #E8F0FE;\n",
              "      border: none;\n",
              "      border-radius: 50%;\n",
              "      cursor: pointer;\n",
              "      display: none;\n",
              "      fill: #1967D2;\n",
              "      height: 32px;\n",
              "      padding: 0 0 0 0;\n",
              "      width: 32px;\n",
              "    }\n",
              "\n",
              "    .colab-df-convert:hover {\n",
              "      background-color: #E2EBFA;\n",
              "      box-shadow: 0px 1px 2px rgba(60, 64, 67, 0.3), 0px 1px 3px 1px rgba(60, 64, 67, 0.15);\n",
              "      fill: #174EA6;\n",
              "    }\n",
              "\n",
              "    .colab-df-buttons div {\n",
              "      margin-bottom: 4px;\n",
              "    }\n",
              "\n",
              "    [theme=dark] .colab-df-convert {\n",
              "      background-color: #3B4455;\n",
              "      fill: #D2E3FC;\n",
              "    }\n",
              "\n",
              "    [theme=dark] .colab-df-convert:hover {\n",
              "      background-color: #434B5C;\n",
              "      box-shadow: 0px 1px 3px 1px rgba(0, 0, 0, 0.15);\n",
              "      filter: drop-shadow(0px 1px 2px rgba(0, 0, 0, 0.3));\n",
              "      fill: #FFFFFF;\n",
              "    }\n",
              "  </style>\n",
              "\n",
              "    <script>\n",
              "      const buttonEl =\n",
              "        document.querySelector('#df-7460d986-3bf8-4a23-a94c-5c0fa42e2072 button.colab-df-convert');\n",
              "      buttonEl.style.display =\n",
              "        google.colab.kernel.accessAllowed ? 'block' : 'none';\n",
              "\n",
              "      async function convertToInteractive(key) {\n",
              "        const element = document.querySelector('#df-7460d986-3bf8-4a23-a94c-5c0fa42e2072');\n",
              "        const dataTable =\n",
              "          await google.colab.kernel.invokeFunction('convertToInteractive',\n",
              "                                                    [key], {});\n",
              "        if (!dataTable) return;\n",
              "\n",
              "        const docLinkHtml = 'Like what you see? Visit the ' +\n",
              "          '<a target=\"_blank\" href=https://colab.research.google.com/notebooks/data_table.ipynb>data table notebook</a>'\n",
              "          + ' to learn more about interactive tables.';\n",
              "        element.innerHTML = '';\n",
              "        dataTable['output_type'] = 'display_data';\n",
              "        await google.colab.output.renderOutput(dataTable, element);\n",
              "        const docLink = document.createElement('div');\n",
              "        docLink.innerHTML = docLinkHtml;\n",
              "        element.appendChild(docLink);\n",
              "      }\n",
              "    </script>\n",
              "  </div>\n",
              "\n",
              "\n",
              "<div id=\"df-797e56d7-bff5-4cea-bde9-8908a45a54f2\">\n",
              "  <button class=\"colab-df-quickchart\" onclick=\"quickchart('df-797e56d7-bff5-4cea-bde9-8908a45a54f2')\"\n",
              "            title=\"Suggest charts\"\n",
              "            style=\"display:none;\">\n",
              "\n",
              "<svg xmlns=\"http://www.w3.org/2000/svg\" height=\"24px\"viewBox=\"0 0 24 24\"\n",
              "     width=\"24px\">\n",
              "    <g>\n",
              "        <path d=\"M19 3H5c-1.1 0-2 .9-2 2v14c0 1.1.9 2 2 2h14c1.1 0 2-.9 2-2V5c0-1.1-.9-2-2-2zM9 17H7v-7h2v7zm4 0h-2V7h2v10zm4 0h-2v-4h2v4z\"/>\n",
              "    </g>\n",
              "</svg>\n",
              "  </button>\n",
              "\n",
              "<style>\n",
              "  .colab-df-quickchart {\n",
              "      --bg-color: #E8F0FE;\n",
              "      --fill-color: #1967D2;\n",
              "      --hover-bg-color: #E2EBFA;\n",
              "      --hover-fill-color: #174EA6;\n",
              "      --disabled-fill-color: #AAA;\n",
              "      --disabled-bg-color: #DDD;\n",
              "  }\n",
              "\n",
              "  [theme=dark] .colab-df-quickchart {\n",
              "      --bg-color: #3B4455;\n",
              "      --fill-color: #D2E3FC;\n",
              "      --hover-bg-color: #434B5C;\n",
              "      --hover-fill-color: #FFFFFF;\n",
              "      --disabled-bg-color: #3B4455;\n",
              "      --disabled-fill-color: #666;\n",
              "  }\n",
              "\n",
              "  .colab-df-quickchart {\n",
              "    background-color: var(--bg-color);\n",
              "    border: none;\n",
              "    border-radius: 50%;\n",
              "    cursor: pointer;\n",
              "    display: none;\n",
              "    fill: var(--fill-color);\n",
              "    height: 32px;\n",
              "    padding: 0;\n",
              "    width: 32px;\n",
              "  }\n",
              "\n",
              "  .colab-df-quickchart:hover {\n",
              "    background-color: var(--hover-bg-color);\n",
              "    box-shadow: 0 1px 2px rgba(60, 64, 67, 0.3), 0 1px 3px 1px rgba(60, 64, 67, 0.15);\n",
              "    fill: var(--button-hover-fill-color);\n",
              "  }\n",
              "\n",
              "  .colab-df-quickchart-complete:disabled,\n",
              "  .colab-df-quickchart-complete:disabled:hover {\n",
              "    background-color: var(--disabled-bg-color);\n",
              "    fill: var(--disabled-fill-color);\n",
              "    box-shadow: none;\n",
              "  }\n",
              "\n",
              "  .colab-df-spinner {\n",
              "    border: 2px solid var(--fill-color);\n",
              "    border-color: transparent;\n",
              "    border-bottom-color: var(--fill-color);\n",
              "    animation:\n",
              "      spin 1s steps(1) infinite;\n",
              "  }\n",
              "\n",
              "  @keyframes spin {\n",
              "    0% {\n",
              "      border-color: transparent;\n",
              "      border-bottom-color: var(--fill-color);\n",
              "      border-left-color: var(--fill-color);\n",
              "    }\n",
              "    20% {\n",
              "      border-color: transparent;\n",
              "      border-left-color: var(--fill-color);\n",
              "      border-top-color: var(--fill-color);\n",
              "    }\n",
              "    30% {\n",
              "      border-color: transparent;\n",
              "      border-left-color: var(--fill-color);\n",
              "      border-top-color: var(--fill-color);\n",
              "      border-right-color: var(--fill-color);\n",
              "    }\n",
              "    40% {\n",
              "      border-color: transparent;\n",
              "      border-right-color: var(--fill-color);\n",
              "      border-top-color: var(--fill-color);\n",
              "    }\n",
              "    60% {\n",
              "      border-color: transparent;\n",
              "      border-right-color: var(--fill-color);\n",
              "    }\n",
              "    80% {\n",
              "      border-color: transparent;\n",
              "      border-right-color: var(--fill-color);\n",
              "      border-bottom-color: var(--fill-color);\n",
              "    }\n",
              "    90% {\n",
              "      border-color: transparent;\n",
              "      border-bottom-color: var(--fill-color);\n",
              "    }\n",
              "  }\n",
              "</style>\n",
              "\n",
              "  <script>\n",
              "    async function quickchart(key) {\n",
              "      const quickchartButtonEl =\n",
              "        document.querySelector('#' + key + ' button');\n",
              "      quickchartButtonEl.disabled = true;  // To prevent multiple clicks.\n",
              "      quickchartButtonEl.classList.add('colab-df-spinner');\n",
              "      try {\n",
              "        const charts = await google.colab.kernel.invokeFunction(\n",
              "            'suggestCharts', [key], {});\n",
              "      } catch (error) {\n",
              "        console.error('Error during call to suggestCharts:', error);\n",
              "      }\n",
              "      quickchartButtonEl.classList.remove('colab-df-spinner');\n",
              "      quickchartButtonEl.classList.add('colab-df-quickchart-complete');\n",
              "    }\n",
              "    (() => {\n",
              "      let quickchartButtonEl =\n",
              "        document.querySelector('#df-797e56d7-bff5-4cea-bde9-8908a45a54f2 button');\n",
              "      quickchartButtonEl.style.display =\n",
              "        google.colab.kernel.accessAllowed ? 'block' : 'none';\n",
              "    })();\n",
              "  </script>\n",
              "</div>\n",
              "\n",
              "  <div id=\"id_91132e88-cb9c-44ed-92b6-9f03d0574d42\">\n",
              "    <style>\n",
              "      .colab-df-generate {\n",
              "        background-color: #E8F0FE;\n",
              "        border: none;\n",
              "        border-radius: 50%;\n",
              "        cursor: pointer;\n",
              "        display: none;\n",
              "        fill: #1967D2;\n",
              "        height: 32px;\n",
              "        padding: 0 0 0 0;\n",
              "        width: 32px;\n",
              "      }\n",
              "\n",
              "      .colab-df-generate:hover {\n",
              "        background-color: #E2EBFA;\n",
              "        box-shadow: 0px 1px 2px rgba(60, 64, 67, 0.3), 0px 1px 3px 1px rgba(60, 64, 67, 0.15);\n",
              "        fill: #174EA6;\n",
              "      }\n",
              "\n",
              "      [theme=dark] .colab-df-generate {\n",
              "        background-color: #3B4455;\n",
              "        fill: #D2E3FC;\n",
              "      }\n",
              "\n",
              "      [theme=dark] .colab-df-generate:hover {\n",
              "        background-color: #434B5C;\n",
              "        box-shadow: 0px 1px 3px 1px rgba(0, 0, 0, 0.15);\n",
              "        filter: drop-shadow(0px 1px 2px rgba(0, 0, 0, 0.3));\n",
              "        fill: #FFFFFF;\n",
              "      }\n",
              "    </style>\n",
              "    <button class=\"colab-df-generate\" onclick=\"generateWithVariable('x')\"\n",
              "            title=\"Generate code using this dataframe.\"\n",
              "            style=\"display:none;\">\n",
              "\n",
              "  <svg xmlns=\"http://www.w3.org/2000/svg\" height=\"24px\"viewBox=\"0 0 24 24\"\n",
              "       width=\"24px\">\n",
              "    <path d=\"M7,19H8.4L18.45,9,17,7.55,7,17.6ZM5,21V16.75L18.45,3.32a2,2,0,0,1,2.83,0l1.4,1.43a1.91,1.91,0,0,1,.58,1.4,1.91,1.91,0,0,1-.58,1.4L9.25,21ZM18.45,9,17,7.55Zm-12,3A5.31,5.31,0,0,0,4.9,8.1,5.31,5.31,0,0,0,1,6.5,5.31,5.31,0,0,0,4.9,4.9,5.31,5.31,0,0,0,6.5,1,5.31,5.31,0,0,0,8.1,4.9,5.31,5.31,0,0,0,12,6.5,5.46,5.46,0,0,0,6.5,12Z\"/>\n",
              "  </svg>\n",
              "    </button>\n",
              "    <script>\n",
              "      (() => {\n",
              "      const buttonEl =\n",
              "        document.querySelector('#id_91132e88-cb9c-44ed-92b6-9f03d0574d42 button.colab-df-generate');\n",
              "      buttonEl.style.display =\n",
              "        google.colab.kernel.accessAllowed ? 'block' : 'none';\n",
              "\n",
              "      buttonEl.onclick = () => {\n",
              "        google.colab.notebook.generateWithVariable('x');\n",
              "      }\n",
              "      })();\n",
              "    </script>\n",
              "  </div>\n",
              "\n",
              "    </div>\n",
              "  </div>\n"
            ]
          },
          "metadata": {},
          "execution_count": 53
        }
      ]
    },
    {
      "cell_type": "code",
      "source": [
        "import pandas as pd\n",
        "\n",
        "# Supposons que df est votre DataFrame\n",
        "df = pd.DataFrame({'moshakala': ['texte1', 'texte2', 'texte3'],\n",
        "                   'clear': ['clear1', 'clear2', 'clear3']})\n",
        "\n",
        "# Sélectionnez la colonne 'moshakala' comme une liste de chaînes de caractères\n",
        "x = df['moshakala'].astype(str).tolist()\n",
        "\n",
        "# Appliquer les fonctions pour enlever les diacritiques et les symboles non-arabes\n",
        "def remove_diacritics(text):\n",
        "    # Implémentez votre logique pour enlever les diacritiques\n",
        "    pass\n",
        "\n",
        "def remove_non_arabic_symbols(text):\n",
        "    # Implémentez votre logique pour enlever les symboles non-arabes\n",
        "    pass\n",
        "\n",
        "# Appliquer les fonctions à chaque élément de la liste\n",
        "x = [remove_diacritics(text) for text in x]\n",
        "x = [remove_non_arabic_symbols(text) for text in x]\n",
        "\n",
        "# Afficher le résultat\n",
        "print(x)"
      ],
      "metadata": {
        "id": "BYnbrqbBGnlm",
        "outputId": "e3ce4715-dab6-4674-c102-650507e1b256",
        "colab": {
          "base_uri": "https://localhost:8080/"
        }
      },
      "execution_count": 46,
      "outputs": [
        {
          "output_type": "stream",
          "name": "stdout",
          "text": [
            "[None, None, None]\n"
          ]
        }
      ]
    },
    {
      "cell_type": "code",
      "source": [
        "def segmenter_en_lettres(phrase):\n",
        "    voyelles = \"aeiouAEIOU\"  # Liste des voyelles à supprimer\n",
        "    phrase_complete = \" # ا ل ْ و ُ ض ُ و ء ِ # م َ ا # ج َ ا ء َ # ف ِ ي # ا ل ْ و ُ ض ُ و ء ِ # ق َ ا ل َ # س َ ح ْ ن ُ و ن\"\n",
        "    def supprimer_voyelles(mot):\n",
        "        return ''.join(caractere for caractere in mot if caractere not in voyelles)\n",
        "    resultat = supprimer_voyelles(phrase_complete)\n",
        "    print(resultat)"
      ],
      "metadata": {
        "id": "08xcwUhd3seo"
      },
      "execution_count": null,
      "outputs": []
    }
  ]
}