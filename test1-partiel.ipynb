{
  "nbformat": 4,
  "nbformat_minor": 0,
  "metadata": {
    "colab": {
      "provenance": [],
      "authorship_tag": "ABX9TyMeYhELEEF1WeaodNUItDdH",
      "include_colab_link": true
    },
    "kernelspec": {
      "name": "python3",
      "display_name": "Python 3"
    },
    "language_info": {
      "name": "python"
    }
  },
  "cells": [
    {
      "cell_type": "markdown",
      "metadata": {
        "id": "view-in-github",
        "colab_type": "text"
      },
      "source": [
        "<a href=\"https://colab.research.google.com/github/imanuni/linear_data_ecomm/blob/main/test1-partiel.ipynb\" target=\"_parent\"><img src=\"https://colab.research.google.com/assets/colab-badge.svg\" alt=\"Open In Colab\"/></a>"
      ]
    },
    {
      "cell_type": "code",
      "execution_count": 1,
      "metadata": {
        "colab": {
          "base_uri": "https://localhost:8080/"
        },
        "id": "w8npsYAhGFlx",
        "outputId": "32e98993-76bf-48fa-dd6e-827f96372aee"
      },
      "outputs": [
        {
          "output_type": "stream",
          "name": "stdout",
          "text": [
            "Collecting mishkal\n",
            "  Downloading mishkal-0.4.1-py3-none-any.whl (789 kB)\n",
            "\u001b[2K     \u001b[90m━━━━━━━━━━━━━━━━━━━━━━━━━━━━━━━━━━━━━━━━\u001b[0m \u001b[32m789.5/789.5 kB\u001b[0m \u001b[31m6.5 MB/s\u001b[0m eta \u001b[36m0:00:00\u001b[0m\n",
            "\u001b[?25hCollecting alyahmor>=0.1 (from mishkal)\n",
            "  Downloading alyahmor-0.2-py3-none-any.whl (65 kB)\n",
            "\u001b[2K     \u001b[90m━━━━━━━━━━━━━━━━━━━━━━━━━━━━━━━━━━━━━━━━\u001b[0m \u001b[32m65.1/65.1 kB\u001b[0m \u001b[31m5.6 MB/s\u001b[0m eta \u001b[36m0:00:00\u001b[0m\n",
            "\u001b[?25hCollecting arramooz-pysqlite>=0.1 (from mishkal)\n",
            "  Downloading arramooz_pysqlite-0.4.2-py3-none-any.whl (6.3 MB)\n",
            "\u001b[2K     \u001b[90m━━━━━━━━━━━━━━━━━━━━━━━━━━━━━━━━━━━━━━━━\u001b[0m \u001b[32m6.3/6.3 MB\u001b[0m \u001b[31m18.6 MB/s\u001b[0m eta \u001b[36m0:00:00\u001b[0m\n",
            "\u001b[?25hCollecting asmai>=0.1 (from mishkal)\n",
            "  Downloading asmai-0.1-py3-none-any.whl (4.3 MB)\n",
            "\u001b[2K     \u001b[90m━━━━━━━━━━━━━━━━━━━━━━━━━━━━━━━━━━━━━━━━\u001b[0m \u001b[32m4.3/4.3 MB\u001b[0m \u001b[31m34.1 MB/s\u001b[0m eta \u001b[36m0:00:00\u001b[0m\n",
            "\u001b[?25hCollecting libqutrub>=1.0 (from mishkal)\n",
            "  Downloading libqutrub-1.2.4.1-py3-none-any.whl (138 kB)\n",
            "\u001b[2K     \u001b[90m━━━━━━━━━━━━━━━━━━━━━━━━━━━━━━━━━━━━━━━━\u001b[0m \u001b[32m139.0/139.0 kB\u001b[0m \u001b[31m10.5 MB/s\u001b[0m eta \u001b[36m0:00:00\u001b[0m\n",
            "\u001b[?25hCollecting maskouk-pysqlite>=0.1 (from mishkal)\n",
            "  Downloading maskouk_pysqlite-0.1-py3-none-any.whl (6.0 MB)\n",
            "\u001b[2K     \u001b[90m━━━━━━━━━━━━━━━━━━━━━━━━━━━━━━━━━━━━━━━━\u001b[0m \u001b[32m6.0/6.0 MB\u001b[0m \u001b[31m38.7 MB/s\u001b[0m eta \u001b[36m0:00:00\u001b[0m\n",
            "\u001b[?25hCollecting mysam-tagmanager>=0.1 (from mishkal)\n",
            "  Downloading mysam_tagmanager-0.4-py3-none-any.whl (37 kB)\n",
            "Collecting naftawayh>=0.2 (from mishkal)\n",
            "  Downloading Naftawayh-0.4-py3-none-any.whl (332 kB)\n",
            "\u001b[2K     \u001b[90m━━━━━━━━━━━━━━━━━━━━━━━━━━━━━━━━━━━━━━━━\u001b[0m \u001b[32m332.6/332.6 kB\u001b[0m \u001b[31m23.1 MB/s\u001b[0m eta \u001b[36m0:00:00\u001b[0m\n",
            "\u001b[?25hCollecting pickledb>=0.9.0 (from mishkal)\n",
            "  Downloading pickleDB-0.9.2.tar.gz (3.7 kB)\n",
            "  Preparing metadata (setup.py) ... \u001b[?25l\u001b[?25hdone\n",
            "Collecting pyarabic>=0.6.2 (from mishkal)\n",
            "  Downloading PyArabic-0.6.15-py3-none-any.whl (126 kB)\n",
            "\u001b[2K     \u001b[90m━━━━━━━━━━━━━━━━━━━━━━━━━━━━━━━━━━━━━━━━\u001b[0m \u001b[32m126.4/126.4 kB\u001b[0m \u001b[31m11.7 MB/s\u001b[0m eta \u001b[36m0:00:00\u001b[0m\n",
            "\u001b[?25hCollecting qalsadi>=0.2 (from mishkal)\n",
            "  Downloading qalsadi-0.5-py3-none-any.whl (264 kB)\n",
            "\u001b[2K     \u001b[90m━━━━━━━━━━━━━━━━━━━━━━━━━━━━━━━━━━━━━━━━\u001b[0m \u001b[32m264.3/264.3 kB\u001b[0m \u001b[31m21.7 MB/s\u001b[0m eta \u001b[36m0:00:00\u001b[0m\n",
            "\u001b[?25hCollecting sylajone>=0.1 (from mishkal)\n",
            "  Downloading sylajone-0.3.1-py3-none-any.whl (37 kB)\n",
            "Collecting tashaphyne>=0.3.1 (from mishkal)\n",
            "  Downloading Tashaphyne-0.3.6-py3-none-any.whl (251 kB)\n",
            "\u001b[2K     \u001b[90m━━━━━━━━━━━━━━━━━━━━━━━━━━━━━━━━━━━━━━━━\u001b[0m \u001b[32m251.5/251.5 kB\u001b[0m \u001b[31m20.0 MB/s\u001b[0m eta \u001b[36m0:00:00\u001b[0m\n",
            "\u001b[?25hCollecting Arabic-Stopwords>=0.4.2 (from alyahmor>=0.1->mishkal)\n",
            "  Downloading Arabic_Stopwords-0.4.3-py3-none-any.whl (360 kB)\n",
            "\u001b[2K     \u001b[90m━━━━━━━━━━━━━━━━━━━━━━━━━━━━━━━━━━━━━━━━\u001b[0m \u001b[32m360.5/360.5 kB\u001b[0m \u001b[31m25.2 MB/s\u001b[0m eta \u001b[36m0:00:00\u001b[0m\n",
            "\u001b[?25hRequirement already satisfied: six>=1.14.0 in /usr/local/lib/python3.10/dist-packages (from pyarabic>=0.6.2->mishkal) (1.16.0)\n",
            "Collecting codernitydb3 (from qalsadi>=0.2->mishkal)\n",
            "  Downloading codernitydb3-0.6.0.tar.gz (46 kB)\n",
            "\u001b[2K     \u001b[90m━━━━━━━━━━━━━━━━━━━━━━━━━━━━━━━━━━━━━━━━\u001b[0m \u001b[32m46.1/46.1 kB\u001b[0m \u001b[31m4.4 MB/s\u001b[0m eta \u001b[36m0:00:00\u001b[0m\n",
            "\u001b[?25h  Preparing metadata (setup.py) ... \u001b[?25l\u001b[?25hdone\n",
            "Building wheels for collected packages: pickledb, codernitydb3\n",
            "  Building wheel for pickledb (setup.py) ... \u001b[?25l\u001b[?25hdone\n",
            "  Created wheel for pickledb: filename=pickleDB-0.9.2-py3-none-any.whl size=4254 sha256=f6fc9cadbb699bb619e2fe0750851c221cf3edbdfe91cb83a31e0cbad0b38d7e\n",
            "  Stored in directory: /root/.cache/pip/wheels/31/99/ef/8bf37f0157e6423a373297de279351af04ad18c4136c3af121\n",
            "  Building wheel for codernitydb3 (setup.py) ... \u001b[?25l\u001b[?25hdone\n",
            "  Created wheel for codernitydb3: filename=codernitydb3-0.6.0-py3-none-any.whl size=59849 sha256=d99ecb6946b1681acb5826f91d0c18ce9a2f7c3e7b099ac46d68878ce007acab\n",
            "  Stored in directory: /root/.cache/pip/wheels/81/96/96/58346beb99967aa576ad33aa0b75ffd3c7dfa58291bec26d7c\n",
            "Successfully built pickledb codernitydb3\n",
            "Installing collected packages: pickledb, mysam-tagmanager, pyarabic, codernitydb3, tashaphyne, maskouk-pysqlite, libqutrub, asmai, arramooz-pysqlite, Arabic-Stopwords, naftawayh, alyahmor, qalsadi, sylajone, mishkal\n",
            "Successfully installed Arabic-Stopwords-0.4.3 alyahmor-0.2 arramooz-pysqlite-0.4.2 asmai-0.1 codernitydb3-0.6.0 libqutrub-1.2.4.1 maskouk-pysqlite-0.1 mishkal-0.4.1 mysam-tagmanager-0.4 naftawayh-0.4 pickledb-0.9.2 pyarabic-0.6.15 qalsadi-0.5 sylajone-0.3.1 tashaphyne-0.3.6\n"
          ]
        }
      ],
      "source": [
        "!pip install mishkal"
      ]
    },
    {
      "cell_type": "code",
      "source": [
        "import re"
      ],
      "metadata": {
        "id": "qz-jyYzmGpAL"
      },
      "execution_count": 2,
      "outputs": []
    },
    {
      "cell_type": "code",
      "source": [
        "def remove_diacritics(string):\n",
        "    regex = re.compile(r'[\\u064B\\u064C\\u064D\\u064E\\u064F\\u0650\\u0651\\u0652]')\n",
        "    return re.sub(regex, '', string)"
      ],
      "metadata": {
        "id": "AKk-1VonLAFQ"
      },
      "execution_count": 3,
      "outputs": []
    },
    {
      "cell_type": "code",
      "source": [
        "def remove_non_arabic_symbols(string):\n",
        "    return re.sub(r'[^\\u0600-\\u06FF]', ' ', string)"
      ],
      "metadata": {
        "id": "ITr399P9Mw1k"
      },
      "execution_count": 4,
      "outputs": []
    },
    {
      "cell_type": "code",
      "source": [
        "string=\"حَدَّثَنِي يَحْيَى، عَنْ مَالِكٍ، عَنْ عَمْرِو بْنِ يَحْيَى الْمَازِنِيِّ، عَنْ أَبِيهِ أَنَّهُ قَالَ لِعَبْدِ اللَّهِ بْنِ زَيْدِ بْنِ عَاصِمٍ - وَهُوَ جَدُّ عَمْرِو بْنِ يَحْيَى الْمَازِنِيِّ وَكَانَ مِنْ أَصْحَابِ رَسُولِ اللَّهِ (ﷺ) - : هَلْ تَسْتَطِيعُ أَنْ تُرِيَنِي كَيْفَ كَانَ رَسُولُ اللَّهِ (ﷺ) يَتَوَضَّأُ ؟ فَقَالَ عَبْدُ اللَّهِ بْنُ زَيْدِ بْنِ عَاصِمٍ : نَعَمْ، فَدَعَا بِوَضُوءٍ، فَأَفْرَغَ عَلَى يَدِه.\"\n",
        "string = remove_diacritics(string)\n",
        "string = remove_non_arabic_symbols(string)\n",
        "print(\"Après: \",string)"
      ],
      "metadata": {
        "colab": {
          "base_uri": "https://localhost:8080/"
        },
        "id": "a2mqhBLeLKRU",
        "outputId": "ddebb1ad-f645-4d91-b0db-900dc0dd838f"
      },
      "execution_count": 5,
      "outputs": [
        {
          "output_type": "stream",
          "name": "stdout",
          "text": [
            "Après:  حدثني يحيى، عن مالك، عن عمرو بن يحيى المازني، عن أبيه أنه قال لعبد الله بن زيد بن عاصم   وهو جد عمرو بن يحيى المازني وكان من أصحاب رسول الله         هل تستطيع أن تريني كيف كان رسول الله     يتوضأ ؟ فقال عبد الله بن زيد بن عاصم   نعم، فدعا بوضوء، فأفرغ على يده \n"
          ]
        }
      ]
    },
    {
      "cell_type": "code",
      "source": [
        "def remove_extra_whitespace(string):\n",
        "    string = re.sub(r'\\s+', ' ', string)\n",
        "    return re.sub(r\"\\s{2,}\", \" \", string).strip()\n",
        "word=\"حدثني يحيى، عن مالك، عن عمرو بن يحيى المازني، عن أبيه أنه قال لعبد الله بن زيد بن عاصم   وهو جد عمرو بن يحيى المازني وكان من أصحاب رسول الله         هل تستطيع أن تريني كيف كان رسول الله     يتوضأ ؟ فقال عبد الله بن زيد بن عاصم   نعم، فدعا بوضوء، فأفرغ على يده \"\n",
        "string=word\n",
        "string = remove_extra_whitespace(string)\n",
        "print(\"Après: \",string)\n"
      ],
      "metadata": {
        "colab": {
          "base_uri": "https://localhost:8080/"
        },
        "id": "syAu7uRil6Iv",
        "outputId": "705deaa9-9069-4d2f-8635-4e6909399812"
      },
      "execution_count": 6,
      "outputs": [
        {
          "output_type": "stream",
          "name": "stdout",
          "text": [
            "Après:  حدثني يحيى، عن مالك، عن عمرو بن يحيى المازني، عن أبيه أنه قال لعبد الله بن زيد بن عاصم وهو جد عمرو بن يحيى المازني وكان من أصحاب رسول الله هل تستطيع أن تريني كيف كان رسول الله يتوضأ ؟ فقال عبد الله بن زيد بن عاصم نعم، فدعا بوضوء، فأفرغ على يده\n"
          ]
        }
      ]
    },
    {
      "cell_type": "code",
      "source": [
        "import mishkal.tashkeel\n",
        "vocalizer = mishkal.tashkeel.TashkeelClass()\n",
        "text = u\" حدثني يحيى، عن مالك، عن عمرو بن يحيى المازني، عن أبيه أنه قال لعبد الله بن زيد بن عاصم   وهو جد عمرو بن يحيى المازني وكان من أصحاب رسول الله         هل تستطيع أن تريني كيف كان رسول الله     يتوضأ ؟ فقال عبد الله بن زيد بن عاصم   نعم، فدعا بوضوء، فأفرغ على يده ا\"\n",
        "vocalizer.tashkeel(text)"
      ],
      "metadata": {
        "colab": {
          "base_uri": "https://localhost:8080/",
          "height": 35
        },
        "id": "BH9gwMuhMQ6a",
        "outputId": "1edc504b-a83b-4a22-a770-0d9af3662a19"
      },
      "execution_count": 7,
      "outputs": [
        {
          "output_type": "execute_result",
          "data": {
            "text/plain": [
              "' حَدَّثَنِي يَحْيَى ، عَن مَالِكٍ ، عَن عَمْروِ بْنِ يَحْيَى الْمَازِنِيِّ ، عَن أَبِيهِ أَنّهُ قَالَ لِعَبْدُ اللهِ بْن زِيدَ بْنِ عَاصِمٌ وهُو جِدْ عَمْروَ بْن يَحْيَى الْمَازِنِيِّ وكَان مِن أَصْحَابِ رَسُولِ اللهِ هَل تَسْتَطِيعُ أَن تَرِينِي كَيْف كَان رَسُولِ اللهِ يَتَوَضَّأُ ؟ فَقَالَ عَبْدُ اللهِ بْن زِيدَ بْنِ عَاصِمٌ نَعَم ، فَدَعَا بِوَضُوءٍ ، فَأَفْرَغَ عَلَى يَدِهِ َا'"
            ],
            "application/vnd.google.colaboratory.intrinsic+json": {
              "type": "string"
            }
          },
          "metadata": {},
          "execution_count": 7
        }
      ]
    },
    {
      "cell_type": "code",
      "source": [
        "import pandas as pd"
      ],
      "metadata": {
        "id": "5cp3uaCCaA5U"
      },
      "execution_count": 8,
      "outputs": []
    },
    {
      "cell_type": "code",
      "source": [
        "!pip install python-docx"
      ],
      "metadata": {
        "colab": {
          "base_uri": "https://localhost:8080/"
        },
        "id": "o21FNp-3V_wq",
        "outputId": "a88a1799-ef17-4867-97af-e38834ddbe6c"
      },
      "execution_count": 9,
      "outputs": [
        {
          "output_type": "stream",
          "name": "stdout",
          "text": [
            "Collecting python-docx\n",
            "  Downloading python_docx-1.1.0-py3-none-any.whl (239 kB)\n",
            "\u001b[?25l     \u001b[90m━━━━━━━━━━━━━━━━━━━━━━━━━━━━━━━━━━━━━━━━\u001b[0m \u001b[32m0.0/239.6 kB\u001b[0m \u001b[31m?\u001b[0m eta \u001b[36m-:--:--\u001b[0m\r\u001b[2K     \u001b[91m━━━━━━━━━━━━━\u001b[0m\u001b[91m╸\u001b[0m\u001b[90m━━━━━━━━━━━━━━━━━━━━━━━━━━\u001b[0m \u001b[32m81.9/239.6 kB\u001b[0m \u001b[31m2.5 MB/s\u001b[0m eta \u001b[36m0:00:01\u001b[0m\r\u001b[2K     \u001b[90m━━━━━━━━━━━━━━━━━━━━━━━━━━━━━━━━━━━━━━━━\u001b[0m \u001b[32m239.6/239.6 kB\u001b[0m \u001b[31m3.8 MB/s\u001b[0m eta \u001b[36m0:00:00\u001b[0m\n",
            "\u001b[?25hRequirement already satisfied: lxml>=3.1.0 in /usr/local/lib/python3.10/dist-packages (from python-docx) (4.9.3)\n",
            "Requirement already satisfied: typing-extensions in /usr/local/lib/python3.10/dist-packages (from python-docx) (4.5.0)\n",
            "Installing collected packages: python-docx\n",
            "Successfully installed python-docx-1.1.0\n"
          ]
        }
      ]
    },
    {
      "cell_type": "code",
      "source": [
        "from google.colab import files\n",
        "from docx import Document\n",
        "import io\n",
        "\n",
        "# Charger le fichier Word téléchargé\n",
        "uploaded = files.upload()\n",
        "\n",
        "# Obtenir la liste des noms de fichiers téléchargés\n",
        "uploaded_filenames = list(uploaded.keys())\n",
        "\n",
        "# Imprimer la liste des noms de fichiers\n",
        "print(uploaded_filenames)\n",
        "\n",
        "# Charger le contenu du fichier Word\n",
        "uploaded_docx_content = uploaded[uploaded_filenames[0]]\n",
        "\n",
        "# Créer un objet Document à partir du contenu du fichier Word\n",
        "doc = Document(io.BytesIO(uploaded_docx_content))\n",
        "\n",
        "for paragraph in doc.paragraphs:\n",
        "    print(paragraph.text)"
      ],
      "metadata": {
        "colab": {
          "base_uri": "https://localhost:8080/",
          "height": 212
        },
        "id": "P31U8LTdMllm",
        "outputId": "7fe730c5-f6f2-4c10-ed53-247102b97db7"
      },
      "execution_count": 10,
      "outputs": [
        {
          "output_type": "display_data",
          "data": {
            "text/plain": [
              "<IPython.core.display.HTML object>"
            ],
            "text/html": [
              "\n",
              "     <input type=\"file\" id=\"files-0cf60697-4ed7-4b90-aa8e-44d09072837d\" name=\"files[]\" multiple disabled\n",
              "        style=\"border:none\" />\n",
              "     <output id=\"result-0cf60697-4ed7-4b90-aa8e-44d09072837d\">\n",
              "      Upload widget is only available when the cell has been executed in the\n",
              "      current browser session. Please rerun this cell to enable.\n",
              "      </output>\n",
              "      <script>// Copyright 2017 Google LLC\n",
              "//\n",
              "// Licensed under the Apache License, Version 2.0 (the \"License\");\n",
              "// you may not use this file except in compliance with the License.\n",
              "// You may obtain a copy of the License at\n",
              "//\n",
              "//      http://www.apache.org/licenses/LICENSE-2.0\n",
              "//\n",
              "// Unless required by applicable law or agreed to in writing, software\n",
              "// distributed under the License is distributed on an \"AS IS\" BASIS,\n",
              "// WITHOUT WARRANTIES OR CONDITIONS OF ANY KIND, either express or implied.\n",
              "// See the License for the specific language governing permissions and\n",
              "// limitations under the License.\n",
              "\n",
              "/**\n",
              " * @fileoverview Helpers for google.colab Python module.\n",
              " */\n",
              "(function(scope) {\n",
              "function span(text, styleAttributes = {}) {\n",
              "  const element = document.createElement('span');\n",
              "  element.textContent = text;\n",
              "  for (const key of Object.keys(styleAttributes)) {\n",
              "    element.style[key] = styleAttributes[key];\n",
              "  }\n",
              "  return element;\n",
              "}\n",
              "\n",
              "// Max number of bytes which will be uploaded at a time.\n",
              "const MAX_PAYLOAD_SIZE = 100 * 1024;\n",
              "\n",
              "function _uploadFiles(inputId, outputId) {\n",
              "  const steps = uploadFilesStep(inputId, outputId);\n",
              "  const outputElement = document.getElementById(outputId);\n",
              "  // Cache steps on the outputElement to make it available for the next call\n",
              "  // to uploadFilesContinue from Python.\n",
              "  outputElement.steps = steps;\n",
              "\n",
              "  return _uploadFilesContinue(outputId);\n",
              "}\n",
              "\n",
              "// This is roughly an async generator (not supported in the browser yet),\n",
              "// where there are multiple asynchronous steps and the Python side is going\n",
              "// to poll for completion of each step.\n",
              "// This uses a Promise to block the python side on completion of each step,\n",
              "// then passes the result of the previous step as the input to the next step.\n",
              "function _uploadFilesContinue(outputId) {\n",
              "  const outputElement = document.getElementById(outputId);\n",
              "  const steps = outputElement.steps;\n",
              "\n",
              "  const next = steps.next(outputElement.lastPromiseValue);\n",
              "  return Promise.resolve(next.value.promise).then((value) => {\n",
              "    // Cache the last promise value to make it available to the next\n",
              "    // step of the generator.\n",
              "    outputElement.lastPromiseValue = value;\n",
              "    return next.value.response;\n",
              "  });\n",
              "}\n",
              "\n",
              "/**\n",
              " * Generator function which is called between each async step of the upload\n",
              " * process.\n",
              " * @param {string} inputId Element ID of the input file picker element.\n",
              " * @param {string} outputId Element ID of the output display.\n",
              " * @return {!Iterable<!Object>} Iterable of next steps.\n",
              " */\n",
              "function* uploadFilesStep(inputId, outputId) {\n",
              "  const inputElement = document.getElementById(inputId);\n",
              "  inputElement.disabled = false;\n",
              "\n",
              "  const outputElement = document.getElementById(outputId);\n",
              "  outputElement.innerHTML = '';\n",
              "\n",
              "  const pickedPromise = new Promise((resolve) => {\n",
              "    inputElement.addEventListener('change', (e) => {\n",
              "      resolve(e.target.files);\n",
              "    });\n",
              "  });\n",
              "\n",
              "  const cancel = document.createElement('button');\n",
              "  inputElement.parentElement.appendChild(cancel);\n",
              "  cancel.textContent = 'Cancel upload';\n",
              "  const cancelPromise = new Promise((resolve) => {\n",
              "    cancel.onclick = () => {\n",
              "      resolve(null);\n",
              "    };\n",
              "  });\n",
              "\n",
              "  // Wait for the user to pick the files.\n",
              "  const files = yield {\n",
              "    promise: Promise.race([pickedPromise, cancelPromise]),\n",
              "    response: {\n",
              "      action: 'starting',\n",
              "    }\n",
              "  };\n",
              "\n",
              "  cancel.remove();\n",
              "\n",
              "  // Disable the input element since further picks are not allowed.\n",
              "  inputElement.disabled = true;\n",
              "\n",
              "  if (!files) {\n",
              "    return {\n",
              "      response: {\n",
              "        action: 'complete',\n",
              "      }\n",
              "    };\n",
              "  }\n",
              "\n",
              "  for (const file of files) {\n",
              "    const li = document.createElement('li');\n",
              "    li.append(span(file.name, {fontWeight: 'bold'}));\n",
              "    li.append(span(\n",
              "        `(${file.type || 'n/a'}) - ${file.size} bytes, ` +\n",
              "        `last modified: ${\n",
              "            file.lastModifiedDate ? file.lastModifiedDate.toLocaleDateString() :\n",
              "                                    'n/a'} - `));\n",
              "    const percent = span('0% done');\n",
              "    li.appendChild(percent);\n",
              "\n",
              "    outputElement.appendChild(li);\n",
              "\n",
              "    const fileDataPromise = new Promise((resolve) => {\n",
              "      const reader = new FileReader();\n",
              "      reader.onload = (e) => {\n",
              "        resolve(e.target.result);\n",
              "      };\n",
              "      reader.readAsArrayBuffer(file);\n",
              "    });\n",
              "    // Wait for the data to be ready.\n",
              "    let fileData = yield {\n",
              "      promise: fileDataPromise,\n",
              "      response: {\n",
              "        action: 'continue',\n",
              "      }\n",
              "    };\n",
              "\n",
              "    // Use a chunked sending to avoid message size limits. See b/62115660.\n",
              "    let position = 0;\n",
              "    do {\n",
              "      const length = Math.min(fileData.byteLength - position, MAX_PAYLOAD_SIZE);\n",
              "      const chunk = new Uint8Array(fileData, position, length);\n",
              "      position += length;\n",
              "\n",
              "      const base64 = btoa(String.fromCharCode.apply(null, chunk));\n",
              "      yield {\n",
              "        response: {\n",
              "          action: 'append',\n",
              "          file: file.name,\n",
              "          data: base64,\n",
              "        },\n",
              "      };\n",
              "\n",
              "      let percentDone = fileData.byteLength === 0 ?\n",
              "          100 :\n",
              "          Math.round((position / fileData.byteLength) * 100);\n",
              "      percent.textContent = `${percentDone}% done`;\n",
              "\n",
              "    } while (position < fileData.byteLength);\n",
              "  }\n",
              "\n",
              "  // All done.\n",
              "  yield {\n",
              "    response: {\n",
              "      action: 'complete',\n",
              "    }\n",
              "  };\n",
              "}\n",
              "\n",
              "scope.google = scope.google || {};\n",
              "scope.google.colab = scope.google.colab || {};\n",
              "scope.google.colab._files = {\n",
              "  _uploadFiles,\n",
              "  _uploadFilesContinue,\n",
              "};\n",
              "})(self);\n",
              "</script> "
            ]
          },
          "metadata": {}
        },
        {
          "output_type": "stream",
          "name": "stdout",
          "text": [
            "Saving texte-tash.docx.docx to texte-tash.docx.docx\n",
            "['texte-tash.docx.docx']\n",
            "حَدَّثَنِي يَحْيَى، عَنْ مَالِكٍ، عَنْ عَمْرِو بْنِ يَحْيَى الْمَازِنِيِّ، عَنْ أَبِيهِ أَنَّهُ قَالَ لِعَبْدِ اللَّهِ بْنِ زَيْدِ بْنِ عَاصِمٍ - وَهُوَ جَدُّ عَمْرِو بْنِ يَحْيَى الْمَازِنِيِّ وَكَانَ مِنْ أَصْحَابِ رَسُولِ اللَّهِ (ﷺ) - : هَلْ تَسْتَطِيعُ أَنْ تُرِيَنِي كَيْفَ كَانَ رَسُولُ اللَّهِ (ﷺ) يَتَوَضَّأُ ؟ فَقَالَ عَبْدُ اللَّهِ بْنُ زَيْدِ بْنِ عَاصِمٍ : نَعَمْ، فَدَعَا بِوَضُوءٍ، فَأَفْرَغَ عَلَى يَدِه.\n",
            "\n",
            "خلالُ السّنتين الْمَاضِيَتَيْنِ اِضْطَرَرْتُ لِإضافَةِ عدّة أَشْيَاءَ في غرفَتي حتّى أَصْبَحَتْ الْغرفَةُ لا تُطَاقُ ولا أعْرَفَ ما الذي عليّ فِعْلَهُ.\n",
            "خلالَ السنتين الْمَاضِيَتَيْن اِضْطَرَرتُ لإضافَةِ عدّة أَشْيَاءَ في غُرفَتي حتّى أَصْبَحَتْ الْغرفَةُ لا تُطَاقُ ولا أعْرَفَ ما الذي علي فِعْلَهُ.\n",
            " وكلما حَاوَلَتْ تَنْظِيمُ ما لديّ توّقفت عن فعل ذلك وَتَرِكَتَهَا كما هي. الْأَوْرَاقَ بالتّحديد هي ما اِزْدَادَ لديّ وأنا مضطرّ لِلْاِحْتِفَاظِ بها فهي وثائقَ رسميّة مهمّة لكنّني أَخْطَأَتْ بِعَدَمِ تَنْظِيمِ هذهِ الْأوراقِ وَالْكتبِ خَارِجَ نِطَاقِ السَّيْطَرَةِ .\n",
            "وكلما حَاولت تَنْظيم ما لدي  توّقفت عن فعل ذلك وترِكتها كما هي. الْأوراق بالتحديد هي ما ازداد لديّ وأنا مضطرّ للْاِحتِفَاظ بها فهي وثائق رسمية مهمة لكنّني أَخْطَأَت بعدم تَنظيم هذهِ الْأوراق وَالْكتب خَارِج نِطَاق السَّيطَرَةِ .\n",
            "وَلَدَي عُدَدَ كَبِيرِ من المجّلات لم أُقْرَأْهَا وهناك أَشْيَاءَ مُبَعْثَرَةٍ هنا وهناك حالَةَ الْفَوْضًىِ في غرفَتي أثّرت عليّ بأن جعلتني لا أعْرَفَ أين أَبَدْءُ وماذا عليّ أن أَفعلَ.\n"
          ]
        }
      ]
    },
    {
      "cell_type": "code",
      "source": [
        " #قياس التماثل في الحركات\n",
        "from pyarabic import araby\n",
        "word3 =u\" وكلما حَاوَلَتْ تَنْظِيمُ ما لديّ توّقفت عن فعل ذلك وَتَرِكَتَهَا كما هي. الْأَوْرَاقَ بالتّحديد هي ما اِزْدَادَ لديّ وأنا مضطرّ لِلْاِحْتِفَاظِ بها فهي وثائقَ رسميّة مهمّة لكنّني أَخْطَأَتْ بِعَدَمِ تَنْظِيمِ هذهِ الْأوراقِ وَالْكتبِ خَارِجَ نِطَاقِ السَّيْطَرَةِ\"\n",
        "word4 = u\"وكلما حَاولت تَنْظيم ما لدي  توّقفت عن فعل ذلك وترِكتها كما هي. الْأوراق بالتحديد هي ما ازداد لديّ وأنا مضطرّ للْاِحتِفَاظ بها فهي وثائق رسمية مهمة لكنّني أَخْطَأَت بعدم تَنظيم هذهِ الْأوراق وَالْكتب خَارِج نِطَاق السَّيطَرَةِ\"\n",
        "araby.vocalizedlike(word3, word4)\n",
        "word3 = u\" وكلما حَاوَلَتْ تَنْظِيمُ ما لديّ توّقفت عن فعل ذلك وَتَرِكَتَهَا كما هي. الْأَوْرَاقَ بالتّحديد هي ما اِزْدَادَ لديّ وأنا مضطرّ لِلْاِحْتِفَاظِ بها فهي وثائقَ رسميّة مهمّة لكنّني أَخْطَأَتْ بِعَدَمِ تَنْظِيمِ هذهِ الْأوراقِ وَالْكتبِ خَارِجَ نِطَاقِ السَّيْطَرَةِ\"\n",
        "word4 = u\"وكلما حَاولت تَنْظيم ما لدي  توّقفت عن فعل ذلك وترِكتها كما هي. الْأوراق بالتحديد هي ما ازداد لديّ وأنا مضطرّ للْاِحتِفَاظ بها فهي وثائق رسمية مهمة لكنّني أَخْطَأَت بعدم تَنظيم هذهِ الْأوراق وَالْكتب خَارِج نِطَاق السَّيطَرَةِ\"\n",
        "araby.vocalized_similarity(word3, word4)\n"
      ],
      "metadata": {
        "colab": {
          "base_uri": "https://localhost:8080/"
        },
        "id": "UDpNagmjhLcd",
        "outputId": "54616008-e46d-458d-d00d-b86020c1e5da"
      },
      "execution_count": 11,
      "outputs": [
        {
          "output_type": "execute_result",
          "data": {
            "text/plain": [
              "-26"
            ]
          },
          "metadata": {},
          "execution_count": 11
        }
      ]
    },
    {
      "cell_type": "code",
      "source": [
        "from pyarabic import araby\n",
        "text = u\"خارج نِطَاق السَّيطَرَةِ\"\"أَخْطَأَتْ بِعَدَمِ تَنْظِيمِ هذهِ الْأوراقِكلما حَاوَلَتْ تَنْظِيمُ ما لديّ\"\n",
        "tokens = araby.tokenize(text)\n",
        "print(u\"\\n\".join(tokens))\n"
      ],
      "metadata": {
        "colab": {
          "base_uri": "https://localhost:8080/"
        },
        "id": "eINtyzlwATTJ",
        "outputId": "51407f22-baa0-4e0f-da46-523c3d735ac1"
      },
      "execution_count": 12,
      "outputs": [
        {
          "output_type": "stream",
          "name": "stdout",
          "text": [
            "خارج\n",
            "نِطَاق\n",
            "السَّيطَرَةِأَخْطَأَتْ\n",
            "بِعَدَمِ\n",
            "تَنْظِيمِ\n",
            "هذهِ\n",
            "الْأوراقِكلما\n",
            "حَاوَلَتْ\n",
            "تَنْظِيمُ\n",
            "ما\n",
            "لديّ\n"
          ]
        }
      ]
    },
    {
      "cell_type": "code",
      "source": [
        "from pyarabic import araby\n",
        "text= \"خارج نِطَاق السَّيطَرَةِأَخْطَأَتْ بِعَدَمِ تَنْظِيمِ هذهِ الْأوراقِكلما حَاوَلَتْ تَنْظِيمُ ما لديّ\"\n",
        "araby.separate(text)"
      ],
      "metadata": {
        "colab": {
          "base_uri": "https://localhost:8080/"
        },
        "id": "WAxGbExkqw0d",
        "outputId": "a327bb25-9a17-4969-ad1f-c1267bb7b417"
      },
      "execution_count": 13,
      "outputs": [
        {
          "output_type": "execute_result",
          "data": {
            "text/plain": [
              "('خارج نطاق السّيطرةأخطأت بعدم تنظيم هذه الأوراقكلما حاولت تنظيم ما لديّ',\n",
              " 'ـــــَِـــــَْـَََََِْْـََِِـَِْـِـــِــْــــِـــــَـََْـَِْـُــــــْـ')"
            ]
          },
          "metadata": {},
          "execution_count": 13
        }
      ]
    },
    {
      "cell_type": "code",
      "source": [
        "import pyarabic.trans\n",
        "word1 = u\"خارج نِطَاق السَّيطَرَةِأَخْطَأَتْ بِعَدَمِ تَنْظِيمِ هذهِ الْأوراقِكلما حَاوَلَتْ تَنْظِيمُ ما لديّ\"\n",
        "pyarabic.trans.encode_tashkeel(word1)"
      ],
      "metadata": {
        "colab": {
          "base_uri": "https://localhost:8080/"
        },
        "id": "s2-4T9Fgrs_P",
        "outputId": "a7f2372e-6787-4604-8f6b-5a652e2ad425"
      },
      "execution_count": 14,
      "outputs": [
        {
          "output_type": "execute_result",
          "data": {
            "text/plain": [
              "('خارج نطاق السّيطرةأخطأت بعدم تنظيم هذه الأوراقكلما حاولت تنظيم ما لديّ',\n",
              " '00000ia00000oa0aaiaoaao0iaai0aoi0i000i00o0000i00000a0aao0aoi0u000000o0')"
            ]
          },
          "metadata": {},
          "execution_count": 14
        }
      ]
    },
    {
      "cell_type": "code",
      "source": [
        "pyarabic.trans.encode_tashkeel(word1, \"decimal\")"
      ],
      "metadata": {
        "colab": {
          "base_uri": "https://localhost:8080/"
        },
        "id": "N2zgTDpQr9sg",
        "outputId": "7ba35c63-d4a6-46f4-a24b-98fe4a096424"
      },
      "execution_count": 15,
      "outputs": [
        {
          "output_type": "execute_result",
          "data": {
            "text/plain": [
              "('خارج نطاق السّيطرةأخطأت بعدم تنظيم هذه الأوراقكلما حاولت تنظيم ما لديّ',\n",
              " 64000007404464744706446047606000600700006000004044704760500000070)"
            ]
          },
          "metadata": {},
          "execution_count": 15
        }
      ]
    },
    {
      "cell_type": "code",
      "source": [
        "from pyarabic import araby\n",
        "\n",
        "# Définir les paires de mots\n",
        "pairs_of_words = [\n",
        "    (u\" خَارِجَ نِطَاقِ السَّيْطَرَةِ\",\n",
        "     u\" خَارِج نِطَاق السَّيطَرَةِ\"),(u\"أَخْطَأَتْ بِعَدَمِ تَنْظِيمِ\",u\"أَخْطَأَت بعدم تَنظيم\"),(u\"كلما حَاوَلَتْ تَنْظِيمُ ما لديّ توّقفت\",u\"كلما حَاولت تَنْظيم ما لدي  توّقفت\")\n",
        "    # Ajoutez d'autres paires de mots au besoin\n",
        "]\n",
        "\n",
        "# Stocker les résultats dans une liste ou un dictionnaire\n",
        "results = []\n",
        "\n",
        "# Mesurer la similarité vocalisée pour chaque paire\n",
        "for word1, word2 in pairs_of_words:\n",
        "    similarity = araby.vocalized_similarity(word1, word2)\n",
        "    results.append({'word1': word1, 'word2': word2, 'similarity': similarity})\n",
        "\n",
        "# Imprimer les résultats\n",
        "for result in results:\n",
        "    print(result)"
      ],
      "metadata": {
        "colab": {
          "base_uri": "https://localhost:8080/"
        },
        "id": "W1z6ndoQrOXs",
        "outputId": "f2456dc1-36b2-4a39-a1f2-24fb8a595597"
      },
      "execution_count": 16,
      "outputs": [
        {
          "output_type": "stream",
          "name": "stdout",
          "text": [
            "{'word1': ' خَارِجَ نِطَاقِ السَّيْطَرَةِ', 'word2': ' خَارِج نِطَاق السَّيطَرَةِ', 'similarity': True}\n",
            "{'word1': 'أَخْطَأَتْ بِعَدَمِ تَنْظِيمِ', 'word2': 'أَخْطَأَت بعدم تَنظيم', 'similarity': True}\n",
            "{'word1': 'كلما حَاوَلَتْ تَنْظِيمُ ما لديّ توّقفت', 'word2': 'كلما حَاولت تَنْظيم ما لدي  توّقفت', 'similarity': -24}\n"
          ]
        }
      ]
    },
    {
      "cell_type": "code",
      "source": [
        "from pyarabic import araby\n",
        "text= u\"خلالُ السّنتين الْمَاضِيَتَيْنِ اِضْطَرَرْتُ لِإضافَةِ عدّة أَشْيَاءَ في غرفَتي \"\"حتّى أَصْبَحَتْ الْغرفَةُ لا تُطَاقُ ولا أعْرَفَ ما الذي عليّ فِعْلَهُ\"\"وكلما حَاوَلَتْ تَنْظِيمُ ما لديّ توّقفت    عن فعل ذلك:  وَتَرِكَتَهَا كما هي. \"\"الْأَوْرَاقَ بالتّحديد هي ما اِزْدَادَ لديّ وأنا مضطرّ لِلْاِحْتِفَاظِ بها فهي وثائقَ رسميّة مهمّة لكنّني ،    أَخْطَأَتْ بِعَدَمِ تَنْظِيمِ هذهِ الْأوراقِ وَالْكتبِ خَارِجَ نِطَاقِ السَّيْطَرَةِ .\"\"وَلَدَي عُدَدَ كَبِيرِ من المجّلات لم أُقْرَأْهَا وهناك أَشْيَاءَ مُبَعْثَرَةٍ هنا وهناك حالَةَ الْفَوْضًىِ في غرفَتي أثّرت عليّ بأن جعلتني لا أعْرَفَ أين أَبَدْءُ وماذا عليّ أن أَفعلَ\"\n",
        "tokens = araby.tokenize(text)\n",
        "print(u\"\\n\".join(tokens))"
      ],
      "metadata": {
        "colab": {
          "base_uri": "https://localhost:8080/"
        },
        "id": "no2E6bSVPHHU",
        "outputId": "6c4776f6-f8dc-46bd-d55d-d43fb0acc447"
      },
      "execution_count": 17,
      "outputs": [
        {
          "output_type": "stream",
          "name": "stdout",
          "text": [
            "خلالُ\n",
            "السّنتين\n",
            "الْمَاضِيَتَيْنِ\n",
            "اِضْطَرَرْتُ\n",
            "لِإضافَةِ\n",
            "عدّة\n",
            "أَشْيَاءَ\n",
            "في\n",
            "غرفَتي\n",
            "حتّى\n",
            "أَصْبَحَتْ\n",
            "الْغرفَةُ\n",
            "لا\n",
            "تُطَاقُ\n",
            "ولا\n",
            "أعْرَفَ\n",
            "ما\n",
            "الذي\n",
            "عليّ\n",
            "فِعْلَهُوكلما\n",
            "حَاوَلَتْ\n",
            "تَنْظِيمُ\n",
            "ما\n",
            "لديّ\n",
            "توّقفت\n",
            "عن\n",
            "فعل\n",
            "ذلك\n",
            ":\n",
            "وَتَرِكَتَهَا\n",
            "كما\n",
            "هي\n",
            ".\n",
            "الْأَوْرَاقَ\n",
            "بالتّحديد\n",
            "هي\n",
            "ما\n",
            "اِزْدَادَ\n",
            "لديّ\n",
            "وأنا\n",
            "مضطرّ\n",
            "لِلْاِحْتِفَاظِ\n",
            "بها\n",
            "فهي\n",
            "وثائقَ\n",
            "رسميّة\n",
            "مهمّة\n",
            "لكنّني\n",
            "،\n",
            "أَخْطَأَتْ\n",
            "بِعَدَمِ\n",
            "تَنْظِيمِ\n",
            "هذهِ\n",
            "الْأوراقِ\n",
            "وَالْكتبِ\n",
            "خَارِجَ\n",
            "نِطَاقِ\n",
            "السَّيْطَرَةِ\n",
            ".\n",
            "وَلَدَي\n",
            "عُدَدَ\n",
            "كَبِيرِ\n",
            "من\n",
            "المجّلات\n",
            "لم\n",
            "أُقْرَأْهَا\n",
            "وهناك\n",
            "أَشْيَاءَ\n",
            "مُبَعْثَرَةٍ\n",
            "هنا\n",
            "وهناك\n",
            "حالَةَ\n",
            "الْفَوْضًىِ\n",
            "في\n",
            "غرفَتي\n",
            "أثّرت\n",
            "عليّ\n",
            "بأن\n",
            "جعلتني\n",
            "لا\n",
            "أعْرَفَ\n",
            "أين\n",
            "أَبَدْءُ\n",
            "وماذا\n",
            "عليّ\n",
            "أن\n",
            "أَفعلَ\n"
          ]
        }
      ]
    },
    {
      "cell_type": "code",
      "source": [
        "def remove_non_arabic_symbols(string):\n",
        "    return re.sub(r'[^\\u0600-\\u06FF]', ' ', string)"
      ],
      "metadata": {
        "id": "MROLzvnBRCSX"
      },
      "execution_count": 18,
      "outputs": []
    },
    {
      "cell_type": "code",
      "source": [
        "def remove_extra_whitespace(string):\n",
        "    string1 = re.sub(r'\\s+', ' ', string)\n",
        "    return re.sub(r\"\\s{2,}\", \" \", string).strip()"
      ],
      "metadata": {
        "id": "FmYhkiWCReiS"
      },
      "execution_count": 19,
      "outputs": []
    },
    {
      "cell_type": "code",
      "source": [
        "string1= u\"خلالُ السّنتين الْمَاضِيَتَيْنِ اِضْطَرَرْتُ لِإضافَةِ عدّة أَشْيَاءَ في غرفَتي \"\"حتّى أَصْبَحَتْ الْغرفَةُ لا تُطَاقُ ولا أعْرَفَ ما الذي عليّ فِعْلَهُ\"\"وكلما حَاوَلَتْ تَنْظِيمُ ما لديّ توّقفت    عن فعل ذلك:  وَتَرِكَتَهَا كما هي. الْأَوْرَاقَ بالتّحديد هي ما اِزْدَادَ لديّ وأنا مضطرّ لِلْاِحْتِفَاظِ بها فهي وثائقَ رسميّة مهمّة لكنّني ،    أَخْطَأَتْ بِعَدَمِ تَنْظِيمِ هذهِ الْأوراقِ وَالْكتبِ خَارِجَ نِطَاقِ السَّيْطَرَةِ وَلَدَي عُدَدَ كَبِيرِ من المجّلات لم أُقْرَأْهَا وهناك أَشْيَاءَ مُبَعْثَرَةٍ هنا وهناك حالَةَ الْفَوْضًىِ في غرفَتي أثّرت عليّ بأن جعلتني لا أعْرَفَ أين أَبَدْءُ وماذا عليّ أن أَفع.\"\n",
        "string1 = remove_non_arabic_symbols(string1)\n",
        "string1 = remove_extra_whitespace(string1)\n",
        "print(\"Après: \",string1)\n",
        "string2=string1"
      ],
      "metadata": {
        "colab": {
          "base_uri": "https://localhost:8080/"
        },
        "id": "eAaJYtQ2MQZx",
        "outputId": "1d8d199a-2421-40d3-bb78-1562028068ee"
      },
      "execution_count": 20,
      "outputs": [
        {
          "output_type": "stream",
          "name": "stdout",
          "text": [
            "Après:  خلالُ السّنتين الْمَاضِيَتَيْنِ اِضْطَرَرْتُ لِإضافَةِ عدّة أَشْيَاءَ في غرفَتي حتّى أَصْبَحَتْ الْغرفَةُ لا تُطَاقُ ولا أعْرَفَ ما الذي عليّ فِعْلَهُوكلما حَاوَلَتْ تَنْظِيمُ ما لديّ توّقفت عن فعل ذلك وَتَرِكَتَهَا كما هي الْأَوْرَاقَ بالتّحديد هي ما اِزْدَادَ لديّ وأنا مضطرّ لِلْاِحْتِفَاظِ بها فهي وثائقَ رسميّة مهمّة لكنّني ، أَخْطَأَتْ بِعَدَمِ تَنْظِيمِ هذهِ الْأوراقِ وَالْكتبِ خَارِجَ نِطَاقِ السَّيْطَرَةِ وَلَدَي عُدَدَ كَبِيرِ من المجّلات لم أُقْرَأْهَا وهناك أَشْيَاءَ مُبَعْثَرَةٍ هنا وهناك حالَةَ الْفَوْضًىِ في غرفَتي أثّرت عليّ بأن جعلتني لا أعْرَفَ أين أَبَدْءُ وماذا عليّ أن أَفع\n"
          ]
        }
      ]
    },
    {
      "cell_type": "code",
      "source": [
        "import pyarabic.trans\n",
        "from pyarabic import araby, trans\n",
        "text=string2\n",
        "tokens = araby.tokenize(text)\n",
        "tokens_list= list (tokens)\n",
        "print(tokens_list)\n",
        "\n"
      ],
      "metadata": {
        "colab": {
          "base_uri": "https://localhost:8080/"
        },
        "id": "y7EBOX9qS0tR",
        "outputId": "68038d13-80a0-4ace-f41a-7def2b731a7f"
      },
      "execution_count": 21,
      "outputs": [
        {
          "output_type": "stream",
          "name": "stdout",
          "text": [
            "['خلالُ', 'السّنتين', 'الْمَاضِيَتَيْنِ', 'اِضْطَرَرْتُ', 'لِإضافَةِ', 'عدّة', 'أَشْيَاءَ', 'في', 'غرفَتي', 'حتّى', 'أَصْبَحَتْ', 'الْغرفَةُ', 'لا', 'تُطَاقُ', 'ولا', 'أعْرَفَ', 'ما', 'الذي', 'عليّ', 'فِعْلَهُوكلما', 'حَاوَلَتْ', 'تَنْظِيمُ', 'ما', 'لديّ', 'توّقفت', 'عن', 'فعل', 'ذلك', 'وَتَرِكَتَهَا', 'كما', 'هي', 'الْأَوْرَاقَ', 'بالتّحديد', 'هي', 'ما', 'اِزْدَادَ', 'لديّ', 'وأنا', 'مضطرّ', 'لِلْاِحْتِفَاظِ', 'بها', 'فهي', 'وثائقَ', 'رسميّة', 'مهمّة', 'لكنّني', '،', 'أَخْطَأَتْ', 'بِعَدَمِ', 'تَنْظِيمِ', 'هذهِ', 'الْأوراقِ', 'وَالْكتبِ', 'خَارِجَ', 'نِطَاقِ', 'السَّيْطَرَةِ', 'وَلَدَي', 'عُدَدَ', 'كَبِيرِ', 'من', 'المجّلات', 'لم', 'أُقْرَأْهَا', 'وهناك', 'أَشْيَاءَ', 'مُبَعْثَرَةٍ', 'هنا', 'وهناك', 'حالَةَ', 'الْفَوْضًىِ', 'في', 'غرفَتي', 'أثّرت', 'عليّ', 'بأن', 'جعلتني', 'لا', 'أعْرَفَ', 'أين', 'أَبَدْءُ', 'وماذا', 'عليّ', 'أن', 'أَفع']\n"
          ]
        }
      ]
    },
    {
      "cell_type": "code",
      "source": [
        "encoded_words = map(trans.encode_tashkeel, tokens_list)\n",
        "print(list(encoded_words))"
      ],
      "metadata": {
        "colab": {
          "base_uri": "https://localhost:8080/"
        },
        "id": "rBgvYX5GmLv_",
        "outputId": "9bc66d54-3c48-4902-f0bc-ebb7dd861845"
      },
      "execution_count": 23,
      "outputs": [
        {
          "output_type": "stream",
          "name": "stdout",
          "text": [
            "[('خلال', '000u'), ('السّنتين', '00o00000'), ('الماضيتين', '0oa0iaaoi'), ('اضطررت', 'ioaaou'), ('لإضافة', 'i000ai'), ('عدّة', '0o00'), ('أشياء', 'aoa0a'), ('في', '00'), ('غرفتي', '00a00'), ('حتّى', '0o00'), ('أصبحت', 'aoaao'), ('الغرفة', '0o00au'), ('لا', '00'), ('تطاق', 'ua0u'), ('ولا', '000'), ('أعرف', '0oaa'), ('ما', '00'), ('الذي', '0000'), ('عليّ', '00o0'), ('فعلهوكلما', 'ioau00000'), ('حاولت', 'a0aao'), ('تنظيم', 'aoi0u'), ('ما', '00'), ('لديّ', '00o0'), ('توّقفت', '0o0000'), ('عن', '00'), ('فعل', '000'), ('ذلك', '000'), ('وتركتها', 'aaiaaa0'), ('كما', '000'), ('هي', '00'), ('الأوراق', '0oaoa0a'), ('بالتّحديد', '000o00000'), ('هي', '00'), ('ما', '00'), ('ازداد', 'ioa0a'), ('لديّ', '00o0'), ('وأنا', '0000'), ('مضطرّ', '000o0'), ('للاحتفاظ', 'ioioia0i'), ('بها', '000'), ('فهي', '000'), ('وثائق', '0000a'), ('رسميّة', '000o00'), ('مهمّة', '00o00'), ('لكنّني', '00o000'), ('،', '0'), ('أخطأت', 'aoaao'), ('بعدم', 'iaai'), ('تنظيم', 'aoi0i'), ('هذه', '00i'), ('الأوراق', '0o0000i'), ('والكتب', 'a0o00i'), ('خارج', 'a0ia'), ('نطاق', 'ia0i'), ('السّيطرة', '00oaoaai'), ('ولدي', 'aaa0'), ('عدد', 'uaa'), ('كبير', 'ai0i'), ('من', '00'), ('المجّلات', '000o0000'), ('لم', '00'), ('أقرأها', 'uoaoa0'), ('وهناك', '00000'), ('أشياء', 'aoa0a'), ('مبعثرة', 'uaoaaI'), ('هنا', '000'), ('وهناك', '00000'), ('حالة', '00aa'), ('الفوضى', '0oaoAi'), ('في', '00'), ('غرفتي', '00a00'), ('أثّرت', '0o000'), ('عليّ', '00o0'), ('بأن', '000'), ('جعلتني', '000000'), ('لا', '00'), ('أعرف', '0oaa'), ('أين', '000'), ('أبدء', 'aaou'), ('وماذا', '00000'), ('عليّ', '00o0'), ('أن', '00'), ('أفع', 'a00')]\n"
          ]
        }
      ]
    },
    {
      "cell_type": "code",
      "source": [
        "import pyarabic.trans\n",
        "encoded_words = map(trans.encode_tashkeel, tokens_list)\n",
        "encoded_words_decimal = []\n",
        "for word in encoded_words:\n",
        "    encoded_word_decimal = trans.encode_tashkeel(word, \"decimal\")\n",
        "    encoded_words_decimal.append(encoded_word_decimal)\n",
        "    print(list(encoded_word_decimal))"
      ],
      "metadata": {
        "colab": {
          "base_uri": "https://localhost:8080/"
        },
        "id": "iquNVZuFeZE-",
        "outputId": "f0c7a1cc-7632-4bef-a08b-7297f55065f0"
      },
      "execution_count": 24,
      "outputs": [
        {
          "output_type": "stream",
          "name": "stdout",
          "text": [
            "['خلال000u', 0]\n",
            "['السّنتين00o00000', 0]\n",
            "['الماضيتين0oa0iaaoi', 0]\n",
            "['اضطررتioaaou', 0]\n",
            "['لإضافةi000ai', 0]\n",
            "['عدّة0o00', 0]\n",
            "['أشياءaoa0a', 0]\n",
            "['في00', 0]\n",
            "['غرفتي00a00', 0]\n",
            "['حتّى0o00', 0]\n",
            "['أصبحتaoaao', 0]\n",
            "['الغرفة0o00au', 0]\n",
            "['لا00', 0]\n",
            "['تطاقua0u', 0]\n",
            "['ولا000', 0]\n",
            "['أعرف0oaa', 0]\n",
            "['ما00', 0]\n",
            "['الذي0000', 0]\n",
            "['عليّ00o0', 0]\n",
            "['فعلهوكلماioau00000', 0]\n",
            "['حاولتa0aao', 0]\n",
            "['تنظيمaoi0u', 0]\n",
            "['ما00', 0]\n",
            "['لديّ00o0', 0]\n",
            "['توّقفت0o0000', 0]\n",
            "['عن00', 0]\n",
            "['فعل000', 0]\n",
            "['ذلك000', 0]\n",
            "['وتركتهاaaiaaa0', 0]\n",
            "['كما000', 0]\n",
            "['هي00', 0]\n",
            "['الأوراق0oaoa0a', 0]\n",
            "['بالتّحديد000o00000', 0]\n",
            "['هي00', 0]\n",
            "['ما00', 0]\n",
            "['ازدادioa0a', 0]\n",
            "['لديّ00o0', 0]\n",
            "['وأنا0000', 0]\n",
            "['مضطرّ000o0', 0]\n",
            "['للاحتفاظioioia0i', 0]\n",
            "['بها000', 0]\n",
            "['فهي000', 0]\n",
            "['وثائق0000a', 0]\n",
            "['رسميّة000o00', 0]\n",
            "['مهمّة00o00', 0]\n",
            "['لكنّني00o000', 0]\n",
            "['،0', 0]\n",
            "['أخطأتaoaao', 0]\n",
            "['بعدمiaai', 0]\n",
            "['تنظيمaoi0i', 0]\n",
            "['هذه00i', 0]\n",
            "['الأوراق0o0000i', 0]\n",
            "['والكتبa0o00i', 0]\n",
            "['خارجa0ia', 0]\n",
            "['نطاقia0i', 0]\n",
            "['السّيطرة00oaoaai', 0]\n",
            "['ولديaaa0', 0]\n",
            "['عددuaa', 0]\n",
            "['كبيرai0i', 0]\n",
            "['من00', 0]\n",
            "['المجّلات000o0000', 0]\n",
            "['لم00', 0]\n",
            "['أقرأهاuoaoa0', 0]\n",
            "['وهناك00000', 0]\n",
            "['أشياءaoa0a', 0]\n",
            "['مبعثرةuaoaaI', 0]\n",
            "['هنا000', 0]\n",
            "['وهناك00000', 0]\n",
            "['حالة00aa', 0]\n",
            "['الفوضى0oaoAi', 0]\n",
            "['في00', 0]\n",
            "['غرفتي00a00', 0]\n",
            "['أثّرت0o000', 0]\n",
            "['عليّ00o0', 0]\n",
            "['بأن000', 0]\n",
            "['جعلتني000000', 0]\n",
            "['لا00', 0]\n",
            "['أعرف0oaa', 0]\n",
            "['أين000', 0]\n",
            "['أبدءaaou', 0]\n",
            "['وماذا00000', 0]\n",
            "['عليّ00o0', 0]\n",
            "['أن00', 0]\n",
            "['أفعa00', 0]\n"
          ]
        }
      ]
    },
    {
      "cell_type": "code",
      "source": [
        "def segmenter_en_lettres(phrase):\n",
        "    phrase_segmentee = ' # '.join(' '.join(mot) for mot in phrase.split())\n",
        "    return phrase_segmentee\n",
        "\n",
        "phrase_complete = \"كِتَابُ الْوُضُوءِ مَا جَاءَ فِي الْوُضُوءِ قَالَ سَحْنُون\"\n",
        "resultat = segmenter_en_lettres(phrase_complete)\n",
        "print(resultat)\n",
        "\n",
        "\n"
      ],
      "metadata": {
        "colab": {
          "base_uri": "https://localhost:8080/"
        },
        "id": "F7PVPWDfw1V-",
        "outputId": "b3332eb2-c632-4d35-f376-219bf8c51b22"
      },
      "execution_count": null,
      "outputs": [
        {
          "output_type": "stream",
          "name": "stdout",
          "text": [
            "ك ِ ت َ ا ب ُ # ا ل ْ و ُ ض ُ و ء ِ # م َ ا # ج َ ا ء َ # ف ِ ي # ا ل ْ و ُ ض ُ و ء ِ # ق َ ا ل َ # س َ ح ْ ن ُ و ن\n"
          ]
        }
      ]
    },
    {
      "cell_type": "code",
      "source": [
        "def segmenter_en_lettres(phrase):\n",
        "    voyelles = \"aeiouAEIOU\"  # Liste des voyelles à supprimer\n",
        "    phrase_complete = \" # ا ل ْ و ُ ض ُ و ء ِ # م َ ا # ج َ ا ء َ # ف ِ ي # ا ل ْ و ُ ض ُ و ء ِ # ق َ ا ل َ # س َ ح ْ ن ُ و ن\"\n",
        "    def supprimer_voyelles(mot):\n",
        "        return ''.join(caractere for caractere in mot if caractere not in voyelles)\n",
        "    resultat = supprimer_voyelles(phrase_complete)\n",
        "    print(resultat)"
      ],
      "metadata": {
        "id": "08xcwUhd3seo"
      },
      "execution_count": null,
      "outputs": []
    }
  ]
}