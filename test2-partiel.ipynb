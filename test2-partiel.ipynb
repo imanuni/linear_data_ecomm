{
  "nbformat": 4,
  "nbformat_minor": 0,
  "metadata": {
    "colab": {
      "provenance": [],
      "authorship_tag": "ABX9TyM9qqVCOhKXBUcvo8twSs3P",
      "include_colab_link": true
    },
    "kernelspec": {
      "name": "python3",
      "display_name": "Python 3"
    },
    "language_info": {
      "name": "python"
    }
  },
  "cells": [
    {
      "cell_type": "markdown",
      "metadata": {
        "id": "view-in-github",
        "colab_type": "text"
      },
      "source": [
        "<a href=\"https://colab.research.google.com/github/imanuni/linear_data_ecomm/blob/main/test2-partiel.ipynb\" target=\"_parent\"><img src=\"https://colab.research.google.com/assets/colab-badge.svg\" alt=\"Open In Colab\"/></a>"
      ]
    },
    {
      "cell_type": "code",
      "execution_count": 35,
      "metadata": {
        "colab": {
          "base_uri": "https://localhost:8080/"
        },
        "id": "sxQ6H7Xke89_",
        "outputId": "ef2a8f35-b149-4f01-a528-cd8fd286aea6"
      },
      "outputs": [
        {
          "output_type": "stream",
          "name": "stdout",
          "text": [
            "0\n"
          ]
        }
      ],
      "source": [
        "import nltk\n",
        "import collections\n",
        "\n",
        "# Créez un corpus de données\n",
        "corpus = [\"ك ِ ت َ ا ب ُ  ا ل ْ و ُ ض ُ و ء ِم َ ا  ج َ ا ء َ ف ِ ي ا ل ْ و ُ ض ُ و ء ِ ق َ ا ل َ  س َ ح ْ ن ُ و ن\"]\n",
        "\n",
        "# Créez un modèle de langage 3-gramme\n",
        "ngram_model = collections.Counter(nltk.ngrams(corpus, 3))\n",
        "\n",
        "# Obtenez la probabilité d'une séquence de mots\n",
        "print(ngram_model[\" ُ و \"])"
      ]
    },
    {
      "cell_type": "code",
      "source": [
        "import numpy as np\n",
        "import pandas as pd\n",
        "\n",
        "def vocaliser(c):\n",
        "    \"\"\"\n",
        "    Vocalise le caractère c.\n",
        "\n",
        "    Args:\n",
        "        c: Le caractère à vocaliser.\n",
        "\n",
        "    Returns:\n",
        "        La vocalisation du caractère c.\n",
        "    \"\"\"\n",
        "\n",
        "    Pr_C = {\"a\": 0.5, \"b\": 0.25, \"c\": 0.25}\n",
        "    Pr_C_S = {\n",
        "        (\"a\", \"ah\"): 0.8,\n",
        "        (\"a\", \"aa\"): 0.2,\n",
        "        (\"b\", \"bah\"): 0.8,\n",
        "        (\"b\", \"bb\"): 0.2,\n",
        "        (\"c\", \"ch\"): 0.8,\n",
        "        (\"c\", \"cc\"): 0.2,\n",
        "    }\n",
        "\n",
        "    Pr_t = {}\n",
        "    for t in Pr_C_S.keys():\n",
        "        Pr_t[t] = Pr_C_S[t] * Pr_C[c]\n",
        "\n",
        "    t_max = max(Pr_t, key=lambda x: x[0])[1]\n",
        "    return t_max\n",
        "\n",
        "print(vocaliser(\"a\"))"
      ],
      "metadata": {
        "colab": {
          "base_uri": "https://localhost:8080/"
        },
        "id": "twMXyggWqbSO",
        "outputId": "87bd7532-7641-4b41-b502-fb28050bd9c5"
      },
      "execution_count": 44,
      "outputs": [
        {
          "output_type": "stream",
          "name": "stdout",
          "text": [
            "ch\n"
          ]
        }
      ]
    },
    {
      "cell_type": "code",
      "source": [
        "import re\n",
        "\n",
        "# Définition de la fonction Fré()\n",
        "def Fré(sequence):\n",
        "    \"\"\"Calcul la fréquence d'une séquence dans un corpus.\"\"\"\n",
        "\n",
        "    count = 0\n",
        "    for line in corpus:\n",
        "        if sequence[0] in line and sequence[1] in line:\n",
        "            count += 1\n",
        "    return count / len(corpus)\n",
        "\n",
        "# Définition de la fonction Pr()\n",
        "def Pr(m, h):\n",
        "    \"\"\"Calcul la probabilité d'apparition d'une paire sachant son historique.\"\"\"\n",
        "\n",
        "    return Fré((m, h)) / Fré(h)\n",
        "\n",
        "# Définition du corpus\n",
        "corpus = [\"ا ل ْ و ُ ض ُ و ء \", \"ا ل ْ و ُ ض ُ و ء ِ\", \"ا ل ْ و ُ ض ُ و ء ِ\"]\n",
        "\n",
        "# Exemple d'utilisation\n",
        "print(Pr(\"و \",\"ض ُ\"))"
      ],
      "metadata": {
        "colab": {
          "base_uri": "https://localhost:8080/"
        },
        "id": "5QYAxcGA6YHi",
        "outputId": "7e924921-8951-4548-d7e5-b9c9623bb48b"
      },
      "execution_count": 59,
      "outputs": [
        {
          "output_type": "stream",
          "name": "stdout",
          "text": [
            "1.0\n"
          ]
        }
      ]
    }
  ]
}